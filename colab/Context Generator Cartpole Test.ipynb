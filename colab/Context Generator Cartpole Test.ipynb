{
 "cells": [
  {
   "cell_type": "markdown",
   "metadata": {},
   "source": [
    "OSAR Context Generator PoW test\n",
    "\n",
    "**Author:** [Konstantin Ustyuzhanin](https://www.facebook.com/konstantin.ustuzhanin/)<br>\n",
    "**Date created:** 2021/01/27<br>\n",
    "**Last modified:** 2021/02/10<br>\n",
    "**Description:** Implement Objective Stimuli Active Repeater (OSAR) Context Generator."
   ]
  },
  {
   "cell_type": "markdown",
   "metadata": {},
   "source": [
    "# Installations and imports"
   ]
  },
  {
   "cell_type": "code",
   "execution_count": 1,
   "metadata": {},
   "outputs": [
    {
     "name": "stdout",
     "output_type": "stream",
     "text": [
      "Processing d:\\jorgen\\projects\\python\\phdsub\\towerproject\\osar-keras\n",
      "Requirement already satisfied: tensorflow>=2.3.0 in c:\\anaconda3\\lib\\site-packages (from OSAR==0.1.4) (2.3.0)\n",
      "Requirement already satisfied: importlib-metadata~=1.0 in c:\\anaconda3\\lib\\site-packages (from OSAR==0.1.4) (1.5.0)\n",
      "Requirement already satisfied: opt-einsum>=2.3.2 in c:\\anaconda3\\lib\\site-packages (from tensorflow>=2.3.0->OSAR==0.1.4) (3.2.1)\n",
      "Requirement already satisfied: termcolor>=1.1.0 in c:\\anaconda3\\lib\\site-packages (from tensorflow>=2.3.0->OSAR==0.1.4) (1.1.0)\n",
      "Requirement already satisfied: six>=1.12.0 in c:\\anaconda3\\lib\\site-packages (from tensorflow>=2.3.0->OSAR==0.1.4) (1.14.0)\n",
      "Requirement already satisfied: wheel>=0.26 in c:\\anaconda3\\lib\\site-packages (from tensorflow>=2.3.0->OSAR==0.1.4) (0.34.2)\n",
      "Requirement already satisfied: grpcio>=1.8.6 in c:\\anaconda3\\lib\\site-packages (from tensorflow>=2.3.0->OSAR==0.1.4) (1.29.0)\n",
      "Requirement already satisfied: absl-py>=0.7.0 in c:\\anaconda3\\lib\\site-packages (from tensorflow>=2.3.0->OSAR==0.1.4) (0.9.0)\n",
      "Requirement already satisfied: gast==0.3.3 in c:\\users\\jorgen\\appdata\\roaming\\python\\python37\\site-packages (from tensorflow>=2.3.0->OSAR==0.1.4) (0.3.3)\n",
      "Requirement already satisfied: google-pasta>=0.1.8 in c:\\anaconda3\\lib\\site-packages (from tensorflow>=2.3.0->OSAR==0.1.4) (0.2.0)\n",
      "Requirement already satisfied: keras-preprocessing<1.2,>=1.1.1 in c:\\anaconda3\\lib\\site-packages (from tensorflow>=2.3.0->OSAR==0.1.4) (1.1.2)\n",
      "Requirement already satisfied: numpy<1.19.0,>=1.16.0 in c:\\anaconda3\\lib\\site-packages (from tensorflow>=2.3.0->OSAR==0.1.4) (1.18.5)\n",
      "Requirement already satisfied: astunparse==1.6.3 in c:\\anaconda3\\lib\\site-packages (from tensorflow>=2.3.0->OSAR==0.1.4) (1.6.3)\n",
      "Requirement already satisfied: h5py<2.11.0,>=2.10.0 in c:\\anaconda3\\lib\\site-packages (from tensorflow>=2.3.0->OSAR==0.1.4) (2.10.0)\n",
      "Requirement already satisfied: protobuf>=3.9.2 in c:\\anaconda3\\lib\\site-packages (from tensorflow>=2.3.0->OSAR==0.1.4) (3.14.0)\n",
      "Requirement already satisfied: tensorboard<3,>=2.3.0 in c:\\anaconda3\\lib\\site-packages (from tensorflow>=2.3.0->OSAR==0.1.4) (2.3.0)\n",
      "Requirement already satisfied: scipy==1.4.1 in c:\\anaconda3\\lib\\site-packages (from tensorflow>=2.3.0->OSAR==0.1.4) (1.4.1)\n",
      "Requirement already satisfied: tensorflow-estimator<2.4.0,>=2.3.0 in c:\\anaconda3\\lib\\site-packages (from tensorflow>=2.3.0->OSAR==0.1.4) (2.3.0)\n",
      "Requirement already satisfied: wrapt>=1.11.1 in c:\\users\\jorgen\\appdata\\roaming\\python\\python37\\site-packages (from tensorflow>=2.3.0->OSAR==0.1.4) (1.11.1)\n",
      "Requirement already satisfied: zipp>=0.5 in c:\\anaconda3\\lib\\site-packages (from importlib-metadata~=1.0->OSAR==0.1.4) (2.2.0)\n",
      "Requirement already satisfied: requests<3,>=2.21.0 in c:\\anaconda3\\lib\\site-packages (from tensorboard<3,>=2.3.0->tensorflow>=2.3.0->OSAR==0.1.4) (2.22.0)\n",
      "Requirement already satisfied: tensorboard-plugin-wit>=1.6.0 in c:\\anaconda3\\lib\\site-packages (from tensorboard<3,>=2.3.0->tensorflow>=2.3.0->OSAR==0.1.4) (1.6.0.post3)\n",
      "Requirement already satisfied: werkzeug>=0.11.15 in c:\\anaconda3\\lib\\site-packages (from tensorboard<3,>=2.3.0->tensorflow>=2.3.0->OSAR==0.1.4) (1.0.0)\n",
      "Requirement already satisfied: setuptools>=41.0.0 in c:\\anaconda3\\lib\\site-packages (from tensorboard<3,>=2.3.0->tensorflow>=2.3.0->OSAR==0.1.4) (45.2.0.post20200210)\n",
      "Requirement already satisfied: google-auth-oauthlib<0.5,>=0.4.1 in c:\\anaconda3\\lib\\site-packages (from tensorboard<3,>=2.3.0->tensorflow>=2.3.0->OSAR==0.1.4) (0.4.1)\n",
      "Requirement already satisfied: google-auth<2,>=1.6.3 in c:\\anaconda3\\lib\\site-packages (from tensorboard<3,>=2.3.0->tensorflow>=2.3.0->OSAR==0.1.4) (1.15.0)\n",
      "Requirement already satisfied: markdown>=2.6.8 in c:\\anaconda3\\lib\\site-packages (from tensorboard<3,>=2.3.0->tensorflow>=2.3.0->OSAR==0.1.4) (3.2.2)\n",
      "Requirement already satisfied: urllib3!=1.25.0,!=1.25.1,<1.26,>=1.21.1 in c:\\anaconda3\\lib\\site-packages (from requests<3,>=2.21.0->tensorboard<3,>=2.3.0->tensorflow>=2.3.0->OSAR==0.1.4) (1.25.8)\n",
      "Requirement already satisfied: certifi>=2017.4.17 in c:\\anaconda3\\lib\\site-packages (from requests<3,>=2.21.0->tensorboard<3,>=2.3.0->tensorflow>=2.3.0->OSAR==0.1.4) (2019.11.28)\n",
      "Requirement already satisfied: chardet<3.1.0,>=3.0.2 in c:\\anaconda3\\lib\\site-packages (from requests<3,>=2.21.0->tensorboard<3,>=2.3.0->tensorflow>=2.3.0->OSAR==0.1.4) (3.0.4)\n",
      "Requirement already satisfied: idna<2.9,>=2.5 in c:\\anaconda3\\lib\\site-packages (from requests<3,>=2.21.0->tensorboard<3,>=2.3.0->tensorflow>=2.3.0->OSAR==0.1.4) (2.8)\n",
      "Requirement already satisfied: requests-oauthlib>=0.7.0 in c:\\anaconda3\\lib\\site-packages (from google-auth-oauthlib<0.5,>=0.4.1->tensorboard<3,>=2.3.0->tensorflow>=2.3.0->OSAR==0.1.4) (1.3.0)\n",
      "Requirement already satisfied: rsa<4.1,>=3.1.4 in c:\\anaconda3\\lib\\site-packages (from google-auth<2,>=1.6.3->tensorboard<3,>=2.3.0->tensorflow>=2.3.0->OSAR==0.1.4) (4.0)\n",
      "Requirement already satisfied: pyasn1-modules>=0.2.1 in c:\\anaconda3\\lib\\site-packages (from google-auth<2,>=1.6.3->tensorboard<3,>=2.3.0->tensorflow>=2.3.0->OSAR==0.1.4) (0.2.8)\n",
      "Requirement already satisfied: cachetools<5.0,>=2.0.0 in c:\\anaconda3\\lib\\site-packages (from google-auth<2,>=1.6.3->tensorboard<3,>=2.3.0->tensorflow>=2.3.0->OSAR==0.1.4) (4.1.0)\n",
      "Requirement already satisfied: oauthlib>=3.0.0 in c:\\anaconda3\\lib\\site-packages (from requests-oauthlib>=0.7.0->google-auth-oauthlib<0.5,>=0.4.1->tensorboard<3,>=2.3.0->tensorflow>=2.3.0->OSAR==0.1.4) (3.1.0)\n",
      "Requirement already satisfied: pyasn1>=0.1.3 in c:\\anaconda3\\lib\\site-packages (from rsa<4.1,>=3.1.4->google-auth<2,>=1.6.3->tensorboard<3,>=2.3.0->tensorflow>=2.3.0->OSAR==0.1.4) (0.4.8)\n",
      "Building wheels for collected packages: OSAR\n",
      "  Building wheel for OSAR (setup.py): started\n",
      "  Building wheel for OSAR (setup.py): finished with status 'done'\n",
      "  Created wheel for OSAR: filename=OSAR-0.1.4-py3-none-any.whl size=73997 sha256=ad190537143a9ebed3fa0d7ab64c822fa5d94af577a3e509c90ea5b7ae20266a\n",
      "  Stored in directory: c:\\users\\jorgen\\appdata\\local\\pip\\cache\\wheels\\c1\\47\\9b\\5ea3916f9076eb35b20fd4c74a83a23ec1402cdf3663dfcd90\n",
      "Successfully built OSAR\n",
      "Installing collected packages: OSAR\n",
      "  Attempting uninstall: OSAR\n",
      "    Found existing installation: OSAR 0.1.4\n",
      "    Uninstalling OSAR-0.1.4:\n",
      "      Successfully uninstalled OSAR-0.1.4\n",
      "Successfully installed OSAR-0.1.4\n"
     ]
    }
   ],
   "source": [
    "import sys\n",
    "# !pip install -q gym\n",
    "# Install additional packages for visualization\n",
    "if sys.platform != 'win32':\n",
    "    !sudo apt-get install -y xvfb python-opengl > /dev/null 2>&1\n",
    "# !pip install pyvirtualdisplay #> /dev/null 2>&1\n",
    "# !pip install -q imageio == 2.4.0\n",
    "# !pip install PILLOW\n",
    "# !pip install pyglet\n",
    "# !pip install -q git+https://github.com/tensorflow/docs > /dev/null 2>&1\n",
    "# !pip install https://github.com/ustyuzhaninky/OSAR-keras\n",
    "!pip install ../../OSAR-keras/."
   ]
  },
  {
   "cell_type": "code",
   "execution_count": 2,
   "metadata": {},
   "outputs": [
    {
     "name": "stdout",
     "output_type": "stream",
     "text": [
      "TensorFlow version: 2.3.0\n",
      "Eager execution: True\n"
     ]
    }
   ],
   "source": [
    "import os\n",
    "import collections\n",
    "import gym\n",
    "import numpy as np\n",
    "import tensorflow as tf\n",
    "import tqdm\n",
    "\n",
    "from matplotlib import pyplot as plt\n",
    "from tensorflow.keras import layers\n",
    "from typing import Any, List, Sequence, Tuple\n",
    "import numpy as np\n",
    "\n",
    "from tensorflow.keras import layers\n",
    "os.environ['TF_KERAS'] = '1'\n",
    "os.environ['TF_CPP_MIN_LOG_LEVEL'] = '3'\n",
    "\n",
    "print(\"TensorFlow version: {}\".format(tf.__version__))\n",
    "print(\"Eager execution: {}\".format(tf.executing_eagerly()))\n",
    "# Configuration parameters for the whole setup\n",
    "seed = 42"
   ]
  },
  {
   "cell_type": "markdown",
   "metadata": {},
   "source": [
    "# Environment"
   ]
  },
  {
   "cell_type": "code",
   "execution_count": 3,
   "metadata": {},
   "outputs": [],
   "source": [
    "gamma = 0.99  # Discount factor for past rewards\n",
    "max_steps_per_episode = 10000\n",
    "env = gym.make(\"CartPole-v0\")  # Create the environment\n",
    "env.seed(seed)\n",
    "eps = np.finfo(np.float32).eps.item()  # Smallest number such that 1.0 + eps != 1.0"
   ]
  },
  {
   "cell_type": "markdown",
   "metadata": {},
   "source": [
    "# Agent generator"
   ]
  },
  {
   "cell_type": "code",
   "execution_count": 4,
   "metadata": {
    "scrolled": false
   },
   "outputs": [],
   "source": [
    "from OSAR import ContextGenerator"
   ]
  },
  {
   "cell_type": "code",
   "execution_count": 5,
   "metadata": {},
   "outputs": [],
   "source": [
    "def train_step(\n",
    "    initial_state: tf.Tensor, \n",
    "    model: tf.keras.Model, \n",
    "    optimizer: tf.keras.optimizers.Optimizer, \n",
    "    gamma: float, \n",
    "    max_steps_per_episode: int,\n",
    "    initial_action=tf.zeros((1, 10,), dtype=tf.float32),\n",
    "    m_type:int=1) -> Tuple[tf.Tensor, List[tf.Tensor]]:\n",
    "    \"\"\"Runs a model training step.\"\"\"\n",
    "\n",
    "    with tf.GradientTape() as tape:\n",
    "\n",
    "        # Run the model for one episode to collect training data\n",
    "        action_probs, values, rewards, x_values = run_episode(\n",
    "            initial_state, model, max_steps_per_episode, m_type=m_type, initial_action=initial_action) \n",
    "\n",
    "        # Calculate expected returns\n",
    "        returns = get_expected_return(rewards, gamma)\n",
    "\n",
    "        # Convert training data to appropriate TF tensor shapes\n",
    "        action_probs, values, returns = [\n",
    "            tf.expand_dims(x, 1) for x in [action_probs, values, returns]] \n",
    "\n",
    "        # Calculating loss values to update our network\n",
    "        loss = compute_loss(action_probs, values, returns)\n",
    "\n",
    "        # Compute the gradients from the loss\n",
    "        grads = tape.gradient(loss, model.trainable_variables)\n",
    "\n",
    "        # Apply the gradients to the model's parameters\n",
    "        optimizer.apply_gradients(zip(grads, model.trainable_variables))\n",
    "\n",
    "    episode_reward = tf.math.reduce_sum(rewards)\n",
    "    episode_x = tf.math.reduce_mean(x_values)\n",
    "    episode_loss = tf.math.reduce_mean(loss)\n",
    "    episode_actions = tf.math.reduce_mean(action_probs)\n",
    "    episode_values = tf.math.reduce_sum(values)\n",
    "\n",
    "    return episode_reward, [episode_reward, episode_x, episode_loss, episode_actions, episode_values]"
   ]
  },
  {
   "cell_type": "code",
   "execution_count": 6,
   "metadata": {},
   "outputs": [],
   "source": [
    "def get_baseline(num_hidden=10, num_inputs=env.observation_space.high.shape[0],\n",
    "                 num_actions=env.action_space.n):\n",
    "    \n",
    "    class ActorCritic(tf.keras.Model):\n",
    "        \"\"\"Combined actor-critic network.\"\"\"\n",
    "\n",
    "        def __init__(\n",
    "                self, \n",
    "                num_actions: int, \n",
    "                num_hidden_units: int):\n",
    "            \"\"\"Initialize.\"\"\"\n",
    "            super().__init__()\n",
    "            self.num_hidden_units = num_hidden_units\n",
    "            self.common = layers.Dense(num_hidden_units, activation=\"relu\")\n",
    "            self.actor = layers.Dense(num_actions)\n",
    "            self.critic = layers.Dense(1)\n",
    "        \n",
    "        @tf.function\n",
    "        def train_step(self, initial_state: tf.Tensor, \n",
    "            optimizer: tf.keras.optimizers.Optimizer, \n",
    "            gamma: float, \n",
    "            max_steps_per_episode: int,\n",
    "            initial_action=tf.zeros((1, 10,), dtype=tf.float32)) -> Tuple[tf.Tensor, List[tf.Tensor]]:\n",
    "            return train_step(\n",
    "                initial_state, self, optimizer, gamma,\n",
    "                max_steps_per_episode, m_type=1,\n",
    "                initial_action=tf.zeros((1, self.num_hidden_units,), dtype=tf.float32))\n",
    "\n",
    "        def call(self, inputs: tf.Tensor) -> Tuple[tf.Tensor, tf.Tensor, tf.Tensor]:\n",
    "            x = self.common(inputs)\n",
    "            return self.actor(x), self.critic(x), x\n",
    "\n",
    "    agent = ActorCritic(num_actions, num_hidden)\n",
    "    agent.compile(loss=tf.keras.losses.Huber, optimizer=tf.keras.optimizers.Adam(learning_rate=0.01), run_eagerly=False)\n",
    "    return agent\n",
    "\n",
    "def get_GRU(num_hidden=10, num_inputs=env.observation_space.high.shape[0],\n",
    "            num_actions=env.action_space.n,\n",
    "            batch_size=1,\n",
    "            memory_dpi=10,\n",
    "            n_turns=3):\n",
    "    \n",
    "    class ActorCritic(tf.keras.Model):\n",
    "        \"\"\"Combined actor-critic network.\"\"\"\n",
    "\n",
    "        def __init__(\n",
    "                self, \n",
    "                num_actions: int, \n",
    "                num_hidden_units: int,):\n",
    "            \"\"\"Initialize.\"\"\"\n",
    "            super().__init__()\n",
    "            self.num_hidden_units = num_hidden_units\n",
    "#             self.common = layers.Dense(num_hidden_units, activation=\"relu\")\n",
    "            self.gru = tf.keras.layers.GRU(num_hidden_units,\n",
    "                     kernel_regularizer='l2',\n",
    "                     dropout=0.2,\n",
    "                     recurrent_dropout=0.2,\n",
    "                     bias_regularizer='l2',\n",
    "                     )\n",
    "            self.actor = layers.Dense(num_actions)\n",
    "            self.critic = layers.Dense(1)\n",
    "        \n",
    "        @tf.function\n",
    "        def train_step(self, initial_state: tf.Tensor, \n",
    "            optimizer: tf.keras.optimizers.Optimizer, \n",
    "            gamma: float, \n",
    "            max_steps_per_episode: int,\n",
    "            initial_action=tf.zeros((1, 10,), dtype=tf.float32)) -> Tuple[tf.Tensor, List[tf.Tensor]]:\n",
    "            return train_step(\n",
    "                initial_state, self, optimizer, gamma,\n",
    "                max_steps_per_episode, m_type=1,\n",
    "                initial_action=tf.zeros((1, self.num_hidden_units,), dtype=tf.float32))\n",
    "        \n",
    "        def call(self, inputs: tf.Tensor) -> Tuple[tf.Tensor, tf.Tensor, tf.Tensor]:\n",
    "#             state = self.common(inputs)\n",
    "            state = tf.expand_dims(inputs, axis=1)\n",
    "            x = self.gru(state)\n",
    "            \n",
    "            return self.actor(x), self.critic(x), x\n",
    "    agent = ActorCritic(num_actions, num_hidden)\n",
    "    agent.compile(loss=tf.keras.losses.Huber, optimizer=tf.keras.optimizers.Adam(learning_rate=0.01), run_eagerly=False)\n",
    "    return agent\n",
    "    \n",
    "def get_OSAR(num_hidden=10, num_inputs=env.observation_space.high.shape[0],\n",
    "             num_actions=env.action_space.n,\n",
    "             batch_size=1,\n",
    "             memory_dpi=10,\n",
    "             n_turns=3):\n",
    "    \n",
    "    class ActorCritic(tf.keras.Model):\n",
    "        \"\"\"Combined actor-critic network.\"\"\"\n",
    "\n",
    "        def __init__(\n",
    "                self, \n",
    "                num_actions: int, \n",
    "                num_hidden_units: int,\n",
    "                memory_len: int,\n",
    "                n_turns: int):\n",
    "            \"\"\"Initialize.\"\"\"\n",
    "            super().__init__()\n",
    "            self.num_hidden_units = num_hidden_units\n",
    "#             self.common = layers.Dense(num_hidden_units, activation=\"relu\")\n",
    "            self.generator = ContextGenerator(num_hidden_units,\n",
    "                     batch_size,\n",
    "                     memory_len,\n",
    "                     n_turns,\n",
    "                     kernel_regularizer='l2',\n",
    "                     bias_regularizer='l2',\n",
    "                     )\n",
    "            self.gru = tf.keras.layers.GRU(num_hidden_units,\n",
    "                     kernel_regularizer='l2',\n",
    "                     dropout=0.2,\n",
    "                     recurrent_dropout=0.2,\n",
    "                     bias_regularizer='l2',\n",
    "                     )\n",
    "            self.actor = layers.Dense(num_actions)\n",
    "            self.critic = layers.Dense(1)\n",
    "        \n",
    "        @tf.function\n",
    "        def train_step(self, initial_state: tf.Tensor, \n",
    "            optimizer: tf.keras.optimizers.Optimizer, \n",
    "            gamma: float, \n",
    "            max_steps_per_episode: int,\n",
    "            initial_action=tf.zeros((1, 10,), dtype=tf.float32)) -> Tuple[tf.Tensor, List[tf.Tensor]]:\n",
    "            return train_step(\n",
    "                initial_state, self, optimizer, gamma,\n",
    "                max_steps_per_episode, m_type=2,\n",
    "                initial_action=tf.zeros((1, self.num_hidden_units,), dtype=tf.float32))\n",
    "        \n",
    "        def call(self, inputs: List[tf.Tensor]) -> Tuple[tf.Tensor, tf.Tensor, tf.Tensor]:\n",
    "            state = inputs[0]\n",
    "            reward = tf.cast(inputs[1], tf.float32)\n",
    "            action = inputs[2]\n",
    "#             state = self.common(state)\n",
    "            state = tf.expand_dims(state, axis=1)\n",
    "            reward = tf.expand_dims(reward, axis=1)\n",
    "            action = tf.expand_dims(action, axis=1)\n",
    "            generator = self.generator([state, reward, action])\n",
    "            tiled_state = tf.tile(state, (1, generator.shape[1], 1))\n",
    "            x = self.gru(tf.concat([generator, tiled_state], axis=-1))\n",
    "            \n",
    "            return self.actor(x), self.critic(x), x#[:, -1, -num_hidden:]\n",
    "    agent = ActorCritic(num_actions, num_hidden, memory_dpi, n_turns)\n",
    "    agent.compile(loss=tf.keras.losses.Huber, optimizer=tf.keras.optimizers.Adam(learning_rate=0.01), run_eagerly=False)\n",
    "    return agent"
   ]
  },
  {
   "cell_type": "markdown",
   "metadata": {},
   "source": [
    "# Functions"
   ]
  },
  {
   "cell_type": "code",
   "execution_count": 7,
   "metadata": {},
   "outputs": [],
   "source": [
    "def env_step(action: np.ndarray) -> Tuple[np.ndarray, np.ndarray, np.ndarray]:\n",
    "    \"\"\"Returns state, reward and done flag given an action.\"\"\"\n",
    "\n",
    "    state, reward, done, _ = env.step(action)\n",
    "    return (state.astype(np.float32), \n",
    "            np.array(reward, np.int32), \n",
    "            np.array(done, np.int32))\n",
    "\n",
    "\n",
    "def tf_env_step(action: tf.Tensor) -> List[tf.Tensor]:\n",
    "    return tf.numpy_function(env_step, [action], \n",
    "                             [tf.float32, tf.int32, tf.int32])"
   ]
  },
  {
   "cell_type": "code",
   "execution_count": 8,
   "metadata": {},
   "outputs": [],
   "source": [
    "def run_episode(\n",
    "    initial_state: tf.Tensor,\n",
    "    model: tf.keras.Model,\n",
    "    max_steps: int,\n",
    "    m_type: int=1,\n",
    "    initial_reward: tf.Tensor = tf.zeros((1, 1), dtype=tf.int32), \n",
    "    initial_action: tf.Tensor = None,\n",
    ") -> List[tf.Tensor]:\n",
    "    \"\"\"Runs a single episode to collect training data.\"\"\"\n",
    "\n",
    "    action_probs = tf.TensorArray(dtype=tf.float32, size=0, dynamic_size=True)\n",
    "    values = tf.TensorArray(dtype=tf.float32, size=0, dynamic_size=True)\n",
    "    rewards = tf.TensorArray(dtype=tf.int32, size=0, dynamic_size=True)\n",
    "    x_values = tf.TensorArray(dtype=tf.float32, size=0, dynamic_size=True)\n",
    "\n",
    "    initial_state_shape = initial_state.shape\n",
    "    state = initial_state\n",
    "    last_action = initial_action\n",
    "    reward = initial_reward\n",
    "        \n",
    "    for t in tf.range(max_steps):\n",
    "        tf.autograph.experimental.set_loop_options(\n",
    "            shape_invariants=[(reward, tf.TensorShape([1, 1]))]\n",
    "            )\n",
    "        \n",
    "        # Convert state into a batched tensor (batch size = 1)\n",
    "        state = tf.expand_dims(state, 0)\n",
    "        \n",
    "        # Run the model and to get action probabilities and critic value\n",
    "        if m_type == 1:\n",
    "            action_logits_t, value, last_action = model(state)\n",
    "        else:\n",
    "            action_logits_t, value, last_action = model([state, reward, tf.nn.softmax(last_action)])\n",
    "        \n",
    "        # store last_action values\n",
    "        x_values = x_values.write(t, last_action)\n",
    "        \n",
    "        # Sample next action from the action probability distribution\n",
    "        action = tf.random.categorical(action_logits_t, env.action_space.n)[0, 0]\n",
    "        action_probs_t = tf.nn.softmax(action_logits_t)\n",
    "        \n",
    "        # Store critic values\n",
    "        values = values.write(t, tf.squeeze(value))\n",
    "\n",
    "        # Store log probability of the action chosen\n",
    "        action_probs = action_probs.write(t, action_probs_t[0, action])\n",
    "\n",
    "        # Apply action to the environment to get next state and reward\n",
    "        state, episode_reward, done = tf_env_step(action)\n",
    "        state.set_shape(initial_state_shape)\n",
    "\n",
    "        # Store reward\n",
    "        rewards = rewards.write(t, episode_reward)\n",
    "        reward = tf.expand_dims(tf.reshape(episode_reward, (1,)), 0)\n",
    "\n",
    "        if tf.cast(done, tf.bool):\n",
    "            break\n",
    "\n",
    "    action_probs = action_probs.stack()\n",
    "    values = values.stack()\n",
    "    rewards = rewards.stack()\n",
    "    x_values = x_values.stack()\n",
    "\n",
    "    return action_probs, values, rewards, x_values"
   ]
  },
  {
   "cell_type": "code",
   "execution_count": 9,
   "metadata": {},
   "outputs": [],
   "source": [
    "def get_expected_return(\n",
    "    rewards: tf.Tensor, \n",
    "    gamma: float, \n",
    "    standardize: bool = True) -> tf.Tensor:\n",
    "    \"\"\"Compute expected returns per timestep.\"\"\"\n",
    "\n",
    "    n = tf.shape(rewards)[0]\n",
    "    returns = tf.TensorArray(dtype=tf.float32, size=n)\n",
    "\n",
    "    # Start from the end of `rewards` and accumulate reward sums\n",
    "    # into the `returns` array\n",
    "    rewards = tf.cast(rewards[::-1], dtype=tf.float32)\n",
    "    discounted_sum = tf.constant(0.0)\n",
    "    discounted_sum_shape = discounted_sum.shape\n",
    "    for i in tf.range(n):\n",
    "        reward = rewards[i]\n",
    "        discounted_sum = reward + gamma * discounted_sum\n",
    "        discounted_sum.set_shape(discounted_sum_shape)\n",
    "        returns = returns.write(i, discounted_sum)\n",
    "    returns = returns.stack()[::-1]\n",
    "\n",
    "    if standardize:\n",
    "        returns = ((returns - tf.math.reduce_mean(returns)) / \n",
    "                   (tf.math.reduce_std(returns) + eps))\n",
    "\n",
    "    return returns"
   ]
  },
  {
   "cell_type": "code",
   "execution_count": 10,
   "metadata": {},
   "outputs": [],
   "source": [
    "huber_loss = tf.keras.losses.Huber(reduction=tf.keras.losses.Reduction.SUM)\n",
    "\n",
    "def compute_loss(\n",
    "    action_probs: tf.Tensor,  \n",
    "    values: tf.Tensor,  \n",
    "    returns: tf.Tensor) -> tf.Tensor:\n",
    "    \"\"\"Computes the combined actor-critic loss.\"\"\"\n",
    "\n",
    "    advantage = returns - values\n",
    "\n",
    "    action_log_probs = tf.math.log(action_probs)\n",
    "    actor_loss = -tf.math.reduce_sum(action_log_probs * advantage)\n",
    "\n",
    "    critic_loss = huber_loss(values, returns)\n",
    "\n",
    "    return actor_loss + critic_loss"
   ]
  },
  {
   "cell_type": "code",
   "execution_count": 11,
   "metadata": {},
   "outputs": [],
   "source": [
    "optimizer = tf.keras.optimizers.Adam(learning_rate=0.01)"
   ]
  },
  {
   "cell_type": "code",
   "execution_count": 12,
   "metadata": {},
   "outputs": [],
   "source": [
    "def run(model:tf.keras.Model,\n",
    "        inits:int,\n",
    "        max_episodes:int,\n",
    "        max_steps_per_episode:int,\n",
    "        reward_threshold:float,\n",
    "        gamma:int,\n",
    "        m_type:int=1) -> List[tf.Tensor]:\n",
    "    \n",
    "    running_reward = 0\n",
    "    train_history = tf.TensorArray(dtype=tf.float32, size=0, dynamic_size=True)\n",
    "    \n",
    "    with tqdm.trange(max_episodes) as t:\n",
    "        for i in t:\n",
    "            initial_state = tf.constant(env.reset(), dtype=tf.float32)\n",
    "            episode_reward, hist = model.train_step(\n",
    "                initial_state, optimizer, gamma,\n",
    "                max_steps_per_episode,\n",
    "                initial_action=tf.zeros((1, inits,), dtype=tf.float32))\n",
    "            episode_reward = tf.cast(episode_reward, tf.float32)\n",
    "            hist = tf.concat([\n",
    "                tf.cast(tf.expand_dims(x, 0), tf.float32) for x in hist], axis=0)\n",
    "            train_history = train_history.write(i, hist)\n",
    "            \n",
    "            running_reward = episode_reward*0.01 + running_reward*.99\n",
    "\n",
    "            t.set_description(f'Episode {i}')\n",
    "            t.set_postfix(\n",
    "                episode_reward=episode_reward.numpy(), running_reward=running_reward.numpy())\n",
    "\n",
    "            # Show average episode reward every 10 episodes\n",
    "            if i % 10 == 0:\n",
    "                pass#print(f'Episode {i}: average reward: {avg_reward}')\n",
    "\n",
    "            if running_reward > reward_threshold:  \n",
    "                break\n",
    "    \n",
    "    train_history = train_history.stack()\n",
    "    print(f'\\nSolved at episode {i}: average reward: {running_reward:.2f}!')\n",
    "    return train_history"
   ]
  },
  {
   "cell_type": "markdown",
   "metadata": {},
   "source": [
    "# Training"
   ]
  },
  {
   "cell_type": "code",
   "execution_count": 13,
   "metadata": {},
   "outputs": [],
   "source": [
    "max_episodes = 10000\n",
    "max_steps_per_episode = 1000\n",
    "num_hidden = 10\n",
    "# Cartpole-v0 is considered solved if average reward is >= 195 over 100 \n",
    "# consecutive trials\n",
    "reward_threshold = 195.0\n",
    "\n",
    "# Discount factor for future rewards\n",
    "gamma = 0.99"
   ]
  },
  {
   "cell_type": "code",
   "execution_count": 14,
   "metadata": {
    "scrolled": true
   },
   "outputs": [
    {
     "name": "stderr",
     "output_type": "stream",
     "text": [
      "Episode 1162:  12%|██▋                    | 1162/10000 [01:12<09:14, 15.95it/s, episode_reward=200, running_reward=195]"
     ]
    },
    {
     "name": "stdout",
     "output_type": "stream",
     "text": [
      "\n",
      "Solved at episode 1162: average reward: 195.05!\n",
      "Wall time: 1min 12s\n"
     ]
    },
    {
     "name": "stderr",
     "output_type": "stream",
     "text": [
      "\n"
     ]
    }
   ],
   "source": [
    "%%time\n",
    "baseline = get_baseline()\n",
    "baseline_hist = run(baseline, num_hidden, max_episodes, max_steps_per_episode, reward_threshold, gamma, m_type=1)"
   ]
  },
  {
   "cell_type": "code",
   "execution_count": 15,
   "metadata": {},
   "outputs": [
    {
     "name": "stderr",
     "output_type": "stream",
     "text": [
      "Episode 769:   8%|█▉                       | 769/10000 [02:14<26:58,  5.70it/s, episode_reward=200, running_reward=195]"
     ]
    },
    {
     "name": "stdout",
     "output_type": "stream",
     "text": [
      "\n",
      "Solved at episode 769: average reward: 195.00!\n",
      "Wall time: 2min 14s\n"
     ]
    },
    {
     "name": "stderr",
     "output_type": "stream",
     "text": [
      "\n"
     ]
    }
   ],
   "source": [
    "%%time\n",
    "gru = get_GRU()\n",
    "gru_hist = run(gru, num_hidden, max_episodes, max_steps_per_episode, reward_threshold, gamma, m_type=1)"
   ]
  },
  {
   "cell_type": "code",
   "execution_count": 16,
   "metadata": {},
   "outputs": [
    {
     "name": "stderr",
     "output_type": "stream",
     "text": [
      "Episode 795:   8%|█▊                     | 795/10000 [14:45<2:50:58,  1.11s/it, episode_reward=200, running_reward=195]"
     ]
    },
    {
     "name": "stdout",
     "output_type": "stream",
     "text": [
      "\n",
      "Solved at episode 795: average reward: 195.03!\n",
      "Wall time: 14min 46s\n"
     ]
    },
    {
     "name": "stderr",
     "output_type": "stream",
     "text": [
      "\n"
     ]
    }
   ],
   "source": [
    "%%time\n",
    "osar = get_OSAR(num_hidden=num_hidden,)\n",
    "osar_hist = run(osar, num_hidden, max_episodes, max_steps_per_episode, reward_threshold, gamma, m_type=2)"
   ]
  },
  {
   "cell_type": "markdown",
   "metadata": {},
   "source": [
    "# Results"
   ]
  },
  {
   "cell_type": "code",
   "execution_count": 17,
   "metadata": {},
   "outputs": [],
   "source": [
    "labels = ['episode_reward', 'episode_x', 'episode_loss', 'episode_actions', 'episode_values']"
   ]
  },
  {
   "cell_type": "code",
   "execution_count": 18,
   "metadata": {},
   "outputs": [],
   "source": [
    "def get_running_reward(rewards):\n",
    "    running_reward = [0]\n",
    "    for r in rewards:\n",
    "        running_reward.append(r*0.01 + running_reward[-1]*.99)\n",
    "    return running_reward"
   ]
  },
  {
   "cell_type": "code",
   "execution_count": 22,
   "metadata": {},
   "outputs": [
    {
     "data": {
      "image/png": "[encoded data removed]",
      "text/plain": [
       "<Figure size 720x720 with 4 Axes>"
      ]
     },
     "metadata": {
      "needs_background": "light"
     },
     "output_type": "display_data"
    }
   ],
   "source": [
    "fig, ax = plt.subplots(nrows=2, ncols=2, sharex=True, figsize=(10, 10))\n",
    "\n",
    "ax[0, 0].plot(get_running_reward(baseline_hist[:, 0]), '--', alpha=0.7, label='baseline')\n",
    "ax[0, 0].plot(get_running_reward(osar_hist[:, 0]), label='osar')\n",
    "ax[0, 0].plot(get_running_reward(gru_hist[:, 0]), alpha=0.4, label='GRU')\n",
    "ax[0, 0].set_title('Накопленная награда')\n",
    "ax[0, 0].legend()\n",
    "ax[1, 0].plot(baseline_hist[:, 2], '--', alpha=0.7, label='baseline')\n",
    "ax[1, 0].plot(osar_hist[:, 2], label='osar')\n",
    "ax[1, 0].plot(gru_hist[:, 2], alpha=0.4, label='gru')\n",
    "ax[1, 0].set_title('Функция потерь')\n",
    "ax[1, 0].legend()\n",
    "ax[0, 1].plot(get_running_reward(baseline_hist[:, 4]), '--', alpha=0.7, label='Критик baseline')\n",
    "ax[0, 1].plot(get_running_reward(osar_hist[:, 4]), label='Критик osar')\n",
    "ax[0, 1].plot(get_running_reward(baseline_hist[:, 0]),'--', alpha=0.7, label='Награда baseline')\n",
    "ax[0, 1].plot(get_running_reward(osar_hist[:, 0]), label='Награда osar')\n",
    "ax[0, 1].plot(get_running_reward(gru_hist[:, 0]), alpha=0.4, label='Награда GRU')\n",
    "ax[0, 1].plot(get_running_reward(gru_hist[:, 4]), alpha=0.4, label='Критик GRU')\n",
    "ax[0, 1].set_title('Реальная награда и ожидаемая награды Критика')\n",
    "ax[0, 1].legend()\n",
    "ax[1, 1].plot(baseline_hist[:, 3], '--', alpha=0.7, label='baseline')\n",
    "ax[1, 1].plot(osar_hist[:, 3], label='osar')\n",
    "ax[1, 1].plot(gru_hist[:, 3], alpha=0.4, label='GRU')\n",
    "ax[1, 1].set_title('Функция уверенности в выбранном действии')\n",
    "ax[1, 1].legend()\n",
    "plt.show()"
   ]
  },
  {
   "cell_type": "code",
   "execution_count": 21,
   "metadata": {},
   "outputs": [
    {
     "data": {
      "image/png": "[encoded data removed]",
      "text/plain": [
       "<Figure size 432x288 with 1 Axes>"
      ]
     },
     "metadata": {
      "needs_background": "light"
     },
     "output_type": "display_data"
    }
   ],
   "source": [
    "plt.bar(range(len(gru_hist)), baseline_hist[:len(gru_hist), 0], alpha=0.7, label='baseline')\n",
    "plt.bar(range(len(gru_hist)), gru_hist[:, 0], alpha=0.4,\n",
    "        bottom=baseline_hist[:len(gru_hist), 0], label='GRU')\n",
    "plt.bar(range(len(gru_hist)), osar_hist[:len(gru_hist), 0], alpha=0.7, label='osar',\n",
    "       bottom=baseline_hist[:len(gru_hist), 0]+osar_hist[:len(gru_hist), 0])\n",
    "plt.title('Награда за эпизод игры')\n",
    "plt.legend()\n",
    "plt.show()"
   ]
  },
  {
   "cell_type": "markdown",
   "metadata": {},
   "source": [
    "# Visualisation"
   ]
  },
  {
   "cell_type": "code",
   "execution_count": 24,
   "metadata": {},
   "outputs": [],
   "source": [
    "# Render an episode and save as a GIF file\n",
    "\n",
    "import sys\n",
    "from IPython import display as ipythondisplay\n",
    "from PIL import Image\n",
    "from pyvirtualdisplay import Display\n",
    "import tensorflow_docs.vis.embed as embed\n",
    "\n",
    "if sys.platform != 'win32':\n",
    "    display = Display(visible=0, size=(400, 300))\n",
    "    display.start()\n",
    "\n",
    "\n",
    "def render_episode(env: gym.Env, model: tf.keras.Model, max_steps: int, m_type:int=1, inits:int=num_hidden,): \n",
    "    screen = env.render(mode='rgb_array')\n",
    "    im = Image.fromarray(screen)\n",
    "\n",
    "    images = [im]\n",
    "    \n",
    "    reward, loop_var = tf.zeros((1, 1), tf.float32), tf.zeros((1, inits), tf.float32)\n",
    "\n",
    "    state = tf.constant(env.reset(), dtype=tf.float32)\n",
    "    for i in range(1, max_steps + 1):\n",
    "        state = tf.expand_dims(state, 0)\n",
    "        \n",
    "        if m_type == 1: \n",
    "            action_probs, _, loop_var = model(state)\n",
    "            action = np.argmax(np.squeeze(tf.nn.softmax(action_probs)))\n",
    "        else:\n",
    "            action_probs, _, loop_var = model([state, reward, tf.nn.softmax(loop_var)])\n",
    "            action = np.argmax(np.squeeze(tf.nn.softmax(action_probs)))\n",
    "        \n",
    "        state, reward, done, _ = env.step(action)\n",
    "        state = tf.constant(state, dtype=tf.float32)\n",
    "        reward = tf.expand_dims(tf.constant(reward, dtype=tf.float32), axis=0)\n",
    "        reward = tf.expand_dims(reward, 0)\n",
    "\n",
    "        # Render screen every 10 steps\n",
    "        if i % 10 == 0:\n",
    "            screen = env.render(mode='rgb_array')\n",
    "            images.append(Image.fromarray(screen))\n",
    "\n",
    "        if done:\n",
    "            break\n",
    "    env.close()\n",
    "    return images"
   ]
  },
  {
   "cell_type": "markdown",
   "metadata": {},
   "source": [
    "## Untrained:"
   ]
  },
  {
   "cell_type": "markdown",
   "metadata": {},
   "source": [
    "### Baseline"
   ]
  },
  {
   "cell_type": "code",
   "execution_count": 25,
   "metadata": {},
   "outputs": [
    {
     "name": "stderr",
     "output_type": "stream",
     "text": [
      "Episode 99: 100%|█████████████████████████████| 100/100 [00:02<00:00, 37.24it/s, episode_reward=9, running_reward=9.92]\n"
     ]
    },
    {
     "name": "stdout",
     "output_type": "stream",
     "text": [
      "\n",
      "Solved at episode 99: average reward: 9.92!\n"
     ]
    },
    {
     "data": {
      "text/html": [
       "<img src=\"data:image/gif;base64,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\"/>"
      ],
      "text/plain": [
       "<IPython.core.display.HTML object>"
      ]
     },
     "execution_count": 25,
     "metadata": {},
     "output_type": "execute_result"
    }
   ],
   "source": [
    "# Save GIF image\n",
    "buggy_baseline = get_baseline()\n",
    "run(buggy_baseline, 10, 100, max_steps_per_episode, reward_threshold, gamma, m_type=1)\n",
    "images = render_episode(env, buggy_baseline, max_steps_per_episode)\n",
    "image_untrained_baseline_file = '../images/cartpole-baseline-untrained-v0.gif'\n",
    "# loop=0: loop forever, duration=1: play each frame for 1ms\n",
    "images[0].save(\n",
    "    image_untrained_baseline_file, save_all=True, append_images=images[1:], loop=0, duration=1)\n",
    "embed.embed_file(image_untrained_baseline_file)"
   ]
  },
  {
   "cell_type": "markdown",
   "metadata": {},
   "source": [
    "### OSAR (Context Genrator + GRU Only)"
   ]
  },
  {
   "cell_type": "code",
   "execution_count": null,
   "metadata": {},
   "outputs": [
    {
     "name": "stderr",
     "output_type": "stream",
     "text": [
      "Episode 38:  39%|███████████▎                 | 39/100 [00:24<00:41,  1.47it/s, episode_reward=98, running_reward=15.8]"
     ]
    }
   ],
   "source": [
    "# Save GIF image\n",
    "buggy_osar = get_OSAR(num_hidden=10,)\n",
    "run(buggy_osar, 10, 100, max_steps_per_episode, reward_threshold, gamma, m_type=2)\n",
    "images = render_episode(env, buggy_osar, max_steps_per_episode, m_type=2)\n",
    "image_untrained_osar_file = '../images/cartpole-osar-untrained-v0.gif'\n",
    "# loop=0: loop forever, duration=1: play each frame for 1ms\n",
    "images[0].save(\n",
    "    image_untrained_osar_file, save_all=True, append_images=images[1:], loop=0, duration=1)\n",
    "embed.embed_file(image_untrained_osar_file)"
   ]
  },
  {
   "cell_type": "markdown",
   "metadata": {},
   "source": [
    "## Trained:"
   ]
  },
  {
   "cell_type": "markdown",
   "metadata": {},
   "source": [
    "### Baseline"
   ]
  },
  {
   "cell_type": "code",
   "execution_count": null,
   "metadata": {},
   "outputs": [],
   "source": [
    "# Save GIF image\n",
    "images = render_episode(env, baseline, max_steps_per_episode)\n",
    "image_trained_baseline_file = '../images/cartpole-baseline-trained-v0.gif'\n",
    "# loop=0: loop forever, duration=1: play each frame for 1ms\n",
    "images[0].save(\n",
    "    image_trained_baseline_file, save_all=True, append_images=images[1:], loop=0, duration=1)\n",
    "embed.embed_file(image_trained_baseline_file)"
   ]
  },
  {
   "cell_type": "markdown",
   "metadata": {},
   "source": [
    "### OSAR (Context Genrator + GRU Only)"
   ]
  },
  {
   "cell_type": "code",
   "execution_count": null,
   "metadata": {},
   "outputs": [],
   "source": [
    "# Save GIF image\n",
    "images = render_episode(env, osar, max_steps_per_episode, m_type=2)\n",
    "image_trained_osar_file = '../images/cartpole-osar-trained-v0.gif'\n",
    "# loop=0: loop forever, duration=1: play each frame for 1ms\n",
    "images[0].save(\n",
    "    image_trained_osar_file, save_all=True, append_images=images[1:], loop=0, duration=1)\n",
    "embed.embed_file(image_trained_osar_file)"
   ]
  },
  {
   "cell_type": "code",
   "execution_count": null,
   "metadata": {},
   "outputs": [],
   "source": []
  }
 ],
 "metadata": {
  "kernelspec": {
   "display_name": "Python 3",
   "language": "python",
   "name": "python3"
  },
  "language_info": {
   "codemirror_mode": {
    "name": "ipython",
    "version": 3
   },
   "file_extension": ".py",
   "mimetype": "text/x-python",
   "name": "python",
   "nbconvert_exporter": "python",
   "pygments_lexer": "ipython3",
   "version": "3.7.6"
  },
  "nbTranslate": {
   "displayLangs": [
    "*"
   ],
   "hotkey": "alt-t",
   "langInMainMenu": true,
   "sourceLang": "en",
   "targetLang": "fr",
   "useGoogleTranslate": true
  },
  "toc": {
   "base_numbering": 1,
   "nav_menu": {},
   "number_sections": true,
   "sideBar": true,
   "skip_h1_title": false,
   "title_cell": "Table of Contents",
   "title_sidebar": "Contents",
   "toc_cell": false,
   "toc_position": {},
   "toc_section_display": true,
   "toc_window_display": false
  },
  "varInspector": {
   "cols": {
    "lenName": 16,
    "lenType": 16,
    "lenVar": 40
   },
   "kernels_config": {
    "python": {
     "delete_cmd_postfix": "",
     "delete_cmd_prefix": "del ",
     "library": "var_list.py",
     "varRefreshCmd": "print(var_dic_list())"
    },
    "r": {
     "delete_cmd_postfix": ") ",
     "delete_cmd_prefix": "rm(",
     "library": "var_list.r",
     "varRefreshCmd": "cat(var_dic_list()) "
    }
   },
   "types_to_exclude": [
    "module",
    "function",
    "builtin_function_or_method",
    "instance",
    "_Feature"
   ],
   "window_display": false
  }
 },
 "nbformat": 4,
 "nbformat_minor": 4
}
