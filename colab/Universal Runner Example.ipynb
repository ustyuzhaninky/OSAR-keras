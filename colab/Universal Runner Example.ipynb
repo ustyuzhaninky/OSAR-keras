{
 "cells": [
  {
   "cell_type": "code",
   "execution_count": 1,
   "metadata": {},
   "outputs": [
    {
     "name": "stdout",
     "output_type": "stream",
     "text": [
      "Requirement already satisfied: atari_py in /home/jorgen/anaconda3/lib/python3.7/site-packages (0.2.6)\n",
      "Requirement already satisfied: numpy in /home/jorgen/anaconda3/lib/python3.7/site-packages (from atari_py) (1.19.5)\n",
      "Requirement already satisfied: six in /home/jorgen/anaconda3/lib/python3.7/site-packages (from atari_py) (1.15.0)\n",
      "Requirement already satisfied: gym[atari] in /home/jorgen/anaconda3/lib/python3.7/site-packages (0.17.2)\n",
      "Requirement already satisfied: pyglet<=1.5.0,>=1.4.0 in /home/jorgen/anaconda3/lib/python3.7/site-packages (from gym[atari]) (1.5.0)\n",
      "Requirement already satisfied: cloudpickle<1.4.0,>=1.2.0 in /home/jorgen/anaconda3/lib/python3.7/site-packages (from gym[atari]) (1.3.0)\n",
      "Requirement already satisfied: numpy>=1.10.4 in /home/jorgen/anaconda3/lib/python3.7/site-packages (from gym[atari]) (1.19.5)\n",
      "Requirement already satisfied: scipy in /home/jorgen/anaconda3/lib/python3.7/site-packages (from gym[atari]) (1.4.1)\n",
      "Requirement already satisfied: opencv-python; extra == \"atari\" in /home/jorgen/anaconda3/lib/python3.7/site-packages (from gym[atari]) (4.5.1.48)\n",
      "Requirement already satisfied: Pillow; extra == \"atari\" in /home/jorgen/anaconda3/lib/python3.7/site-packages (from gym[atari]) (7.1.2)\n",
      "Requirement already satisfied: atari-py~=0.2.0; extra == \"atari\" in /home/jorgen/anaconda3/lib/python3.7/site-packages (from gym[atari]) (0.2.6)\n",
      "Requirement already satisfied: future in /home/jorgen/anaconda3/lib/python3.7/site-packages (from pyglet<=1.5.0,>=1.4.0->gym[atari]) (0.18.2)\n",
      "Requirement already satisfied: six in /home/jorgen/anaconda3/lib/python3.7/site-packages (from atari-py~=0.2.0; extra == \"atari\"->gym[atari]) (1.15.0)\n",
      "Requirement already satisfied: imageio in /home/jorgen/anaconda3/lib/python3.7/site-packages (2.8.0)\n",
      "Requirement already satisfied: pillow in /home/jorgen/anaconda3/lib/python3.7/site-packages (from imageio) (7.1.2)\n",
      "Requirement already satisfied: numpy in /home/jorgen/anaconda3/lib/python3.7/site-packages (from imageio) (1.19.5)\n",
      "Requirement already satisfied: PILLOW in /home/jorgen/anaconda3/lib/python3.7/site-packages (7.1.2)\n",
      "Requirement already satisfied: pyglet in /home/jorgen/anaconda3/lib/python3.7/site-packages (1.5.0)\n",
      "Requirement already satisfied: future in /home/jorgen/anaconda3/lib/python3.7/site-packages (from pyglet) (0.18.2)\n",
      "Requirement already satisfied: typing-extensions==3.7.4.3 in /home/jorgen/anaconda3/lib/python3.7/site-packages (3.7.4.3)\n",
      "Requirement already satisfied: pyvirtualdisplay in /home/jorgen/anaconda3/lib/python3.7/site-packages (2.1)\n",
      "Requirement already satisfied: EasyProcess in /home/jorgen/anaconda3/lib/python3.7/site-packages (from pyvirtualdisplay) (0.3)\n",
      "Requirement already satisfied: tf-agents in /home/jorgen/anaconda3/lib/python3.7/site-packages (0.7.1)\n",
      "Requirement already satisfied: gin-config>=0.4.0 in /home/jorgen/anaconda3/lib/python3.7/site-packages (from tf-agents) (0.4.0)\n",
      "Requirement already satisfied: numpy>=1.13.3 in /home/jorgen/anaconda3/lib/python3.7/site-packages (from tf-agents) (1.19.5)\n",
      "Requirement already satisfied: tensorflow-probability>=0.12.1 in /home/jorgen/anaconda3/lib/python3.7/site-packages (from tf-agents) (0.12.1)\n",
      "Requirement already satisfied: pillow>=7.0.0 in /home/jorgen/anaconda3/lib/python3.7/site-packages (from tf-agents) (7.1.2)\n",
      "Requirement already satisfied: gym>=0.17.0 in /home/jorgen/anaconda3/lib/python3.7/site-packages (from tf-agents) (0.17.2)\n",
      "Requirement already satisfied: six>=1.10.0 in /home/jorgen/anaconda3/lib/python3.7/site-packages (from tf-agents) (1.15.0)\n",
      "Requirement already satisfied: protobuf>=3.11.3 in /home/jorgen/anaconda3/lib/python3.7/site-packages (from tf-agents) (3.11.3)\n",
      "Requirement already satisfied: typing-extensions>=3.7.4.3 in /home/jorgen/anaconda3/lib/python3.7/site-packages (from tf-agents) (3.7.4.3)\n",
      "Requirement already satisfied: cloudpickle>=1.3 in /home/jorgen/anaconda3/lib/python3.7/site-packages (from tf-agents) (1.3.0)\n",
      "Requirement already satisfied: absl-py>=0.6.1 in /home/jorgen/anaconda3/lib/python3.7/site-packages (from tf-agents) (0.12.0)\n",
      "Requirement already satisfied: wrapt>=1.11.1 in /home/jorgen/anaconda3/lib/python3.7/site-packages (from tf-agents) (1.12.1)\n",
      "Requirement already satisfied: gast>=0.3.2 in /home/jorgen/anaconda3/lib/python3.7/site-packages (from tensorflow-probability>=0.12.1->tf-agents) (0.3.3)\n",
      "Requirement already satisfied: decorator in /home/jorgen/anaconda3/lib/python3.7/site-packages (from tensorflow-probability>=0.12.1->tf-agents) (4.4.2)\n",
      "Requirement already satisfied: dm-tree in /home/jorgen/anaconda3/lib/python3.7/site-packages (from tensorflow-probability>=0.12.1->tf-agents) (0.1.5)\n",
      "Requirement already satisfied: scipy in /home/jorgen/anaconda3/lib/python3.7/site-packages (from gym>=0.17.0->tf-agents) (1.4.1)\n",
      "Requirement already satisfied: pyglet<=1.5.0,>=1.4.0 in /home/jorgen/anaconda3/lib/python3.7/site-packages (from gym>=0.17.0->tf-agents) (1.5.0)\n",
      "Requirement already satisfied: setuptools in /home/jorgen/anaconda3/lib/python3.7/site-packages (from protobuf>=3.11.3->tf-agents) (46.2.0.post20200511)\n",
      "Requirement already satisfied: future in /home/jorgen/anaconda3/lib/python3.7/site-packages (from pyglet<=1.5.0,>=1.4.0->gym>=0.17.0->tf-agents) (0.18.2)\n",
      "Processing /mnt/d/jorgen/projects/python/PhDSub/TowerProject/OSAR-keras\n",
      "Requirement already satisfied: tensorflow>=2.3.0 in /home/jorgen/anaconda3/lib/python3.7/site-packages (from OSAR==0.1.7) (2.4.1)\n",
      "Requirement already satisfied: gin-config>=0.1.1 in /home/jorgen/anaconda3/lib/python3.7/site-packages (from OSAR==0.1.7) (0.4.0)\n",
      "Requirement already satisfied: tf_agents>=0.6.0 in /home/jorgen/anaconda3/lib/python3.7/site-packages (from OSAR==0.1.7) (0.7.1)\n",
      "Requirement already satisfied: importlib-metadata~=1.0 in /home/jorgen/anaconda3/lib/python3.7/site-packages (from OSAR==0.1.7) (1.5.0)\n",
      "Requirement already satisfied: numpy~=1.19.2 in /home/jorgen/anaconda3/lib/python3.7/site-packages (from tensorflow>=2.3.0->OSAR==0.1.7) (1.19.5)\n",
      "Requirement already satisfied: wrapt~=1.12.1 in /home/jorgen/anaconda3/lib/python3.7/site-packages (from tensorflow>=2.3.0->OSAR==0.1.7) (1.12.1)\n",
      "Requirement already satisfied: tensorboard~=2.4 in /home/jorgen/anaconda3/lib/python3.7/site-packages (from tensorflow>=2.3.0->OSAR==0.1.7) (2.4.1)\n",
      "Requirement already satisfied: h5py~=2.10.0 in /home/jorgen/anaconda3/lib/python3.7/site-packages (from tensorflow>=2.3.0->OSAR==0.1.7) (2.10.0)\n",
      "Requirement already satisfied: typing-extensions~=3.7.4 in /home/jorgen/anaconda3/lib/python3.7/site-packages (from tensorflow>=2.3.0->OSAR==0.1.7) (3.7.4.3)\n",
      "Requirement already satisfied: gast==0.3.3 in /home/jorgen/anaconda3/lib/python3.7/site-packages (from tensorflow>=2.3.0->OSAR==0.1.7) (0.3.3)\n",
      "Requirement already satisfied: protobuf>=3.9.2 in /home/jorgen/anaconda3/lib/python3.7/site-packages (from tensorflow>=2.3.0->OSAR==0.1.7) (3.11.3)\n",
      "Requirement already satisfied: termcolor~=1.1.0 in /home/jorgen/anaconda3/lib/python3.7/site-packages (from tensorflow>=2.3.0->OSAR==0.1.7) (1.1.0)\n",
      "Requirement already satisfied: wheel~=0.35 in /home/jorgen/anaconda3/lib/python3.7/site-packages (from tensorflow>=2.3.0->OSAR==0.1.7) (0.36.2)\n",
      "Requirement already satisfied: flatbuffers~=1.12.0 in /home/jorgen/anaconda3/lib/python3.7/site-packages (from tensorflow>=2.3.0->OSAR==0.1.7) (1.12)\n",
      "Requirement already satisfied: absl-py~=0.10 in /home/jorgen/anaconda3/lib/python3.7/site-packages (from tensorflow>=2.3.0->OSAR==0.1.7) (0.12.0)\n",
      "Requirement already satisfied: keras-preprocessing~=1.1.2 in /home/jorgen/anaconda3/lib/python3.7/site-packages (from tensorflow>=2.3.0->OSAR==0.1.7) (1.1.2)\n",
      "Requirement already satisfied: google-pasta~=0.2 in /home/jorgen/anaconda3/lib/python3.7/site-packages (from tensorflow>=2.3.0->OSAR==0.1.7) (0.2.0)\n",
      "Requirement already satisfied: tensorflow-estimator<2.5.0,>=2.4.0 in /home/jorgen/anaconda3/lib/python3.7/site-packages (from tensorflow>=2.3.0->OSAR==0.1.7) (2.4.0)\n",
      "Requirement already satisfied: grpcio~=1.32.0 in /home/jorgen/anaconda3/lib/python3.7/site-packages (from tensorflow>=2.3.0->OSAR==0.1.7) (1.32.0)\n",
      "Requirement already satisfied: six~=1.15.0 in /home/jorgen/anaconda3/lib/python3.7/site-packages (from tensorflow>=2.3.0->OSAR==0.1.7) (1.15.0)\n",
      "Requirement already satisfied: opt-einsum~=3.3.0 in /home/jorgen/anaconda3/lib/python3.7/site-packages (from tensorflow>=2.3.0->OSAR==0.1.7) (3.3.0)\n",
      "Requirement already satisfied: astunparse~=1.6.3 in /home/jorgen/anaconda3/lib/python3.7/site-packages (from tensorflow>=2.3.0->OSAR==0.1.7) (1.6.3)\n"
     ]
    },
    {
     "name": "stdout",
     "output_type": "stream",
     "text": [
      "Requirement already satisfied: cloudpickle>=1.3 in /home/jorgen/anaconda3/lib/python3.7/site-packages (from tf_agents>=0.6.0->OSAR==0.1.7) (1.3.0)\n",
      "Requirement already satisfied: gym>=0.17.0 in /home/jorgen/anaconda3/lib/python3.7/site-packages (from tf_agents>=0.6.0->OSAR==0.1.7) (0.17.2)\n",
      "Requirement already satisfied: pillow>=7.0.0 in /home/jorgen/anaconda3/lib/python3.7/site-packages (from tf_agents>=0.6.0->OSAR==0.1.7) (7.1.2)\n",
      "Requirement already satisfied: tensorflow-probability>=0.12.1 in /home/jorgen/anaconda3/lib/python3.7/site-packages (from tf_agents>=0.6.0->OSAR==0.1.7) (0.12.1)\n",
      "Requirement already satisfied: zipp>=0.5 in /home/jorgen/anaconda3/lib/python3.7/site-packages (from importlib-metadata~=1.0->OSAR==0.1.7) (3.1.0)\n",
      "Requirement already satisfied: google-auth<2,>=1.6.3 in /home/jorgen/anaconda3/lib/python3.7/site-packages (from tensorboard~=2.4->tensorflow>=2.3.0->OSAR==0.1.7) (1.27.1)\n",
      "Requirement already satisfied: tensorboard-plugin-wit>=1.6.0 in /home/jorgen/anaconda3/lib/python3.7/site-packages (from tensorboard~=2.4->tensorflow>=2.3.0->OSAR==0.1.7) (1.8.0)\n",
      "Requirement already satisfied: werkzeug>=0.11.15 in /home/jorgen/anaconda3/lib/python3.7/site-packages (from tensorboard~=2.4->tensorflow>=2.3.0->OSAR==0.1.7) (1.0.1)\n",
      "Requirement already satisfied: markdown>=2.6.8 in /home/jorgen/anaconda3/lib/python3.7/site-packages (from tensorboard~=2.4->tensorflow>=2.3.0->OSAR==0.1.7) (3.3.4)\n",
      "Requirement already satisfied: setuptools>=41.0.0 in /home/jorgen/anaconda3/lib/python3.7/site-packages (from tensorboard~=2.4->tensorflow>=2.3.0->OSAR==0.1.7) (46.2.0.post20200511)\n",
      "Requirement already satisfied: requests<3,>=2.21.0 in /home/jorgen/anaconda3/lib/python3.7/site-packages (from tensorboard~=2.4->tensorflow>=2.3.0->OSAR==0.1.7) (2.23.0)\n",
      "Requirement already satisfied: google-auth-oauthlib<0.5,>=0.4.1 in /home/jorgen/anaconda3/lib/python3.7/site-packages (from tensorboard~=2.4->tensorflow>=2.3.0->OSAR==0.1.7) (0.4.3)\n",
      "Requirement already satisfied: scipy in /home/jorgen/anaconda3/lib/python3.7/site-packages (from gym>=0.17.0->tf_agents>=0.6.0->OSAR==0.1.7) (1.4.1)\n",
      "Requirement already satisfied: pyglet<=1.5.0,>=1.4.0 in /home/jorgen/anaconda3/lib/python3.7/site-packages (from gym>=0.17.0->tf_agents>=0.6.0->OSAR==0.1.7) (1.5.0)\n",
      "Requirement already satisfied: dm-tree in /home/jorgen/anaconda3/lib/python3.7/site-packages (from tensorflow-probability>=0.12.1->tf_agents>=0.6.0->OSAR==0.1.7) (0.1.5)\n",
      "Requirement already satisfied: decorator in /home/jorgen/anaconda3/lib/python3.7/site-packages (from tensorflow-probability>=0.12.1->tf_agents>=0.6.0->OSAR==0.1.7) (4.4.2)\n",
      "Requirement already satisfied: cachetools<5.0,>=2.0.0 in /home/jorgen/anaconda3/lib/python3.7/site-packages (from google-auth<2,>=1.6.3->tensorboard~=2.4->tensorflow>=2.3.0->OSAR==0.1.7) (4.2.1)\n",
      "Requirement already satisfied: rsa<5,>=3.1.4; python_version >= \"3.6\" in /home/jorgen/anaconda3/lib/python3.7/site-packages (from google-auth<2,>=1.6.3->tensorboard~=2.4->tensorflow>=2.3.0->OSAR==0.1.7) (4.7.2)\n",
      "Requirement already satisfied: pyasn1-modules>=0.2.1 in /home/jorgen/anaconda3/lib/python3.7/site-packages (from google-auth<2,>=1.6.3->tensorboard~=2.4->tensorflow>=2.3.0->OSAR==0.1.7) (0.2.8)\n",
      "Requirement already satisfied: chardet<4,>=3.0.2 in /home/jorgen/anaconda3/lib/python3.7/site-packages (from requests<3,>=2.21.0->tensorboard~=2.4->tensorflow>=2.3.0->OSAR==0.1.7) (3.0.4)\n",
      "Requirement already satisfied: idna<3,>=2.5 in /home/jorgen/anaconda3/lib/python3.7/site-packages (from requests<3,>=2.21.0->tensorboard~=2.4->tensorflow>=2.3.0->OSAR==0.1.7) (2.9)\n",
      "Requirement already satisfied: certifi>=2017.4.17 in /home/jorgen/anaconda3/lib/python3.7/site-packages (from requests<3,>=2.21.0->tensorboard~=2.4->tensorflow>=2.3.0->OSAR==0.1.7) (2020.4.5.1)\n",
      "Requirement already satisfied: urllib3!=1.25.0,!=1.25.1,<1.26,>=1.21.1 in /home/jorgen/anaconda3/lib/python3.7/site-packages (from requests<3,>=2.21.0->tensorboard~=2.4->tensorflow>=2.3.0->OSAR==0.1.7) (1.25.8)\n",
      "Requirement already satisfied: requests-oauthlib>=0.7.0 in /home/jorgen/anaconda3/lib/python3.7/site-packages (from google-auth-oauthlib<0.5,>=0.4.1->tensorboard~=2.4->tensorflow>=2.3.0->OSAR==0.1.7) (1.3.0)\n",
      "Requirement already satisfied: future in /home/jorgen/anaconda3/lib/python3.7/site-packages (from pyglet<=1.5.0,>=1.4.0->gym>=0.17.0->tf_agents>=0.6.0->OSAR==0.1.7) (0.18.2)\n",
      "Requirement already satisfied: pyasn1>=0.1.3 in /home/jorgen/anaconda3/lib/python3.7/site-packages (from rsa<5,>=3.1.4; python_version >= \"3.6\"->google-auth<2,>=1.6.3->tensorboard~=2.4->tensorflow>=2.3.0->OSAR==0.1.7) (0.4.8)\n",
      "Requirement already satisfied: oauthlib>=3.0.0 in /home/jorgen/anaconda3/lib/python3.7/site-packages (from requests-oauthlib>=0.7.0->google-auth-oauthlib<0.5,>=0.4.1->tensorboard~=2.4->tensorflow>=2.3.0->OSAR==0.1.7) (3.1.0)\n",
      "Building wheels for collected packages: OSAR\n",
      "  Building wheel for OSAR (setup.py) ... \u001b[?25ldone\n",
      "\u001b[?25h  Created wheel for OSAR: filename=OSAR-0.1.7-py3-none-any.whl size=65574 sha256=e7a499c922d2d7cf029daab567707c6374bc1b9b7fdeb2df2de0a067d54716e4\n",
      "  Stored in directory: /home/jorgen/.cache/pip/wheels/dc/71/09/748828c7ebd4ea8d8e8ce637e1142f8d6a97aab86f28cd6eb1\n",
      "Successfully built OSAR\n",
      "Installing collected packages: OSAR\n",
      "  Attempting uninstall: OSAR\n",
      "    Found existing installation: OSAR 0.1.7\n",
      "    Uninstalling OSAR-0.1.7:\n",
      "      Successfully uninstalled OSAR-0.1.7\n",
      "Successfully installed OSAR-0.1.7\n"
     ]
    }
   ],
   "source": [
    "#!sudo apt-get install -y xvfb ffmpeg\n",
    "!pip install atari_py\n",
    "!pip install gym[atari]\n",
    "!pip install imageio\n",
    "!pip install PILLOW\n",
    "!pip install pyglet\n",
    "!pip install typing-extensions==3.7.4.3\n",
    "!pip install pyvirtualdisplay\n",
    "!pip install tf-agents\n",
    "!pip install ../../OSAR-keras/.\n",
    "# !pip install git+https://github.com/ustyuzhaninky/OSAR-keras"
   ]
  },
  {
   "cell_type": "code",
   "execution_count": 2,
   "metadata": {},
   "outputs": [],
   "source": [
    "from __future__ import absolute_import, division, print_function\n",
    "\n",
    "import base64\n",
    "import imageio\n",
    "import IPython\n",
    "import matplotlib\n",
    "import matplotlib.pyplot as plt\n",
    "import numpy as np\n",
    "import PIL.Image\n",
    "import pyvirtualdisplay\n",
    "\n",
    "import tensorflow as tf\n",
    "\n",
    "from tf_agents import agents\n",
    "from tf_agents.agents.dqn import dqn_agent\n",
    "from tf_agents.drivers import dynamic_step_driver\n",
    "from tf_agents.environments import suite_gym\n",
    "from tf_agents.environments import tf_py_environment\n",
    "from tf_agents.eval import metric_utils\n",
    "from tf_agents.metrics import tf_metrics\n",
    "from tf_agents.networks import q_network\n",
    "from tf_agents.policies import random_tf_policy\n",
    "from tf_agents.replay_buffers import tf_uniform_replay_buffer\n",
    "from tf_agents.trajectories import trajectory\n",
    "from tf_agents.utils import common\n",
    "\n",
    "from OSAR import OSARNetwork, Runner"
   ]
  },
  {
   "cell_type": "code",
   "execution_count": 3,
   "metadata": {},
   "outputs": [],
   "source": [
    "env_names = [\n",
    "    'AirRaid-ram-v0',\n",
    "    'Solaris-ram-v0',\n",
    "    'Alien-ram-v0',\n",
    "    'Berzerk-ram-v0',\n",
    "    'Asteroids-ram-v0',\n",
    "    'Venture-ram-v0',\n",
    "    'MontezumaRevenge-ram-v0',\n",
    "    'Asteroids-ram-v0',\n",
    "    'BattleZone-ram-v0',\n",
    "    'Enduro-ram-v0',\n",
    "    'Tutankham-ram-v0',\n",
    "    'WizardOfWor-ram-v0'\n",
    "]"
   ]
  },
  {
   "cell_type": "code",
   "execution_count": 4,
   "metadata": {},
   "outputs": [],
   "source": [
    "num_iterations = 10000 # @param {type:\"integer\"}\n",
    "\n",
    "initial_collect_steps = 100  # @param {type:\"integer\"} \n",
    "collect_steps_per_iteration = 1  # @param {type:\"integer\"}\n",
    "replay_buffer_max_length = 1000  # @param {type:\"integer\"}\n",
    "\n",
    "batch_size = 32  # @param {type:\"integer\"}\n",
    "learning_rate = 1e-3  # @param {type:\"number\"}\n",
    "log_interval = 10  # @param {type:\"integer\"}\n",
    "memory_len = 10 # @param {type: \"integer\"}\n",
    "n_turns = 5 # @param {type: \"integer\"}\n",
    "num_atoms = 21  # @param {type:\"integer\"}\n",
    "min_q_value = -10  # @param {type:\"integer\"}\n",
    "max_q_value = 10  # @param {type:\"integer\"}\n",
    "n_step_update = 2  # @param {type:\"integer\"}\n",
    "\n",
    "num_eval_episodes = 1000  # @param {type:\"integer\"}\n",
    "eval_interval = 10  # @param {type:\"integer\"}\n"
   ]
  },
  {
   "cell_type": "code",
   "execution_count": 5,
   "metadata": {},
   "outputs": [],
   "source": [
    "from tf_agents.networks import categorical_q_network\n",
    "fc_layer_params = (10,)\n",
    "from tf_agents.networks import categorical_q_network\n",
    "\n",
    "agent_specs = {\n",
    "    'batch_size': 1,\n",
    "    'memory_len': 2,\n",
    "    'n_turns': 3,\n",
    "    'fc_layer_params': fc_layer_params,\n",
    "    'num_atoms': 21,\n",
    "    'conv_type': '1d',\n",
    "    'learning_rate': 1e-3,\n",
    "    'q_value': 10,\n",
    "    'n_step_update': 2,\n",
    "}\n",
    "\n",
    "def osar_generator(\n",
    "    observation_spec,\n",
    "    action_spec,\n",
    "    batch_size,\n",
    "    memory_len,\n",
    "    n_turns,\n",
    "    fc_layer_params,\n",
    "    num_atoms,\n",
    "    conv_type,\n",
    "    learning_rate,\n",
    "    time_step_spec,\n",
    "    n_step_update,\n",
    "    q_value=10,\n",
    "    ):\n",
    "    q_net = OSARNetwork(\n",
    "        observation_spec,\n",
    "        action_spec,\n",
    "        batch_size,\n",
    "        memory_len,\n",
    "        n_turns,\n",
    "        fc_layer_params=fc_layer_params,\n",
    "        num_atoms=num_atoms,\n",
    "        conv_type='1d',\n",
    "        )\n",
    "#     q_net = categorical_q_network.CategoricalQNetwork(\n",
    "#     observation_spec,\n",
    "#     action_spec,\n",
    "#     num_atoms=num_atoms,\n",
    "#     fc_layer_params=fc_layer_params)\n",
    "    \n",
    "    optimizer = tf.compat.v1.train.AdamOptimizer(learning_rate=learning_rate)\n",
    "\n",
    "    train_step_counter = tf.Variable(0)\n",
    "\n",
    "    agent = agents.categorical_dqn.categorical_dqn_agent.CategoricalDqnAgent(\n",
    "        time_step_spec,\n",
    "        action_spec,\n",
    "        categorical_q_network=q_net,\n",
    "        optimizer=optimizer,\n",
    "        td_errors_loss_fn=common.element_wise_squared_loss,\n",
    "        train_step_counter=train_step_counter,\n",
    "        min_q_value = -min_q_value,\n",
    "        max_q_value = min_q_value,\n",
    "        n_step_update = n_step_update,\n",
    "    )\n",
    "    agent.initialize()\n",
    "    \n",
    "    return agent\n",
    "\n",
    "    "
   ]
  },
  {
   "cell_type": "code",
   "execution_count": 6,
   "metadata": {},
   "outputs": [],
   "source": [
    "experiment_common_specs = {\n",
    "    'agent_specs': agent_specs,\n",
    "    'agent_generator': osar_generator,\n",
    "    'num_iterations': num_iterations,\n",
    "    'initial_collect_steps': initial_collect_steps,\n",
    "    'collect_steps_per_iteration': collect_steps_per_iteration,\n",
    "    'replay_buffer_max_length': replay_buffer_max_length,\n",
    "    'num_eval_episodes': num_eval_episodes,\n",
    "    'eval_interval': eval_interval,\n",
    "    'n_step_update': n_step_update,\n",
    "}"
   ]
  },
  {
   "cell_type": "code",
   "execution_count": 7,
   "metadata": {},
   "outputs": [],
   "source": [
    "configs = []\n",
    "for name in env_names:\n",
    "    config = experiment_common_specs.copy()\n",
    "    config['env_name'] = name\n",
    "    configs.append(config)"
   ]
  },
  {
   "cell_type": "code",
   "execution_count": 8,
   "metadata": {},
   "outputs": [
    {
     "name": "stdout",
     "output_type": "stream",
     "text": [
      "WARNING:tensorflow:From /home/jorgen/anaconda3/lib/python3.7/site-packages/tensorflow/python/autograph/operators/control_flow.py:1218: ReplayBuffer.get_next (from tf_agents.replay_buffers.replay_buffer) is deprecated and will be removed in a future version.\n",
      "Instructions for updating:\n",
      "Use `as_dataset(..., single_deterministic_pass=False) instead.\n"
     ]
    },
    {
     "name": "stderr",
     "output_type": "stream",
     "text": [
      "\r",
      "  0%|          | 0/4 [00:00<?, ?it/s]"
     ]
    },
    {
     "name": "stdout",
     "output_type": "stream",
     "text": [
      "WARNING:tensorflow:From /home/jorgen/anaconda3/lib/python3.7/site-packages/tensorflow/python/util/dispatch.py:201: calling foldr_v2 (from tensorflow.python.ops.functional_ops) with back_prop=False is deprecated and will be removed in a future version.\n",
      "Instructions for updating:\n",
      "back_prop=False is deprecated. Consider using tf.stop_gradient instead.\n",
      "Instead of:\n",
      "results = tf.foldr(fn, elems, back_prop=False)\n",
      "Use:\n",
      "results = tf.nest.map_structure(tf.stop_gradient, tf.foldr(fn, elems))\n"
     ]
    },
    {
     "name": "stderr",
     "output_type": "stream",
     "text": [
      "Episode 3: 100%|██████████| 4/4 [02:07<00:00, 31.94s/it, avg_return=209, train_loss=158]\n"
     ]
    },
    {
     "name": "stdout",
     "output_type": "stream",
     "text": [
      "Execution Finished.\n",
      "CPU times: user 3min 18s, sys: 24.1 s, total: 3min 42s\n",
      "Wall time: 3min 18s\n"
     ]
    }
   ],
   "source": [
    "%%time\n",
    "runner = Runner(model_name='test_one', logpath='', list_configs=configs)\n",
    "runner.run(progress=False, experiment_progress=True)"
   ]
  }
 ],
 "metadata": {
  "kernelspec": {
   "display_name": "Python 3",
   "language": "python",
   "name": "python3"
  },
  "language_info": {
   "codemirror_mode": {
    "name": "ipython",
    "version": 3
   },
   "file_extension": ".py",
   "mimetype": "text/x-python",
   "name": "python",
   "nbconvert_exporter": "python",
   "pygments_lexer": "ipython3",
   "version": "3.7.7"
  },
  "nbTranslate": {
   "displayLangs": [
    "*"
   ],
   "hotkey": "alt-t",
   "langInMainMenu": true,
   "sourceLang": "en",
   "targetLang": "fr",
   "useGoogleTranslate": true
  },
  "toc": {
   "base_numbering": 1,
   "nav_menu": {},
   "number_sections": true,
   "sideBar": true,
   "skip_h1_title": false,
   "title_cell": "Table of Contents",
   "title_sidebar": "Contents",
   "toc_cell": false,
   "toc_position": {},
   "toc_section_display": true,
   "toc_window_display": false
  },
  "varInspector": {
   "cols": {
    "lenName": 16,
    "lenType": 16,
    "lenVar": 40
   },
   "kernels_config": {
    "python": {
     "delete_cmd_postfix": "",
     "delete_cmd_prefix": "del ",
     "library": "var_list.py",
     "varRefreshCmd": "print(var_dic_list())"
    },
    "r": {
     "delete_cmd_postfix": ") ",
     "delete_cmd_prefix": "rm(",
     "library": "var_list.r",
     "varRefreshCmd": "cat(var_dic_list()) "
    }
   },
   "types_to_exclude": [
    "module",
    "function",
    "builtin_function_or_method",
    "instance",
    "_Feature"
   ],
   "window_display": false
  }
 },
 "nbformat": 4,
 "nbformat_minor": 5
}
