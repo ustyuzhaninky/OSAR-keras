{
 "cells": [
  {
   "cell_type": "markdown",
   "metadata": {},
   "source": [
    "OSAR Context Generator PoW test\n",
    "\n",
    "**Author:** [Konstantin Ustyuzhanin](https://www.facebook.com/konstantin.ustuzhanin/)<br>\n",
    "**Date created:** 2021/01/27<br>\n",
    "**Last modified:** 2021/02/10<br>\n",
    "**Description:** Implement Objective Stimuli Active Repeater (OSAR) Context Generator."
   ]
  },
  {
   "cell_type": "markdown",
   "metadata": {},
   "source": [
    "# Installations and imports"
   ]
  },
  {
   "cell_type": "code",
   "execution_count": 1,
   "metadata": {},
   "outputs": [
    {
     "name": "stderr",
     "output_type": "stream",
     "text": [
      "The system cannot find the path specified.\n"
     ]
    },
    {
     "name": "stdout",
     "output_type": "stream",
     "text": [
      "Processing d:\\jorgen\\projects\\python\\phdsub\\towerproject\\osar-keras\n",
      "Requirement already satisfied: tensorflow>=2.3.0 in c:\\users\\jorgen\\appdata\\roaming\\python\\python38\\site-packages (from OSAR==0.1.4) (2.4.1)\n",
      "Requirement already satisfied: gin-config>=0.1.1 in c:\\anaconda3\\envs\\osar\\lib\\site-packages (from OSAR==0.1.4) (0.4.0)\n",
      "Requirement already satisfied: tf_agents>=0.6.0 in c:\\anaconda3\\envs\\osar\\lib\\site-packages (from OSAR==0.1.4) (0.7.1)\n",
      "Requirement already satisfied: importlib-metadata~=1.0 in c:\\anaconda3\\envs\\osar\\lib\\site-packages (from OSAR==0.1.4) (1.7.0)\n",
      "Requirement already satisfied: zipp>=0.5 in c:\\anaconda3\\envs\\osar\\lib\\site-packages (from importlib-metadata~=1.0->OSAR==0.1.4) (3.4.0)\n",
      "Requirement already satisfied: typing-extensions~=3.7.4 in c:\\users\\jorgen\\appdata\\roaming\\python\\python38\\site-packages (from tensorflow>=2.3.0->OSAR==0.1.4) (3.7.4.3)\n",
      "Requirement already satisfied: h5py~=2.10.0 in c:\\anaconda3\\envs\\osar\\lib\\site-packages (from tensorflow>=2.3.0->OSAR==0.1.4) (2.10.0)\n",
      "Requirement already satisfied: grpcio~=1.32.0 in c:\\users\\jorgen\\appdata\\roaming\\python\\python38\\site-packages (from tensorflow>=2.3.0->OSAR==0.1.4) (1.32.0)\n",
      "Requirement already satisfied: wrapt~=1.12.1 in c:\\anaconda3\\envs\\osar\\lib\\site-packages (from tensorflow>=2.3.0->OSAR==0.1.4) (1.12.1)\n",
      "Requirement already satisfied: protobuf>=3.9.2 in c:\\anaconda3\\envs\\osar\\lib\\site-packages (from tensorflow>=2.3.0->OSAR==0.1.4) (3.14.0)\n",
      "Requirement already satisfied: tensorboard~=2.4 in c:\\users\\jorgen\\appdata\\roaming\\python\\python38\\site-packages (from tensorflow>=2.3.0->OSAR==0.1.4) (2.4.1)\n",
      "Requirement already satisfied: wheel~=0.35 in c:\\anaconda3\\envs\\osar\\lib\\site-packages (from tensorflow>=2.3.0->OSAR==0.1.4) (0.36.2)\n",
      "Requirement already satisfied: termcolor~=1.1.0 in c:\\anaconda3\\envs\\osar\\lib\\site-packages (from tensorflow>=2.3.0->OSAR==0.1.4) (1.1.0)\n",
      "Requirement already satisfied: six~=1.15.0 in c:\\anaconda3\\envs\\osar\\lib\\site-packages (from tensorflow>=2.3.0->OSAR==0.1.4) (1.15.0)\n",
      "Requirement already satisfied: astunparse~=1.6.3 in c:\\anaconda3\\envs\\osar\\lib\\site-packages (from tensorflow>=2.3.0->OSAR==0.1.4) (1.6.3)\n",
      "Requirement already satisfied: gast==0.3.3 in c:\\anaconda3\\envs\\osar\\lib\\site-packages (from tensorflow>=2.3.0->OSAR==0.1.4) (0.3.3)\n",
      "Requirement already satisfied: numpy~=1.19.2 in c:\\anaconda3\\envs\\osar\\lib\\site-packages (from tensorflow>=2.3.0->OSAR==0.1.4) (1.19.5)\n",
      "Requirement already satisfied: tensorflow-estimator<2.5.0,>=2.4.0 in c:\\users\\jorgen\\appdata\\roaming\\python\\python38\\site-packages (from tensorflow>=2.3.0->OSAR==0.1.4) (2.4.0)\n",
      "Requirement already satisfied: keras-preprocessing~=1.1.2 in c:\\anaconda3\\envs\\osar\\lib\\site-packages (from tensorflow>=2.3.0->OSAR==0.1.4) (1.1.2)\n",
      "Requirement already satisfied: google-pasta~=0.2 in c:\\anaconda3\\envs\\osar\\lib\\site-packages (from tensorflow>=2.3.0->OSAR==0.1.4) (0.2.0)\n",
      "Requirement already satisfied: opt-einsum~=3.3.0 in c:\\anaconda3\\envs\\osar\\lib\\site-packages (from tensorflow>=2.3.0->OSAR==0.1.4) (3.3.0)\n",
      "Requirement already satisfied: absl-py~=0.10 in c:\\users\\jorgen\\appdata\\roaming\\python\\python38\\site-packages (from tensorflow>=2.3.0->OSAR==0.1.4) (0.11.0)\n",
      "Requirement already satisfied: flatbuffers~=1.12.0 in c:\\users\\jorgen\\appdata\\roaming\\python\\python38\\site-packages (from tensorflow>=2.3.0->OSAR==0.1.4) (1.12)\n",
      "Requirement already satisfied: google-auth-oauthlib<0.5,>=0.4.1 in c:\\anaconda3\\envs\\osar\\lib\\site-packages (from tensorboard~=2.4->tensorflow>=2.3.0->OSAR==0.1.4) (0.4.2)\n",
      "Requirement already satisfied: tensorboard-plugin-wit>=1.6.0 in c:\\anaconda3\\envs\\osar\\lib\\site-packages (from tensorboard~=2.4->tensorflow>=2.3.0->OSAR==0.1.4) (1.8.0)\n",
      "Requirement already satisfied: google-auth<2,>=1.6.3 in c:\\anaconda3\\envs\\osar\\lib\\site-packages (from tensorboard~=2.4->tensorflow>=2.3.0->OSAR==0.1.4) (1.26.1)\n",
      "Requirement already satisfied: markdown>=2.6.8 in c:\\anaconda3\\envs\\osar\\lib\\site-packages (from tensorboard~=2.4->tensorflow>=2.3.0->OSAR==0.1.4) (3.3.3)\n",
      "Requirement already satisfied: setuptools>=41.0.0 in c:\\anaconda3\\envs\\osar\\lib\\site-packages (from tensorboard~=2.4->tensorflow>=2.3.0->OSAR==0.1.4) (49.6.0.post20210108)\n",
      "Requirement already satisfied: werkzeug>=0.11.15 in c:\\anaconda3\\envs\\osar\\lib\\site-packages (from tensorboard~=2.4->tensorflow>=2.3.0->OSAR==0.1.4) (1.0.1)\n",
      "Requirement already satisfied: requests<3,>=2.21.0 in c:\\anaconda3\\envs\\osar\\lib\\site-packages (from tensorboard~=2.4->tensorflow>=2.3.0->OSAR==0.1.4) (2.25.1)\n",
      "Requirement already satisfied: cachetools<5.0,>=2.0.0 in c:\\anaconda3\\envs\\osar\\lib\\site-packages (from google-auth<2,>=1.6.3->tensorboard~=2.4->tensorflow>=2.3.0->OSAR==0.1.4) (4.2.1)\n",
      "Requirement already satisfied: pyasn1-modules>=0.2.1 in c:\\anaconda3\\envs\\osar\\lib\\site-packages (from google-auth<2,>=1.6.3->tensorboard~=2.4->tensorflow>=2.3.0->OSAR==0.1.4) (0.2.8)\n",
      "Requirement already satisfied: rsa<5,>=3.1.4 in c:\\anaconda3\\envs\\osar\\lib\\site-packages (from google-auth<2,>=1.6.3->tensorboard~=2.4->tensorflow>=2.3.0->OSAR==0.1.4) (4.7)\n",
      "Requirement already satisfied: requests-oauthlib>=0.7.0 in c:\\anaconda3\\envs\\osar\\lib\\site-packages (from google-auth-oauthlib<0.5,>=0.4.1->tensorboard~=2.4->tensorflow>=2.3.0->OSAR==0.1.4) (1.3.0)\n",
      "Requirement already satisfied: pyasn1<0.5.0,>=0.4.6 in c:\\anaconda3\\envs\\osar\\lib\\site-packages (from pyasn1-modules>=0.2.1->google-auth<2,>=1.6.3->tensorboard~=2.4->tensorflow>=2.3.0->OSAR==0.1.4) (0.4.8)\n",
      "Requirement already satisfied: certifi>=2017.4.17 in c:\\anaconda3\\envs\\osar\\lib\\site-packages (from requests<3,>=2.21.0->tensorboard~=2.4->tensorflow>=2.3.0->OSAR==0.1.4) (2020.12.5)\n",
      "Requirement already satisfied: urllib3<1.27,>=1.21.1 in c:\\anaconda3\\envs\\osar\\lib\\site-packages (from requests<3,>=2.21.0->tensorboard~=2.4->tensorflow>=2.3.0->OSAR==0.1.4) (1.26.3)\n",
      "Requirement already satisfied: chardet<5,>=3.0.2 in c:\\anaconda3\\envs\\osar\\lib\\site-packages (from requests<3,>=2.21.0->tensorboard~=2.4->tensorflow>=2.3.0->OSAR==0.1.4) (4.0.0)\n",
      "Requirement already satisfied: idna<3,>=2.5 in c:\\anaconda3\\envs\\osar\\lib\\site-packages (from requests<3,>=2.21.0->tensorboard~=2.4->tensorflow>=2.3.0->OSAR==0.1.4) (2.10)\n",
      "Requirement already satisfied: oauthlib>=3.0.0 in c:\\anaconda3\\envs\\osar\\lib\\site-packages (from requests-oauthlib>=0.7.0->google-auth-oauthlib<0.5,>=0.4.1->tensorboard~=2.4->tensorflow>=2.3.0->OSAR==0.1.4) (3.1.0)\n",
      "Requirement already satisfied: pillow>=7.0.0 in c:\\anaconda3\\envs\\osar\\lib\\site-packages (from tf_agents>=0.6.0->OSAR==0.1.4) (7.2.0)\n",
      "Requirement already satisfied: cloudpickle>=1.3 in c:\\anaconda3\\envs\\osar\\lib\\site-packages (from tf_agents>=0.6.0->OSAR==0.1.4) (1.6.0)\n",
      "Requirement already satisfied: gym>=0.17.0 in c:\\anaconda3\\envs\\osar\\lib\\site-packages (from tf_agents>=0.6.0->OSAR==0.1.4) (0.18.0)\n",
      "Requirement already satisfied: tensorflow-probability>=0.12.1 in c:\\anaconda3\\envs\\osar\\lib\\site-packages (from tf_agents>=0.6.0->OSAR==0.1.4) (0.12.1)\n",
      "Requirement already satisfied: dm-tree in c:\\anaconda3\\envs\\osar\\lib\\site-packages (from tensorflow-probability>=0.12.1->tf_agents>=0.6.0->OSAR==0.1.4) (0.1.5)\n",
      "Requirement already satisfied: decorator in c:\\anaconda3\\envs\\osar\\lib\\site-packages (from tensorflow-probability>=0.12.1->tf_agents>=0.6.0->OSAR==0.1.4) (4.4.2)\n",
      "Building wheels for collected packages: OSAR\n",
      "  Building wheel for OSAR (setup.py): started\n",
      "  Building wheel for OSAR (setup.py): finished with status 'done'\n",
      "  Created wheel for OSAR: filename=OSAR-0.1.4-py3-none-any.whl size=74211 sha256=ecd9d1a17dad5b7b3ffbae9eae9193078db763e681b632cc9e1bb74e2a01a847\n",
      "  Stored in directory: c:\\users\\jorgen\\appdata\\local\\pip\\cache\\wheels\\df\\60\\40\\81c908253910a541e172b609cc54a7a5400e85a6fba88b292e\n",
      "Successfully built OSAR\n",
      "Installing collected packages: OSAR\n",
      "  Attempting uninstall: OSAR\n",
      "    Found existing installation: OSAR 0.1.4\n",
      "    Uninstalling OSAR-0.1.4:\n",
      "      Successfully uninstalled OSAR-0.1.4\n",
      "Successfully installed OSAR-0.1.4\n"
     ]
    }
   ],
   "source": [
    "import sys\n",
    "# !pip install -q gym\n",
    "# Install additional packages for visualization\n",
    "if sys.platform != 'win32':\n",
    "    !sudo apt-get install -y xvfb python-opengl > /dev/null 2>&1\n",
    "# !pip install pyvirtualdisplay #> /dev/null 2>&1\n",
    "# !pip install -q imageio == 2.4.0\n",
    "# !pip install PILLOW\n",
    "# !pip install pyglet\n",
    "!pip install -q git+https://github.com/tensorflow/docs > /dev/null 2>&1\n",
    "# !pip install https://github.com/ustyuzhaninky/OSAR-keras\n",
    "!pip install ../../OSAR-keras/."
   ]
  },
  {
   "cell_type": "code",
   "execution_count": 2,
   "metadata": {},
   "outputs": [
    {
     "name": "stdout",
     "output_type": "stream",
     "text": [
      "TensorFlow version: 2.4.1\n",
      "Eager execution: True\n"
     ]
    }
   ],
   "source": [
    "import os\n",
    "import collections\n",
    "import gym\n",
    "import numpy as np\n",
    "import tensorflow as tf\n",
    "import tqdm\n",
    "\n",
    "from matplotlib import pyplot as plt\n",
    "from tensorflow.keras import layers\n",
    "from typing import Any, List, Sequence, Tuple\n",
    "import numpy as np\n",
    "\n",
    "from tensorflow.keras import layers\n",
    "os.environ['TF_KERAS'] = '1'\n",
    "os.environ['TF_CPP_MIN_LOG_LEVEL'] = '3'\n",
    "\n",
    "print(\"TensorFlow version: {}\".format(tf.__version__))\n",
    "print(\"Eager execution: {}\".format(tf.executing_eagerly()))\n",
    "# Configuration parameters for the whole setup\n",
    "seed = 42"
   ]
  },
  {
   "cell_type": "markdown",
   "metadata": {},
   "source": [
    "# Environment"
   ]
  },
  {
   "cell_type": "code",
   "execution_count": 3,
   "metadata": {},
   "outputs": [],
   "source": [
    "gamma = 0.99  # Discount factor for past rewards\n",
    "max_steps_per_episode = 10000\n",
    "env = gym.make(\"Alien-ram-v0\")  # Create the environment\n",
    "env.seed(seed)\n",
    "eps = np.finfo(np.float32).eps.item()  # Smallest number such that 1.0 + eps != 1.0"
   ]
  },
  {
   "cell_type": "markdown",
   "metadata": {},
   "source": [
    "# Agents"
   ]
  },
  {
   "cell_type": "code",
   "execution_count": 4,
   "metadata": {
    "scrolled": false
   },
   "outputs": [],
   "source": [
    "from OSAR import ContextGenerator"
   ]
  },
  {
   "cell_type": "code",
   "execution_count": 5,
   "metadata": {},
   "outputs": [],
   "source": [
    "def train_step(\n",
    "    initial_state: tf.Tensor, \n",
    "    model: tf.keras.Model, \n",
    "    optimizer: tf.keras.optimizers.Optimizer, \n",
    "    gamma: float, \n",
    "    max_steps_per_episode: int,\n",
    "    initial_action=tf.zeros((1, 10,), dtype=tf.float32),\n",
    "    m_type:int=1) -> Tuple[tf.Tensor, List[tf.Tensor]]:\n",
    "    \"\"\"Runs a model training step.\"\"\"\n",
    "\n",
    "    with tf.GradientTape() as tape:\n",
    "\n",
    "        # Run the model for one episode to collect training data\n",
    "        action_probs, values, rewards, x_values = run_episode(\n",
    "            initial_state, model, max_steps_per_episode, m_type=m_type, initial_action=initial_action) \n",
    "\n",
    "        # Calculate expected returns\n",
    "        returns = get_expected_return(rewards, gamma)\n",
    "\n",
    "        # Convert training data to appropriate TF tensor shapes\n",
    "        action_probs, values, returns = [\n",
    "            tf.expand_dims(x, 1) for x in [action_probs, values, returns]] \n",
    "\n",
    "        # Calculating loss values to update our network\n",
    "        loss = compute_loss(action_probs, values, returns)\n",
    "\n",
    "        # Compute the gradients from the loss\n",
    "        grads = tape.gradient(loss, model.trainable_variables)\n",
    "\n",
    "        # Apply the gradients to the model's parameters\n",
    "        optimizer.apply_gradients(zip(grads, model.trainable_variables))\n",
    "\n",
    "    episode_reward = tf.math.reduce_sum(rewards)\n",
    "    episode_x = tf.math.reduce_mean(x_values)\n",
    "    episode_loss = tf.math.reduce_mean(loss)\n",
    "    episode_actions = tf.math.reduce_mean(action_probs)\n",
    "    episode_values = tf.math.reduce_sum(values)\n",
    "\n",
    "    return episode_reward, [episode_reward, episode_x, episode_loss, episode_actions, episode_values]"
   ]
  },
  {
   "cell_type": "code",
   "execution_count": 6,
   "metadata": {},
   "outputs": [],
   "source": [
    "def get_baseline(num_hidden=10, num_inputs=env.observation_space.high.shape[0],\n",
    "                 num_actions=env.action_space.n):\n",
    "    \n",
    "    class ActorCritic(tf.keras.Model):\n",
    "        \"\"\"Combined actor-critic network.\"\"\"\n",
    "\n",
    "        def __init__(\n",
    "                self, \n",
    "                num_actions: int, \n",
    "                num_hidden_units: int):\n",
    "            \"\"\"Initialize.\"\"\"\n",
    "            super().__init__()\n",
    "            self.num_hidden_units = num_hidden_units\n",
    "            self.common = layers.Dense(num_hidden_units,\n",
    "                                       kernel_regularizer='l2',\n",
    "                                       bias_regularizer='l2',\n",
    "                                       activation=\"relu\")\n",
    "            self.actor = layers.Dense(num_actions)\n",
    "            self.critic = layers.Dense(1)\n",
    "        \n",
    "        @tf.function\n",
    "        def train_step(self, initial_state: tf.Tensor, \n",
    "            optimizer: tf.keras.optimizers.Optimizer, \n",
    "            gamma: float, \n",
    "            max_steps_per_episode: int,\n",
    "            initial_action=tf.zeros((1, 10,), dtype=tf.float32)) -> Tuple[tf.Tensor, List[tf.Tensor]]:\n",
    "            return train_step(\n",
    "                initial_state, self, optimizer, gamma,\n",
    "                max_steps_per_episode, m_type=1,\n",
    "                initial_action=tf.zeros((1, self.num_hidden_units,), dtype=tf.float32))\n",
    "\n",
    "        def call(self, inputs: tf.Tensor) -> Tuple[tf.Tensor, tf.Tensor, tf.Tensor]:\n",
    "            x = self.common(inputs)\n",
    "            return self.actor(x), self.critic(x), x\n",
    "\n",
    "    agent = ActorCritic(num_actions, num_hidden)\n",
    "    agent.compile(loss=tf.keras.losses.Huber, optimizer=tf.keras.optimizers.Adam(learning_rate=0.01), run_eagerly=False)\n",
    "    return agent\n",
    "\n",
    "def get_GRU(num_hidden=10, num_inputs=env.observation_space.high.shape[0],\n",
    "            num_actions=env.action_space.n,\n",
    "            batch_size=1,\n",
    "            memory_dpi=10,\n",
    "            n_turns=3):\n",
    "    \n",
    "    class ActorCritic(tf.keras.Model):\n",
    "        \"\"\"Combined actor-critic network.\"\"\"\n",
    "\n",
    "        def __init__(\n",
    "                self, \n",
    "                num_actions: int, \n",
    "                num_hidden_units: int,):\n",
    "            \"\"\"Initialize.\"\"\"\n",
    "            super().__init__()\n",
    "            self.num_hidden_units = num_hidden_units\n",
    "            self.common = layers.Dense(num_hidden_units,\n",
    "                                       kernel_regularizer='l2',\n",
    "                                       bias_regularizer='l2',\n",
    "                                       activation=\"relu\")\n",
    "            self.gru = tf.keras.layers.GRU(num_hidden_units,\n",
    "                     kernel_regularizer='l2',\n",
    "                     dropout=0.2,\n",
    "                     recurrent_dropout=0.2,\n",
    "                     bias_regularizer='l2',\n",
    "                     )\n",
    "            self.actor = layers.Dense(num_actions)\n",
    "            self.critic = layers.Dense(1)\n",
    "        \n",
    "        @tf.function\n",
    "        def train_step(self, initial_state: tf.Tensor, \n",
    "            optimizer: tf.keras.optimizers.Optimizer, \n",
    "            gamma: float, \n",
    "            max_steps_per_episode: int,\n",
    "            initial_action=tf.zeros((1, 10,), dtype=tf.float32)) -> Tuple[tf.Tensor, List[tf.Tensor]]:\n",
    "            return train_step(\n",
    "                initial_state, self, optimizer, gamma,\n",
    "                max_steps_per_episode, m_type=1,\n",
    "                initial_action=tf.zeros((1, self.num_hidden_units,), dtype=tf.float32))\n",
    "        \n",
    "        def call(self, inputs: tf.Tensor) -> Tuple[tf.Tensor, tf.Tensor, tf.Tensor]:\n",
    "            state = self.common(inputs)\n",
    "            state = tf.expand_dims(inputs, axis=1)\n",
    "            x = self.gru(state)\n",
    "            \n",
    "            return self.actor(x), self.critic(x), x\n",
    "    agent = ActorCritic(num_actions, num_hidden)\n",
    "    agent.compile(loss=tf.keras.losses.Huber, optimizer=tf.keras.optimizers.Adam(learning_rate=0.01), run_eagerly=False)\n",
    "    return agent\n",
    "    \n",
    "def get_OSAR(num_hidden=10, num_inputs=env.observation_space.high.shape[0],\n",
    "             num_actions=env.action_space.n,\n",
    "             batch_size=1,\n",
    "             memory_dpi=10,\n",
    "             n_turns=3):\n",
    "    \n",
    "    class ActorCritic(tf.keras.Model):\n",
    "        \"\"\"Combined actor-critic network.\"\"\"\n",
    "\n",
    "        def __init__(\n",
    "                self, \n",
    "                num_actions: int, \n",
    "                num_hidden_units: int,\n",
    "                memory_len: int,\n",
    "                n_turns: int):\n",
    "            \"\"\"Initialize.\"\"\"\n",
    "            super().__init__()\n",
    "            self.num_hidden_units = num_hidden_units\n",
    "            self.common = layers.Dense(num_hidden_units, \n",
    "                                       kernel_regularizer='l2',\n",
    "                                       bias_regularizer='l2',\n",
    "                                       activation=\"relu\")\n",
    "            self.generator = ContextGenerator(num_hidden_units,\n",
    "                     batch_size,\n",
    "                     memory_len,\n",
    "                     n_turns,\n",
    "                     kernel_regularizer='l2',\n",
    "                     bias_regularizer='l2',\n",
    "                     )\n",
    "            self.gru = tf.keras.layers.GRU(num_hidden_units,\n",
    "                     kernel_regularizer='l2',\n",
    "                     dropout=0.2,\n",
    "                     recurrent_dropout=0.2,\n",
    "                     bias_regularizer='l2',\n",
    "                     )\n",
    "            self.actor = layers.Dense(num_actions)\n",
    "            self.critic = layers.Dense(1)\n",
    "        \n",
    "        @tf.function\n",
    "        def train_step(self, initial_state: tf.Tensor, \n",
    "            optimizer: tf.keras.optimizers.Optimizer, \n",
    "            gamma: float, \n",
    "            max_steps_per_episode: int,\n",
    "            initial_action=tf.zeros((1, 10,), dtype=tf.float32)) -> Tuple[tf.Tensor, List[tf.Tensor]]:\n",
    "            return train_step(\n",
    "                initial_state, self, optimizer, gamma,\n",
    "                max_steps_per_episode, m_type=2,\n",
    "                initial_action=tf.zeros((1, self.num_hidden_units,), dtype=tf.float32))\n",
    "        \n",
    "        def call(self, inputs: List[tf.Tensor]) -> Tuple[tf.Tensor, tf.Tensor, tf.Tensor]:\n",
    "            state = inputs[0]\n",
    "            reward = tf.cast(inputs[1], tf.float32)\n",
    "            action = inputs[2]\n",
    "            state = self.common(state)\n",
    "            state = tf.expand_dims(state, axis=1)\n",
    "            reward = tf.expand_dims(reward, axis=1)\n",
    "            action = tf.expand_dims(action, axis=1)\n",
    "            generator = self.generator([state, reward, action])\n",
    "            tiled_state = tf.tile(state, (1, generator.shape[1], 1))\n",
    "            x = self.gru(tf.concat([generator, tiled_state], axis=-1))\n",
    "            \n",
    "            return self.actor(x), self.critic(x), x#[:, -1, -num_hidden:]\n",
    "    agent = ActorCritic(num_actions, num_hidden, memory_dpi, n_turns)\n",
    "    agent.compile(loss=tf.keras.losses.Huber, optimizer=tf.keras.optimizers.Adam(learning_rate=0.01), run_eagerly=False)\n",
    "    return agent"
   ]
  },
  {
   "cell_type": "markdown",
   "metadata": {},
   "source": [
    "# Functions"
   ]
  },
  {
   "cell_type": "code",
   "execution_count": 7,
   "metadata": {},
   "outputs": [],
   "source": [
    "def env_step(action: np.ndarray) -> Tuple[np.ndarray, np.ndarray, np.ndarray]:\n",
    "    \"\"\"Returns state, reward and done flag given an action.\"\"\"\n",
    "\n",
    "    state, reward, done, _ = env.step(action)\n",
    "    return (state.astype(np.float32), \n",
    "            np.array(reward, np.int32), \n",
    "            np.array(done, np.int32))\n",
    "\n",
    "\n",
    "def tf_env_step(action: tf.Tensor) -> List[tf.Tensor]:\n",
    "    return tf.numpy_function(env_step, [action], \n",
    "                             [tf.float32, tf.int32, tf.int32])"
   ]
  },
  {
   "cell_type": "code",
   "execution_count": 8,
   "metadata": {},
   "outputs": [],
   "source": [
    "def run_episode(\n",
    "    initial_state: tf.Tensor,\n",
    "    model: tf.keras.Model,\n",
    "    max_steps: int,\n",
    "    m_type: int=1,\n",
    "    initial_reward: tf.Tensor = tf.zeros((1, 1), dtype=tf.int32), \n",
    "    initial_action: tf.Tensor = None,\n",
    ") -> List[tf.Tensor]:\n",
    "    \"\"\"Runs a single episode to collect training data.\"\"\"\n",
    "\n",
    "    action_probs = tf.TensorArray(dtype=tf.float32, size=0, dynamic_size=True)\n",
    "    values = tf.TensorArray(dtype=tf.float32, size=0, dynamic_size=True)\n",
    "    rewards = tf.TensorArray(dtype=tf.int32, size=0, dynamic_size=True)\n",
    "    x_values = tf.TensorArray(dtype=tf.float32, size=0, dynamic_size=True)\n",
    "\n",
    "    initial_state_shape = initial_state.shape\n",
    "    state = initial_state\n",
    "    last_action = initial_action\n",
    "    reward = initial_reward\n",
    "        \n",
    "    for t in tf.range(max_steps):\n",
    "        tf.autograph.experimental.set_loop_options(\n",
    "            shape_invariants=[(reward, tf.TensorShape([1, 1]))]\n",
    "            )\n",
    "        \n",
    "        # Convert state into a batched tensor (batch size = 1)\n",
    "        state = tf.expand_dims(state, 0)\n",
    "        \n",
    "        # Run the model and to get action probabilities and critic value\n",
    "        if m_type == 1:\n",
    "            action_logits_t, value, last_action = model(state)\n",
    "        else:\n",
    "            action_logits_t, value, last_action = model([state, reward, tf.nn.softmax(last_action)])\n",
    "        \n",
    "        # store last_action values\n",
    "        x_values = x_values.write(t, last_action)\n",
    "        \n",
    "        # Sample next action from the action probability distribution\n",
    "        action = tf.random.categorical(action_logits_t, env.action_space.n)[0, 0]\n",
    "        action_probs_t = tf.nn.softmax(action_logits_t)\n",
    "        \n",
    "        # Store critic values\n",
    "        values = values.write(t, tf.squeeze(value))\n",
    "\n",
    "        # Store log probability of the action chosen\n",
    "        action_probs = action_probs.write(t, action_probs_t[0, action])\n",
    "\n",
    "        # Apply action to the environment to get next state and reward\n",
    "        state, episode_reward, done = tf_env_step(action)\n",
    "        state.set_shape(initial_state_shape)\n",
    "\n",
    "        # Store reward\n",
    "        rewards = rewards.write(t, episode_reward)\n",
    "        reward = tf.expand_dims(tf.reshape(episode_reward, (1,)), 0)\n",
    "\n",
    "        if tf.cast(done, tf.bool):\n",
    "            break\n",
    "\n",
    "    action_probs = action_probs.stack()\n",
    "    values = values.stack()\n",
    "    rewards = rewards.stack()\n",
    "    x_values = x_values.stack()\n",
    "\n",
    "    return action_probs, values, rewards, x_values"
   ]
  },
  {
   "cell_type": "code",
   "execution_count": 9,
   "metadata": {},
   "outputs": [],
   "source": [
    "def get_expected_return(\n",
    "    rewards: tf.Tensor, \n",
    "    gamma: float, \n",
    "    standardize: bool = True) -> tf.Tensor:\n",
    "    \"\"\"Compute expected returns per timestep.\"\"\"\n",
    "\n",
    "    n = tf.shape(rewards)[0]\n",
    "    returns = tf.TensorArray(dtype=tf.float32, size=n)\n",
    "\n",
    "    # Start from the end of `rewards` and accumulate reward sums\n",
    "    # into the `returns` array\n",
    "    rewards = tf.cast(rewards[::-1], dtype=tf.float32)\n",
    "    discounted_sum = tf.constant(0.0)\n",
    "    discounted_sum_shape = discounted_sum.shape\n",
    "    for i in tf.range(n):\n",
    "        reward = rewards[i]\n",
    "        discounted_sum = reward + gamma * discounted_sum\n",
    "        discounted_sum.set_shape(discounted_sum_shape)\n",
    "        returns = returns.write(i, discounted_sum)\n",
    "    returns = returns.stack()[::-1]\n",
    "\n",
    "    if standardize:\n",
    "        returns = ((returns - tf.math.reduce_mean(returns)) / \n",
    "                   (tf.math.reduce_std(returns) + eps))\n",
    "\n",
    "    return returns"
   ]
  },
  {
   "cell_type": "code",
   "execution_count": 10,
   "metadata": {},
   "outputs": [],
   "source": [
    "huber_loss = tf.keras.losses.Huber(reduction=tf.keras.losses.Reduction.SUM)\n",
    "\n",
    "def compute_loss(\n",
    "    action_probs: tf.Tensor,  \n",
    "    values: tf.Tensor,  \n",
    "    returns: tf.Tensor) -> tf.Tensor:\n",
    "    \"\"\"Computes the combined actor-critic loss.\"\"\"\n",
    "\n",
    "    advantage = returns - values\n",
    "\n",
    "    action_log_probs = tf.math.log(action_probs)\n",
    "    actor_loss = -tf.math.reduce_sum(action_log_probs * advantage)\n",
    "\n",
    "    critic_loss = huber_loss(values, returns)\n",
    "\n",
    "    return actor_loss + critic_loss"
   ]
  },
  {
   "cell_type": "code",
   "execution_count": 11,
   "metadata": {},
   "outputs": [],
   "source": [
    "optimizer = tf.keras.optimizers.Adam(learning_rate=0.01)"
   ]
  },
  {
   "cell_type": "code",
   "execution_count": 39,
   "metadata": {},
   "outputs": [],
   "source": [
    "# @tf.function\n",
    "def run(model:tf.keras.Model,\n",
    "        inits:int,\n",
    "        max_episodes:int,\n",
    "        max_steps_per_episode:int,\n",
    "        reward_threshold:float,\n",
    "        gamma:int,\n",
    "        m_type:int=1) -> List[tf.Tensor]:\n",
    "    \n",
    "    running_reward = 0\n",
    "    train_history = tf.TensorArray(dtype=tf.float32, size=0, dynamic_size=True)\n",
    "    \n",
    "    with tqdm.trange(max_episodes) as t:\n",
    "        for i in t:\n",
    "            initial_state = tf.constant(env.reset(), dtype=tf.float32)\n",
    "            episode_reward, hist = model.train_step(\n",
    "                initial_state, optimizer, gamma,\n",
    "                max_steps_per_episode,\n",
    "                initial_action=tf.zeros((1, inits,), dtype=tf.float32))\n",
    "            episode_reward = tf.cast(episode_reward, tf.float32)\n",
    "            hist = tf.concat([\n",
    "                tf.cast(tf.expand_dims(x, 0), tf.float32) for x in hist], axis=0)\n",
    "            train_history = train_history.write(i, hist)\n",
    "            \n",
    "            running_reward = episode_reward*0.01 + running_reward*.99\n",
    "\n",
    "            t.set_description(f'Episode {i}')\n",
    "            if hasattr(episode_reward, 'numpy'):\n",
    "                episode_reward = episode_reward.numpy()\n",
    "                running_reward = running_reward.numpy()\n",
    "            else:\n",
    "                episode_reward = episode_reward\n",
    "                running_reward = running_reward\n",
    "            t.set_postfix(\n",
    "                episode_reward=episode_reward, running_reward=running_reward)\n",
    "\n",
    "            # Show average episode reward every 10 episodes\n",
    "            if i % 10 == 0:\n",
    "                pass#print(f'Episode {i}: average reward: {avg_reward}')\n",
    "#             if tf.get_static_value(running_reward) > reward_threshold:  \n",
    "#                 break\n",
    "    \n",
    "    train_history = train_history.stack()\n",
    "    print(f'\\nSolved at episode {i}: average reward: {running_reward:.2f}!')\n",
    "    return train_history"
   ]
  },
  {
   "cell_type": "markdown",
   "metadata": {},
   "source": [
    "# Training"
   ]
  },
  {
   "cell_type": "code",
   "execution_count": 38,
   "metadata": {},
   "outputs": [],
   "source": [
    "max_episodes = 1000\n",
    "max_steps_per_episode = 1000\n",
    "num_hidden = 10\n",
    "# Cartpole-v0 is considered solved if average reward is >= 195 over 100 \n",
    "# consecutive trials\n",
    "reward_threshold = 300#195.0\n",
    "\n",
    "# Discount factor for future rewards\n",
    "gamma = 0.99"
   ]
  },
  {
   "cell_type": "code",
   "execution_count": 32,
   "metadata": {
    "scrolled": true
   },
   "outputs": [
    {
     "name": "stderr",
     "output_type": "stream",
     "text": [
      "Episode 999: 100%|█████████████████████████| 1000/1000 [18:49<00:00,  1.13s/it, episode_reward=250, running_reward=246]"
     ]
    },
    {
     "name": "stdout",
     "output_type": "stream",
     "text": [
      "\n",
      "Solved at episode 999: average reward: 246.41!\n",
      "Wall time: 18min 49s\n"
     ]
    },
    {
     "name": "stderr",
     "output_type": "stream",
     "text": [
      "\n"
     ]
    }
   ],
   "source": [
    "%%time\n",
    "baseline = get_baseline()\n",
    "with tf.device('/device:CPU:0'):\n",
    "    baseline_hist = run(baseline, \n",
    "                        num_hidden,\n",
    "                        max_episodes,\n",
    "                        max_steps_per_episode,\n",
    "                        reward_threshold,\n",
    "                        gamma,\n",
    "                        m_type=1)"
   ]
  },
  {
   "cell_type": "code",
   "execution_count": 15,
   "metadata": {},
   "outputs": [
    {
     "name": "stderr",
     "output_type": "stream",
     "text": [
      "Episode 999: 100%|█████████████████████████| 1000/1000 [21:48<00:00,  1.31s/it, episode_reward=170, running_reward=289]"
     ]
    },
    {
     "name": "stdout",
     "output_type": "stream",
     "text": [
      "\n",
      "Solved at episode 999: average reward: 289.38!\n",
      "Wall time: 21min 48s\n"
     ]
    },
    {
     "name": "stderr",
     "output_type": "stream",
     "text": [
      "\n"
     ]
    }
   ],
   "source": [
    "%%time\n",
    "\n",
    "gru = get_GRU()\n",
    "with tf.device('/device:CPU:0'):\n",
    "    gru_hist = run(gru, \n",
    "                   num_hidden,\n",
    "                   max_episodes,\n",
    "                   max_steps_per_episode,\n",
    "                   reward_threshold,\n",
    "                   gamma,\n",
    "                   m_type=1)"
   ]
  },
  {
   "cell_type": "code",
   "execution_count": 40,
   "metadata": {},
   "outputs": [
    {
     "name": "stderr",
     "output_type": "stream",
     "text": [
      "\r",
      "  0%|                                                                                         | 0/1000 [00:00<?, ?it/s]"
     ]
    },
    {
     "name": "stdout",
     "output_type": "stream",
     "text": [
      "ERROR:tensorflow:==================================\n",
      "Object was never used (type <class 'tensorflow.python.ops.tensor_array_ops.TensorArray'>):\n",
      "<tensorflow.python.ops.tensor_array_ops.TensorArray object at 0x000001E3C71A4D60>\n",
      "If you want to mark it as used call its \"mark_used()\" method.\n",
      "It was originally created here:\n",
      "  File \"C:\\Users\\Jorgen\\AppData\\Roaming\\Python\\Python38\\site-packages\\tensorflow\\python\\keras\\backend.py\", line 4489, in <genexpr>\n",
      "    ta.write(time, out) for ta, out in zip(output_ta_t, flat_output))  File \"C:\\Users\\Jorgen\\AppData\\Roaming\\Python\\Python38\\site-packages\\tensorflow\\python\\util\\tf_should_use.py\", line 247, in wrapped\n",
      "    return _add_should_use_warning(fn(*args, **kwargs),\n",
      "==================================\n"
     ]
    },
    {
     "name": "stderr",
     "output_type": "stream",
     "text": [
      "ERROR:tensorflow:==================================\n",
      "Object was never used (type <class 'tensorflow.python.ops.tensor_array_ops.TensorArray'>):\n",
      "<tensorflow.python.ops.tensor_array_ops.TensorArray object at 0x000001E3C71A4D60>\n",
      "If you want to mark it as used call its \"mark_used()\" method.\n",
      "It was originally created here:\n",
      "  File \"C:\\Users\\Jorgen\\AppData\\Roaming\\Python\\Python38\\site-packages\\tensorflow\\python\\keras\\backend.py\", line 4489, in <genexpr>\n",
      "    ta.write(time, out) for ta, out in zip(output_ta_t, flat_output))  File \"C:\\Users\\Jorgen\\AppData\\Roaming\\Python\\Python38\\site-packages\\tensorflow\\python\\util\\tf_should_use.py\", line 247, in wrapped\n",
      "    return _add_should_use_warning(fn(*args, **kwargs),\n",
      "==================================\n"
     ]
    },
    {
     "name": "stdout",
     "output_type": "stream",
     "text": [
      "ERROR:tensorflow:==================================\n",
      "Object was never used (type <class 'tensorflow.python.ops.tensor_array_ops.TensorArray'>):\n",
      "<tensorflow.python.ops.tensor_array_ops.TensorArray object at 0x000001E3A0998F10>\n",
      "If you want to mark it as used call its \"mark_used()\" method.\n",
      "It was originally created here:\n",
      "  File \"C:\\Anaconda3\\envs\\osar\\lib\\site-packages\\IPython\\core\\magic.py\", line 187, in <lambda>\n",
      "    call = lambda f, *a, **k: f(*a, **k)  File \"C:\\Anaconda3\\envs\\osar\\lib\\site-packages\\IPython\\core\\magics\\execution.py\", line 1329, in time\n",
      "    return  File \"<timed exec>\", line 3, in <module>  File \"<ipython-input-24-cb1ff9a6a3fd>\", line 39, in run\n",
      "    pass#print(f'Episode {i}: average reward: {avg_reward}')  File \"C:\\Users\\Jorgen\\AppData\\Roaming\\Python\\Python38\\site-packages\\tensorflow\\python\\util\\tf_should_use.py\", line 247, in wrapped\n",
      "    return _add_should_use_warning(fn(*args, **kwargs),\n",
      "==================================\n"
     ]
    },
    {
     "name": "stderr",
     "output_type": "stream",
     "text": [
      "ERROR:tensorflow:==================================\n",
      "Object was never used (type <class 'tensorflow.python.ops.tensor_array_ops.TensorArray'>):\n",
      "<tensorflow.python.ops.tensor_array_ops.TensorArray object at 0x000001E3A0998F10>\n",
      "If you want to mark it as used call its \"mark_used()\" method.\n",
      "It was originally created here:\n",
      "  File \"C:\\Anaconda3\\envs\\osar\\lib\\site-packages\\IPython\\core\\magic.py\", line 187, in <lambda>\n",
      "    call = lambda f, *a, **k: f(*a, **k)  File \"C:\\Anaconda3\\envs\\osar\\lib\\site-packages\\IPython\\core\\magics\\execution.py\", line 1329, in time\n",
      "    return  File \"<timed exec>\", line 3, in <module>  File \"<ipython-input-24-cb1ff9a6a3fd>\", line 39, in run\n",
      "    pass#print(f'Episode {i}: average reward: {avg_reward}')  File \"C:\\Users\\Jorgen\\AppData\\Roaming\\Python\\Python38\\site-packages\\tensorflow\\python\\util\\tf_should_use.py\", line 247, in wrapped\n",
      "    return _add_should_use_warning(fn(*args, **kwargs),\n",
      "==================================\n",
      "Episode 999: 100%|██████████████████████| 1000/1000 [11:22:37<00:00, 40.96s/it, episode_reward=220, running_reward=230]"
     ]
    },
    {
     "name": "stdout",
     "output_type": "stream",
     "text": [
      "\n",
      "Solved at episode 999: average reward: 230.49!\n",
      "Wall time: 11h 22min 37s\n"
     ]
    },
    {
     "name": "stderr",
     "output_type": "stream",
     "text": [
      "\n"
     ]
    }
   ],
   "source": [
    "%%time\n",
    "osar = get_OSAR(num_hidden=num_hidden,)\n",
    "with tf.device('/device:CPU:0'):\n",
    "    osar_hist = run(osar, \n",
    "                    num_hidden,\n",
    "                    max_episodes,\n",
    "                    max_steps_per_episode,\n",
    "                    reward_threshold,\n",
    "                    gamma,\n",
    "                    m_type=2)"
   ]
  },
  {
   "cell_type": "markdown",
   "metadata": {},
   "source": [
    "# Results"
   ]
  },
  {
   "cell_type": "code",
   "execution_count": 41,
   "metadata": {},
   "outputs": [],
   "source": [
    "labels = ['episode_reward', 'episode_x', 'episode_loss', 'episode_actions', 'episode_values']"
   ]
  },
  {
   "cell_type": "code",
   "execution_count": 42,
   "metadata": {},
   "outputs": [],
   "source": [
    "def get_running_reward(rewards):\n",
    "    running_reward = [0]\n",
    "    for r in rewards:\n",
    "        running_reward.append(r*0.01 + running_reward[-1]*.99)\n",
    "    return running_reward"
   ]
  },
  {
   "cell_type": "code",
   "execution_count": 43,
   "metadata": {},
   "outputs": [
    {
     "data": {
      "image/png": "[encoded data removed]",
      "text/plain": [
       "<Figure size 720x720 with 4 Axes>"
      ]
     },
     "metadata": {
      "needs_background": "light"
     },
     "output_type": "display_data"
    }
   ],
   "source": [
    "fig, ax = plt.subplots(nrows=2, ncols=2, sharex=True, figsize=(10, 10))\n",
    "\n",
    "ax[0, 0].plot(get_running_reward(baseline_hist[:, 0]), '--', alpha=0.7, label='baseline')\n",
    "ax[0, 0].plot(get_running_reward(osar_hist[:, 0]), label='osar')\n",
    "ax[0, 0].plot(get_running_reward(gru_hist[:, 0]), alpha=0.4, label='GRU')\n",
    "ax[0, 0].set_title('Накопленная награда')\n",
    "ax[0, 0].legend()\n",
    "ax[1, 0].plot(baseline_hist[:, 2], '--', alpha=0.7, label='baseline')\n",
    "ax[1, 0].plot(osar_hist[:, 2], label='osar')\n",
    "ax[1, 0].plot(gru_hist[:, 2], alpha=0.4, label='gru')\n",
    "ax[1, 0].set_title('Функция потерь')\n",
    "ax[1, 0].legend()\n",
    "ax[0, 1].plot(get_running_reward(baseline_hist[:, 4]), '--', alpha=0.7, label='Критик baseline')\n",
    "ax[0, 1].plot(get_running_reward(osar_hist[:, 4]), label='Критик osar')\n",
    "ax[0, 1].plot(get_running_reward(baseline_hist[:, 0]),'--', alpha=0.7, label='Награда baseline')\n",
    "ax[0, 1].plot(get_running_reward(osar_hist[:, 0]), label='Награда osar')\n",
    "ax[0, 1].plot(get_running_reward(gru_hist[:, 0]), alpha=0.4, label='Награда GRU')\n",
    "ax[0, 1].plot(get_running_reward(gru_hist[:, 4]), alpha=0.4, label='Критик GRU')\n",
    "ax[0, 1].set_title('Реальная награда и ожидаемая награды Критика')\n",
    "ax[0, 1].legend()\n",
    "ax[1, 1].plot(baseline_hist[:, 3], '--', alpha=0.7, label='baseline')\n",
    "ax[1, 1].plot(osar_hist[:, 3], label='osar')\n",
    "ax[1, 1].plot(gru_hist[:, 3], alpha=0.4, label='GRU')\n",
    "ax[1, 1].set_title('Функция уверенности в выбранном действии')\n",
    "ax[1, 1].legend()\n",
    "plt.show()"
   ]
  },
  {
   "cell_type": "code",
   "execution_count": 44,
   "metadata": {},
   "outputs": [
    {
     "data": {
      "image/png": "[encoded data removed]",
      "text/plain": [
       "<Figure size 432x288 with 1 Axes>"
      ]
     },
     "metadata": {
      "needs_background": "light"
     },
     "output_type": "display_data"
    }
   ],
   "source": [
    "plt.bar(range(len(gru_hist)), baseline_hist[:len(gru_hist), 0], alpha=0.7, label='baseline')\n",
    "plt.bar(range(len(gru_hist)), gru_hist[:, 0], alpha=0.4,\n",
    "        bottom=baseline_hist[:len(gru_hist), 0], label='GRU')\n",
    "plt.bar(range(len(gru_hist)), osar_hist[:len(gru_hist), 0], alpha=0.7, label='osar',\n",
    "       bottom=baseline_hist[:len(gru_hist), 0]+osar_hist[:len(gru_hist), 0])\n",
    "plt.title('Награда за эпизод игры')\n",
    "plt.legend()\n",
    "plt.show()"
   ]
  },
  {
   "cell_type": "markdown",
   "metadata": {},
   "source": [
    "# Visualisation"
   ]
  },
  {
   "cell_type": "code",
   "execution_count": 45,
   "metadata": {},
   "outputs": [],
   "source": [
    "# Render an episode and save as a GIF file\n",
    "\n",
    "import sys\n",
    "from IPython import display as ipythondisplay\n",
    "from PIL import Image\n",
    "from pyvirtualdisplay import Display\n",
    "# import tensorflow_docs.vis.embed as embed\n",
    "\n",
    "if sys.platform != 'win32':\n",
    "    display = Display(visible=0, size=(400, 300))\n",
    "    display.start()\n",
    "\n",
    "\n",
    "def render_episode(env: gym.Env, model: tf.keras.Model, max_steps: int, m_type:int=1, inits:int=num_hidden,): \n",
    "    screen = env.render(mode='rgb_array')\n",
    "    im = Image.fromarray(screen)\n",
    "\n",
    "    images = [im]\n",
    "    \n",
    "    reward, loop_var = tf.zeros((1, 1), tf.float32), tf.zeros((1, inits), tf.float32)\n",
    "\n",
    "    state = tf.constant(env.reset(), dtype=tf.float32)\n",
    "    for i in range(1, max_steps + 1):\n",
    "        state = tf.expand_dims(state, 0)\n",
    "        \n",
    "        if m_type == 1: \n",
    "            action_probs, _, loop_var = model(state)\n",
    "            action = tf.random.categorical(action_probs, env.action_space.n)[0, 0]\n",
    "        else:\n",
    "            action_probs, _, loop_var = model([state, reward, tf.nn.softmax(loop_var)])\n",
    "            action = tf.random.categorical(action_probs, env.action_space.n)[0, 0]\n",
    "        \n",
    "        state, reward, done, _ = env.step(action)\n",
    "        state = tf.constant(state, dtype=tf.float32)\n",
    "        reward = tf.expand_dims(tf.constant(reward, dtype=tf.float32), axis=0)\n",
    "        reward = tf.expand_dims(reward, 0)\n",
    "\n",
    "        # Render screen every 10 steps\n",
    "        if i % 10 == 0:\n",
    "            screen = env.render(mode='rgb_array')\n",
    "            images.append(Image.fromarray(screen))\n",
    "\n",
    "        if done:\n",
    "            break\n",
    "    env.close()\n",
    "    return images"
   ]
  },
  {
   "cell_type": "markdown",
   "metadata": {},
   "source": [
    "## Untrained:"
   ]
  },
  {
   "cell_type": "markdown",
   "metadata": {},
   "source": [
    "### Baseline"
   ]
  },
  {
   "cell_type": "code",
   "execution_count": 49,
   "metadata": {},
   "outputs": [
    {
     "name": "stderr",
     "output_type": "stream",
     "text": [
      "Episode 99: 100%|████████████████████████████| 100/100 [01:44<00:00,  1.04s/it, episode_reward=230, running_reward=125]\n"
     ]
    },
    {
     "name": "stdout",
     "output_type": "stream",
     "text": [
      "\n",
      "Solved at episode 99: average reward: 125.23!\n"
     ]
    }
   ],
   "source": [
    "# Save GIF image\n",
    "buggy_baseline = get_baseline()\n",
    "run(buggy_baseline, 10, 100, max_steps_per_episode, reward_threshold, gamma, m_type=1)\n",
    "images = render_episode(env, buggy_baseline, max_steps_per_episode)\n",
    "image_untrained_baseline_file = '../images/alien-baseline-untrained-v0.gif'\n",
    "# loop=0: loop forever, duration=1: play each frame for 1ms\n",
    "images[0].save(\n",
    "    image_untrained_baseline_file, save_all=True, append_images=images[1:], loop=0, duration=1)\n",
    "# embed.embed_file(image_untrained_baseline_file)"
   ]
  },
  {
   "cell_type": "markdown",
   "metadata": {},
   "source": [
    "### GRU"
   ]
  },
  {
   "cell_type": "code",
   "execution_count": 53,
   "metadata": {},
   "outputs": [
    {
     "name": "stderr",
     "output_type": "stream",
     "text": [
      "Episode 99: 100%|████████████████████████████| 100/100 [03:04<00:00,  1.84s/it, episode_reward=140, running_reward=143]\n"
     ]
    },
    {
     "name": "stdout",
     "output_type": "stream",
     "text": [
      "\n",
      "Solved at episode 99: average reward: 142.51!\n"
     ]
    }
   ],
   "source": [
    "# Save GIF image\n",
    "buggy_gru = get_GRU(num_hidden=10,)\n",
    "run(buggy_gru, 10, 100, max_steps_per_episode, reward_threshold, gamma, m_type=1)\n",
    "images = render_episode(env, buggy_gru, max_steps_per_episode, m_type=1)\n",
    "image_untrained_gru_file = '../images/alien-gru-untrained-v0.gif'\n",
    "# loop=0: loop forever, duration=1: play each frame for 1ms\n",
    "images[0].save(\n",
    "    image_untrained_gru_file, save_all=True, append_images=images[1:], loop=0, duration=1)\n",
    "# embed.embed_file(image_untrained_osar_file)"
   ]
  },
  {
   "cell_type": "markdown",
   "metadata": {},
   "source": [
    "### OSAR (Context Genrator + GRU Only)"
   ]
  },
  {
   "cell_type": "code",
   "execution_count": 50,
   "metadata": {},
   "outputs": [
    {
     "name": "stderr",
     "output_type": "stream",
     "text": [
      "Episode 99: 100%|███████████████████████████| 100/100 [13:58<00:00,  8.38s/it, episode_reward=140, running_reward=90.5]\n"
     ]
    },
    {
     "name": "stdout",
     "output_type": "stream",
     "text": [
      "\n",
      "Solved at episode 99: average reward: 90.51!\n"
     ]
    }
   ],
   "source": [
    "# Save GIF image\n",
    "buggy_osar = get_OSAR(num_hidden=10,)\n",
    "run(buggy_osar, 10, 100, max_steps_per_episode, reward_threshold, gamma, m_type=2)\n",
    "images = render_episode(env, buggy_osar, max_steps_per_episode, m_type=2)\n",
    "image_untrained_osar_file = '../images/alien-osar-untrained-v0.gif'\n",
    "# loop=0: loop forever, duration=1: play each frame for 1ms\n",
    "images[0].save(\n",
    "    image_untrained_osar_file, save_all=True, append_images=images[1:], loop=0, duration=1)\n",
    "# embed.embed_file(image_untrained_osar_file)"
   ]
  },
  {
   "cell_type": "markdown",
   "metadata": {},
   "source": [
    "## Trained:"
   ]
  },
  {
   "cell_type": "markdown",
   "metadata": {},
   "source": [
    "### Baseline"
   ]
  },
  {
   "cell_type": "code",
   "execution_count": 47,
   "metadata": {},
   "outputs": [],
   "source": [
    "# Save GIF image\n",
    "images = render_episode(env, baseline, max_steps_per_episode)\n",
    "image_trained_baseline_file = '../images/alien-baseline-trained-v0.gif'\n",
    "# loop=0: loop forever, duration=1: play each frame for 1ms\n",
    "images[0].save(\n",
    "    image_trained_baseline_file, save_all=True, append_images=images[1:], loop=0, duration=1)\n",
    "# embed.embed_file(image_trained_baseline_file)"
   ]
  },
  {
   "cell_type": "markdown",
   "metadata": {},
   "source": [
    "### GRU"
   ]
  },
  {
   "cell_type": "code",
   "execution_count": 48,
   "metadata": {},
   "outputs": [],
   "source": [
    "# Save GIF image\n",
    "images = render_episode(env, gru, max_steps_per_episode)\n",
    "image_trained_gru_file = '../images/alien-gru-trained-v0.gif'\n",
    "# loop=0: loop forever, duration=1: play each frame for 1ms\n",
    "images[0].save(\n",
    "    image_trained_gru_file, save_all=True, append_images=images[1:], loop=0, duration=1)\n",
    "# embed.embed_file(image_trained_baseline_file)"
   ]
  },
  {
   "cell_type": "markdown",
   "metadata": {},
   "source": [
    "### OSAR (Context Genrator + GRU Only)"
   ]
  },
  {
   "cell_type": "code",
   "execution_count": 46,
   "metadata": {},
   "outputs": [],
   "source": [
    "# Save GIF image\n",
    "images = render_episode(env, osar, max_steps_per_episode, m_type=2)\n",
    "image_trained_osar_file = '../images/alien-osar-trained-v0.gif'\n",
    "# loop=0: loop forever, duration=1: play each frame for 1ms\n",
    "images[0].save(\n",
    "    image_trained_osar_file, save_all=True, append_images=images[1:], loop=0, duration=1)\n",
    "# embed.embed_file(image_trained_osar_file)"
   ]
  },
  {
   "cell_type": "code",
   "execution_count": null,
   "metadata": {},
   "outputs": [],
   "source": []
  }
 ],
 "metadata": {
  "kernelspec": {
   "display_name": "tensorflo_2.4",
   "language": "python",
   "name": "tensorflo_2.4"
  },
  "language_info": {
   "codemirror_mode": {
    "name": "ipython",
    "version": 3
   },
   "file_extension": ".py",
   "mimetype": "text/x-python",
   "name": "python",
   "nbconvert_exporter": "python",
   "pygments_lexer": "ipython3",
   "version": "3.8.6"
  },
  "nbTranslate": {
   "displayLangs": [
    "*"
   ],
   "hotkey": "alt-t",
   "langInMainMenu": true,
   "sourceLang": "en",
   "targetLang": "fr",
   "useGoogleTranslate": true
  },
  "toc": {
   "base_numbering": 1,
   "nav_menu": {},
   "number_sections": true,
   "sideBar": true,
   "skip_h1_title": false,
   "title_cell": "Table of Contents",
   "title_sidebar": "Contents",
   "toc_cell": false,
   "toc_position": {},
   "toc_section_display": true,
   "toc_window_display": false
  },
  "varInspector": {
   "cols": {
    "lenName": 16,
    "lenType": 16,
    "lenVar": 40
   },
   "kernels_config": {
    "python": {
     "delete_cmd_postfix": "",
     "delete_cmd_prefix": "del ",
     "library": "var_list.py",
     "varRefreshCmd": "print(var_dic_list())"
    },
    "r": {
     "delete_cmd_postfix": ") ",
     "delete_cmd_prefix": "rm(",
     "library": "var_list.r",
     "varRefreshCmd": "cat(var_dic_list()) "
    }
   },
   "types_to_exclude": [
    "module",
    "function",
    "builtin_function_or_method",
    "instance",
    "_Feature"
   ],
   "window_display": false
  }
 },
 "nbformat": 4,
 "nbformat_minor": 4
}
