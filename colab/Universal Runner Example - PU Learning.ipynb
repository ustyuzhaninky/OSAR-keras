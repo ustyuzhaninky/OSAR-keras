{
 "cells": [
  {
   "cell_type": "code",
   "execution_count": 1,
   "id": "inclusive-crazy",
   "metadata": {},
   "outputs": [
    {
     "name": "stdout",
     "output_type": "stream",
     "text": [
      "Processing /mnt/d/jorgen/Projects/python/PhDSub/TowerProject/OSAR-keras\n",
      "Requirement already satisfied: importlib-metadata in /home/jorgen/anaconda3/envs/osar/lib/python3.8/site-packages (from OSAR-nightly==0.1.16.dev20210402) (3.7.3)\n",
      "Requirement already satisfied: gin-config>=0.1.1 in /home/jorgen/anaconda3/envs/osar/lib/python3.8/site-packages (from OSAR-nightly==0.1.16.dev20210402) (0.4.0)\n",
      "Requirement already satisfied: atari_py>=0.2.6 in /home/jorgen/anaconda3/envs/osar/lib/python3.8/site-packages (from OSAR-nightly==0.1.16.dev20210402) (0.2.6)\n",
      "Requirement already satisfied: tf_agents[reverb]>=0.7.1 in /home/jorgen/anaconda3/envs/osar/lib/python3.8/site-packages (from OSAR-nightly==0.1.16.dev20210402) (0.7.1)\n",
      "Requirement already satisfied: dm-reverb>=0.2.0 in /home/jorgen/anaconda3/envs/osar/lib/python3.8/site-packages (from OSAR-nightly==0.1.16.dev20210402) (0.2.0)\n",
      "Requirement already satisfied: tqdm>=4.59.0 in /home/jorgen/anaconda3/envs/osar/lib/python3.8/site-packages (from OSAR-nightly==0.1.16.dev20210402) (4.59.0)\n",
      "Requirement already satisfied: imageio>=2.8.2 in /home/jorgen/anaconda3/envs/osar/lib/python3.8/site-packages (from OSAR-nightly==0.1.16.dev20210402) (2.9.0)\n",
      "Requirement already satisfied: PILLOW>=7.1.2 in /home/jorgen/anaconda3/envs/osar/lib/python3.8/site-packages (from OSAR-nightly==0.1.16.dev20210402) (7.2.0)\n",
      "Requirement already satisfied: pandas>=1.2.3 in /home/jorgen/anaconda3/envs/osar/lib/python3.8/site-packages (from OSAR-nightly==0.1.16.dev20210402) (1.2.3)\n",
      "Requirement already satisfied: pybullet>=3.1.0 in /home/jorgen/anaconda3/envs/osar/lib/python3.8/site-packages (from OSAR-nightly==0.1.16.dev20210402) (3.1.0)\n",
      "Requirement already satisfied: tensorflow>=2.4.1 in /home/jorgen/anaconda3/envs/osar/lib/python3.8/site-packages (from OSAR-nightly==0.1.16.dev20210402) (2.4.1)\n",
      "Requirement already satisfied: numpy in /home/jorgen/anaconda3/envs/osar/lib/python3.8/site-packages (from atari_py>=0.2.6->OSAR-nightly==0.1.16.dev20210402) (1.19.5)\n",
      "Requirement already satisfied: six in /home/jorgen/anaconda3/envs/osar/lib/python3.8/site-packages (from atari_py>=0.2.6->OSAR-nightly==0.1.16.dev20210402) (1.15.0)\n",
      "Requirement already satisfied: portpicker in /home/jorgen/anaconda3/envs/osar/lib/python3.8/site-packages (from dm-reverb>=0.2.0->OSAR-nightly==0.1.16.dev20210402) (1.3.1)\n",
      "Requirement already satisfied: dm-tree in /home/jorgen/anaconda3/envs/osar/lib/python3.8/site-packages (from dm-reverb>=0.2.0->OSAR-nightly==0.1.16.dev20210402) (0.1.5)\n",
      "Requirement already satisfied: python-dateutil>=2.7.3 in /home/jorgen/anaconda3/envs/osar/lib/python3.8/site-packages (from pandas>=1.2.3->OSAR-nightly==0.1.16.dev20210402) (2.8.1)\n",
      "Requirement already satisfied: pytz>=2017.3 in /home/jorgen/anaconda3/envs/osar/lib/python3.8/site-packages (from pandas>=1.2.3->OSAR-nightly==0.1.16.dev20210402) (2021.1)\n",
      "Requirement already satisfied: wheel~=0.35 in /home/jorgen/anaconda3/envs/osar/lib/python3.8/site-packages (from tensorflow>=2.4.1->OSAR-nightly==0.1.16.dev20210402) (0.36.2)\n",
      "Requirement already satisfied: flatbuffers~=1.12.0 in /home/jorgen/anaconda3/envs/osar/lib/python3.8/site-packages (from tensorflow>=2.4.1->OSAR-nightly==0.1.16.dev20210402) (1.12)\n",
      "Requirement already satisfied: tensorboard~=2.4 in /home/jorgen/anaconda3/envs/osar/lib/python3.8/site-packages (from tensorflow>=2.4.1->OSAR-nightly==0.1.16.dev20210402) (2.4.1)\n",
      "Requirement already satisfied: astunparse~=1.6.3 in /home/jorgen/anaconda3/envs/osar/lib/python3.8/site-packages (from tensorflow>=2.4.1->OSAR-nightly==0.1.16.dev20210402) (1.6.3)\n",
      "Requirement already satisfied: h5py~=2.10.0 in /home/jorgen/anaconda3/envs/osar/lib/python3.8/site-packages (from tensorflow>=2.4.1->OSAR-nightly==0.1.16.dev20210402) (2.10.0)\n",
      "Requirement already satisfied: wrapt~=1.12.1 in /home/jorgen/anaconda3/envs/osar/lib/python3.8/site-packages (from tensorflow>=2.4.1->OSAR-nightly==0.1.16.dev20210402) (1.12.1)\n",
      "Requirement already satisfied: absl-py~=0.10 in /home/jorgen/anaconda3/envs/osar/lib/python3.8/site-packages (from tensorflow>=2.4.1->OSAR-nightly==0.1.16.dev20210402) (0.12.0)\n",
      "Requirement already satisfied: termcolor~=1.1.0 in /home/jorgen/anaconda3/envs/osar/lib/python3.8/site-packages (from tensorflow>=2.4.1->OSAR-nightly==0.1.16.dev20210402) (1.1.0)\n",
      "Requirement already satisfied: tensorflow-estimator<2.5.0,>=2.4.0 in /home/jorgen/anaconda3/envs/osar/lib/python3.8/site-packages (from tensorflow>=2.4.1->OSAR-nightly==0.1.16.dev20210402) (2.4.0)\n",
      "Requirement already satisfied: typing-extensions~=3.7.4 in /home/jorgen/anaconda3/envs/osar/lib/python3.8/site-packages (from tensorflow>=2.4.1->OSAR-nightly==0.1.16.dev20210402) (3.7.4.3)\n",
      "Requirement already satisfied: protobuf>=3.9.2 in /home/jorgen/anaconda3/envs/osar/lib/python3.8/site-packages (from tensorflow>=2.4.1->OSAR-nightly==0.1.16.dev20210402) (3.15.6)\n",
      "Requirement already satisfied: keras-preprocessing~=1.1.2 in /home/jorgen/anaconda3/envs/osar/lib/python3.8/site-packages (from tensorflow>=2.4.1->OSAR-nightly==0.1.16.dev20210402) (1.1.2)\n",
      "Requirement already satisfied: grpcio~=1.32.0 in /home/jorgen/anaconda3/envs/osar/lib/python3.8/site-packages (from tensorflow>=2.4.1->OSAR-nightly==0.1.16.dev20210402) (1.32.0)\n",
      "Requirement already satisfied: gast==0.3.3 in /home/jorgen/anaconda3/envs/osar/lib/python3.8/site-packages (from tensorflow>=2.4.1->OSAR-nightly==0.1.16.dev20210402) (0.3.3)\n",
      "Requirement already satisfied: opt-einsum~=3.3.0 in /home/jorgen/anaconda3/envs/osar/lib/python3.8/site-packages (from tensorflow>=2.4.1->OSAR-nightly==0.1.16.dev20210402) (3.3.0)\n",
      "Requirement already satisfied: google-pasta~=0.2 in /home/jorgen/anaconda3/envs/osar/lib/python3.8/site-packages (from tensorflow>=2.4.1->OSAR-nightly==0.1.16.dev20210402) (0.2.0)\n",
      "Requirement already satisfied: google-auth-oauthlib<0.5,>=0.4.1 in /home/jorgen/anaconda3/envs/osar/lib/python3.8/site-packages (from tensorboard~=2.4->tensorflow>=2.4.1->OSAR-nightly==0.1.16.dev20210402) (0.4.3)\n",
      "Requirement already satisfied: tensorboard-plugin-wit>=1.6.0 in /home/jorgen/anaconda3/envs/osar/lib/python3.8/site-packages (from tensorboard~=2.4->tensorflow>=2.4.1->OSAR-nightly==0.1.16.dev20210402) (1.8.0)\n",
      "Requirement already satisfied: requests<3,>=2.21.0 in /home/jorgen/anaconda3/envs/osar/lib/python3.8/site-packages (from tensorboard~=2.4->tensorflow>=2.4.1->OSAR-nightly==0.1.16.dev20210402) (2.25.1)\n",
      "Requirement already satisfied: werkzeug>=0.11.15 in /home/jorgen/anaconda3/envs/osar/lib/python3.8/site-packages (from tensorboard~=2.4->tensorflow>=2.4.1->OSAR-nightly==0.1.16.dev20210402) (1.0.1)\n",
      "Requirement already satisfied: google-auth<2,>=1.6.3 in /home/jorgen/anaconda3/envs/osar/lib/python3.8/site-packages (from tensorboard~=2.4->tensorflow>=2.4.1->OSAR-nightly==0.1.16.dev20210402) (1.28.0)\n",
      "Requirement already satisfied: markdown>=2.6.8 in /home/jorgen/anaconda3/envs/osar/lib/python3.8/site-packages (from tensorboard~=2.4->tensorflow>=2.4.1->OSAR-nightly==0.1.16.dev20210402) (3.3.4)\n",
      "Requirement already satisfied: setuptools>=41.0.0 in /home/jorgen/anaconda3/envs/osar/lib/python3.8/site-packages (from tensorboard~=2.4->tensorflow>=2.4.1->OSAR-nightly==0.1.16.dev20210402) (52.0.0.post20210125)\n",
      "Requirement already satisfied: pyasn1-modules>=0.2.1 in /home/jorgen/anaconda3/envs/osar/lib/python3.8/site-packages (from google-auth<2,>=1.6.3->tensorboard~=2.4->tensorflow>=2.4.1->OSAR-nightly==0.1.16.dev20210402) (0.2.8)\n",
      "Requirement already satisfied: rsa<5,>=3.1.4 in /home/jorgen/anaconda3/envs/osar/lib/python3.8/site-packages (from google-auth<2,>=1.6.3->tensorboard~=2.4->tensorflow>=2.4.1->OSAR-nightly==0.1.16.dev20210402) (4.7.2)\n",
      "Requirement already satisfied: cachetools<5.0,>=2.0.0 in /home/jorgen/anaconda3/envs/osar/lib/python3.8/site-packages (from google-auth<2,>=1.6.3->tensorboard~=2.4->tensorflow>=2.4.1->OSAR-nightly==0.1.16.dev20210402) (4.2.1)\n",
      "Requirement already satisfied: requests-oauthlib>=0.7.0 in /home/jorgen/anaconda3/envs/osar/lib/python3.8/site-packages (from google-auth-oauthlib<0.5,>=0.4.1->tensorboard~=2.4->tensorflow>=2.4.1->OSAR-nightly==0.1.16.dev20210402) (1.3.0)\n",
      "Requirement already satisfied: pyasn1<0.5.0,>=0.4.6 in /home/jorgen/anaconda3/envs/osar/lib/python3.8/site-packages (from pyasn1-modules>=0.2.1->google-auth<2,>=1.6.3->tensorboard~=2.4->tensorflow>=2.4.1->OSAR-nightly==0.1.16.dev20210402) (0.4.8)\n"
     ]
    },
    {
     "name": "stdout",
     "output_type": "stream",
     "text": [
      "Requirement already satisfied: idna<3,>=2.5 in /home/jorgen/anaconda3/envs/osar/lib/python3.8/site-packages (from requests<3,>=2.21.0->tensorboard~=2.4->tensorflow>=2.4.1->OSAR-nightly==0.1.16.dev20210402) (2.10)\n",
      "Requirement already satisfied: urllib3<1.27,>=1.21.1 in /home/jorgen/anaconda3/envs/osar/lib/python3.8/site-packages (from requests<3,>=2.21.0->tensorboard~=2.4->tensorflow>=2.4.1->OSAR-nightly==0.1.16.dev20210402) (1.26.4)\n",
      "Requirement already satisfied: certifi>=2017.4.17 in /home/jorgen/anaconda3/envs/osar/lib/python3.8/site-packages (from requests<3,>=2.21.0->tensorboard~=2.4->tensorflow>=2.4.1->OSAR-nightly==0.1.16.dev20210402) (2020.12.5)\n",
      "Requirement already satisfied: chardet<5,>=3.0.2 in /home/jorgen/anaconda3/envs/osar/lib/python3.8/site-packages (from requests<3,>=2.21.0->tensorboard~=2.4->tensorflow>=2.4.1->OSAR-nightly==0.1.16.dev20210402) (4.0.0)\n",
      "Requirement already satisfied: oauthlib>=3.0.0 in /home/jorgen/anaconda3/envs/osar/lib/python3.8/site-packages (from requests-oauthlib>=0.7.0->google-auth-oauthlib<0.5,>=0.4.1->tensorboard~=2.4->tensorflow>=2.4.1->OSAR-nightly==0.1.16.dev20210402) (3.1.0)\n",
      "Requirement already satisfied: gym>=0.17.0 in /home/jorgen/anaconda3/envs/osar/lib/python3.8/site-packages (from tf_agents[reverb]>=0.7.1->OSAR-nightly==0.1.16.dev20210402) (0.18.0)\n",
      "Requirement already satisfied: tensorflow-probability>=0.12.1 in /home/jorgen/anaconda3/envs/osar/lib/python3.8/site-packages (from tf_agents[reverb]>=0.7.1->OSAR-nightly==0.1.16.dev20210402) (0.12.1)\n",
      "Requirement already satisfied: cloudpickle>=1.3 in /home/jorgen/anaconda3/envs/osar/lib/python3.8/site-packages (from tf_agents[reverb]>=0.7.1->OSAR-nightly==0.1.16.dev20210402) (1.6.0)\n",
      "Requirement already satisfied: pyglet<=1.5.0,>=1.4.0 in /home/jorgen/anaconda3/envs/osar/lib/python3.8/site-packages (from gym>=0.17.0->tf_agents[reverb]>=0.7.1->OSAR-nightly==0.1.16.dev20210402) (1.5.0)\n",
      "Requirement already satisfied: scipy in /home/jorgen/anaconda3/envs/osar/lib/python3.8/site-packages (from gym>=0.17.0->tf_agents[reverb]>=0.7.1->OSAR-nightly==0.1.16.dev20210402) (1.6.1)\n",
      "Requirement already satisfied: future in /home/jorgen/anaconda3/envs/osar/lib/python3.8/site-packages (from pyglet<=1.5.0,>=1.4.0->gym>=0.17.0->tf_agents[reverb]>=0.7.1->OSAR-nightly==0.1.16.dev20210402) (0.18.2)\n",
      "Requirement already satisfied: decorator in /home/jorgen/anaconda3/envs/osar/lib/python3.8/site-packages (from tensorflow-probability>=0.12.1->tf_agents[reverb]>=0.7.1->OSAR-nightly==0.1.16.dev20210402) (4.4.2)\n",
      "Requirement already satisfied: zipp>=0.5 in /home/jorgen/anaconda3/envs/osar/lib/python3.8/site-packages (from importlib-metadata->OSAR-nightly==0.1.16.dev20210402) (3.4.1)\n",
      "Building wheels for collected packages: OSAR-nightly\n",
      "  Building wheel for OSAR-nightly (setup.py) ... \u001b[?25ldone\n",
      "\u001b[?25h  Created wheel for OSAR-nightly: filename=OSAR_nightly-0.1.16.dev20210402-cp38-cp38-linux_x86_64.whl size=75274 sha256=61206a393d0a7ef1b61bf3ec35890420d7c5898cb7e4a02fd2aa93cdd7fd2cef\n",
      "  Stored in directory: /home/jorgen/.cache/pip/wheels/ad/5b/5c/4f851e7d9aac2a5cd80b951a12e2e6b7a0c65ee91437a17249\n",
      "Successfully built OSAR-nightly\n",
      "Installing collected packages: OSAR-nightly\n",
      "  Attempting uninstall: OSAR-nightly\n",
      "    Found existing installation: OSAR-nightly 0.1.16.dev20210402\n",
      "    Uninstalling OSAR-nightly-0.1.16.dev20210402:\n",
      "      Successfully uninstalled OSAR-nightly-0.1.16.dev20210402\n",
      "Successfully installed OSAR-nightly-0.1.16.dev20210402\n"
     ]
    }
   ],
   "source": [
    "# !sudo apt-get install -y xvfb ffmpeg\n",
    "# !pip install -q atari_py\n",
    "# !pip install -q gym[atari]\n",
    "# !pip install -q imageio\n",
    "# !pip install -q PILLOW\n",
    "# !pip install -q pyglet\n",
    "# !pip install -q typing-extensions==3.7.4.3\n",
    "# !pip install -q pyvirtualdisplay\n",
    "!pip install ../../OSAR-keras/.\n",
    "# !pip install -q git+https://github.com/ustyuzhaninky/OSAR-keras"
   ]
  },
  {
   "cell_type": "code",
   "execution_count": 2,
   "id": "hispanic-twelve",
   "metadata": {},
   "outputs": [],
   "source": [
    "from __future__ import absolute_import, division, print_function\n",
    "\n",
    "import base64\n",
    "import imageio\n",
    "import IPython\n",
    "import matplotlib\n",
    "import matplotlib.pyplot as plt\n",
    "import numpy as np\n",
    "import PIL.Image\n",
    "import pyvirtualdisplay\n",
    "\n",
    "import tensorflow as tf\n",
    "\n",
    "from tf_agents import agents\n",
    "from tf_agents.agents.dqn import dqn_agent\n",
    "from tf_agents.drivers import dynamic_step_driver\n",
    "from tf_agents.environments import suite_gym\n",
    "from tf_agents.environments import tf_py_environment\n",
    "from tf_agents.eval import metric_utils\n",
    "from tf_agents.metrics import tf_metrics\n",
    "from tf_agents.networks import q_network\n",
    "from tf_agents.policies import random_tf_policy\n",
    "from tf_agents.replay_buffers import tf_uniform_replay_buffer\n",
    "from tf_agents.trajectories import trajectory\n",
    "from tf_agents.utils import common\n",
    "\n",
    "from OSAR import PuDiscriminator, PuStateSotringActor, Runner, TrialAgent"
   ]
  },
  {
   "cell_type": "code",
   "execution_count": 3,
   "id": "outdoor-demographic",
   "metadata": {},
   "outputs": [],
   "source": [
    "env_names = [\n",
    "    'Alien-ram-v0',\n",
    "    'MontezumaRevenge-ram-v0',\n",
    "    'AirRaid-ram-v0',\n",
    "    'Solaris-ram-v0',\n",
    "    'Berzerk-ram-v0',\n",
    "    'Asteroids-ram-v0',\n",
    "    'Venture-ram-v0',\n",
    "    'Asteroids-ram-v0',\n",
    "    'BattleZone-ram-v0',\n",
    "    'Enduro-ram-v0',\n",
    "    'Tutankham-ram-v0',\n",
    "    'WizardOfWor-ram-v0',\n",
    "]"
   ]
  },
  {
   "cell_type": "code",
   "execution_count": 4,
   "id": "sufficient-monkey",
   "metadata": {},
   "outputs": [],
   "source": [
    "num_iterations = 1000 # @param {type:\"integer\"}\n",
    "\n",
    "initial_collect_steps = 100  # @param {type:\"integer\"} \n",
    "collect_steps_per_iteration = 1  # @param {type:\"integer\"}\n",
    "replay_buffer_max_length = 1000  # @param {type:\"integer\"}\n",
    "\n",
    "batch_size = 1  # @param {type:\"integer\"}\n",
    "learning_rate = 1e-3  # @param {type:\"number\"}\n",
    "log_interval = 20  # @param {type:\"integer\"}\n",
    "memory_len = 10 # @param {type: \"integer\"}\n",
    "n_turns = 3 # @param {type: \"integer\"}\n",
    "num_atoms = 51  # @param {type:\"integer\"}\n",
    "q_value = 10  # @param {type:\"integer\"}\n",
    "n_step_update = 2  # @param {type:\"integer\"}\n",
    "\n",
    "num_eval_episodes = 20  # @param {type:\"integer\"}\n",
    "eval_interval = 1000  # @param {type:\"integer\"}\n",
    "\n",
    "boltzmann_temperature = 0.1 # @param {type:\"float\"}\n",
    "epsilon_greedy = None # @param {type:\"float\"}\n",
    "conv_type = '1d' # @param {type:\"str\"}"
   ]
  },
  {
   "cell_type": "code",
   "execution_count": 5,
   "id": "stone-johnston",
   "metadata": {},
   "outputs": [],
   "source": [
    "fc_layer_params = (64, 64)\n",
    "\n",
    "network_specs = {\n",
    "    'batch_size': batch_size,\n",
    "    'memory_len': memory_len,\n",
    "    'n_turns': n_turns,\n",
    "    'fc_layer_params': fc_layer_params,\n",
    "    'num_atoms': num_atoms,\n",
    "    'conv_type': conv_type,\n",
    "    'learning_rate': learning_rate,\n",
    "    'q_value': q_value,\n",
    "    'n_step_update': n_step_update,\n",
    "    'boltzmann_temperature': boltzmann_temperature,\n",
    "    'epsilon_greedy': epsilon_greedy,\n",
    "    'debug_summaries': True,\n",
    "    'summarize_grads_and_vars': True,\n",
    "}\n",
    "\n",
    "def network_generator(\n",
    "    observation_spec,\n",
    "    action_spec,\n",
    "    batch_size,\n",
    "    memory_len,\n",
    "    n_turns,\n",
    "    fc_layer_params,\n",
    "    num_atoms,\n",
    "    conv_type,\n",
    "    learning_rate,\n",
    "    time_step_spec,\n",
    "    n_step_update,\n",
    "    train_step_counter,\n",
    "    q_value=q_value,\n",
    "    boltzmann_temperature=None,\n",
    "    epsilon_greedy=0.1,\n",
    "    debug_summaries=True,\n",
    "    summarize_grads_and_vars=True,\n",
    "    **kwargs,\n",
    "    ):\n",
    "    disc_net = PuDiscriminator(\n",
    "        observation_spec,\n",
    "        action_spec,\n",
    "        batch_size,\n",
    "        memory_len,\n",
    "        n_turns,\n",
    "        fc_layer_params=fc_layer_params,\n",
    "        conv_type=conv_type,\n",
    "        )\n",
    "    exp_net = PuStateSotringActor(\n",
    "        observation_spec,\n",
    "        action_spec,\n",
    "        batch_size,\n",
    "        memory_len,\n",
    "        n_turns,\n",
    "        fc_layer_params=fc_layer_params,\n",
    "        conv_type=conv_type,\n",
    "        )\n",
    "    \n",
    "    optimizer = tf.keras.optimizers.Adam(learning_rate=learning_rate)\n",
    "    \n",
    "    agent = TrialAgent(\n",
    "        time_step_spec,\n",
    "        action_spec,\n",
    "        disctiminator=disc_net,\n",
    "        expert=exp_net,\n",
    "        optimizer=optimizer,\n",
    "        pu_errors_loss_fn=tf.keras.losses.huber,#common.element_wise_squared_loss,\n",
    "        boltzmann_temperature=boltzmann_temperature,\n",
    "        epsilon_greedy=epsilon_greedy,\n",
    "        debug_summaries=debug_summaries,\n",
    "        train_step_counter = tf.Variable(0, dtype=tf.int64),\n",
    "        summarize_grads_and_vars=summarize_grads_and_vars,\n",
    "    )\n",
    "    \n",
    "    agent.initialize()\n",
    "    \n",
    "    return agent\n",
    "\n",
    "    "
   ]
  },
  {
   "cell_type": "code",
   "execution_count": 6,
   "id": "basic-plaintiff",
   "metadata": {},
   "outputs": [],
   "source": [
    "experiment_common_specs = {\n",
    "    'agent_specs': network_specs,\n",
    "    'agent_generator': network_generator,\n",
    "    'num_iterations': num_iterations,\n",
    "    'initial_collect_steps': initial_collect_steps,\n",
    "    'collect_steps_per_iteration': collect_steps_per_iteration,\n",
    "    'replay_buffer_max_length': replay_buffer_max_length,\n",
    "    'num_eval_episodes': num_eval_episodes,\n",
    "    'eval_interval': eval_interval,\n",
    "    'n_step_update': n_step_update,\n",
    "}"
   ]
  },
  {
   "cell_type": "code",
   "execution_count": 7,
   "id": "fifth-stand",
   "metadata": {},
   "outputs": [],
   "source": [
    "configs = []\n",
    "for name in env_names:\n",
    "    config = experiment_common_specs.copy()\n",
    "    config['env_name'] = name\n",
    "    configs.append(config)"
   ]
  },
  {
   "cell_type": "code",
   "execution_count": 8,
   "id": "reserved-patrol",
   "metadata": {
    "scrolled": true
   },
   "outputs": [
    {
     "name": "stdout",
     "output_type": "stream",
     "text": [
      "WARNING:tensorflow:From /home/jorgen/anaconda3/envs/osar/lib/python3.8/site-packages/tensorflow/python/ops/linalg/linear_operator_kronecker.py:224: LinearOperator.graph_parents (from tensorflow.python.ops.linalg.linear_operator) is deprecated and will be removed in a future version.\n",
      "Instructions for updating:\n",
      "Do not call `graph_parents`.\n",
      "WARNING:tensorflow:From /home/jorgen/anaconda3/envs/osar/lib/python3.8/site-packages/tf_agents/train/learner.py:121: StrategyBase.experimental_distribute_datasets_from_function (from tensorflow.python.distribute.distribute_lib) is deprecated and will be removed in a future version.\n",
      "Instructions for updating:\n",
      "rename to distribute_datasets_from_function\n"
     ]
    },
    {
     "name": "stderr",
     "output_type": "stream",
     "text": [
      "  0%|          | 0/1000 [00:00<?, ?it/s]/tmp/tmpetwwmy_a.py:14: SyntaxWarning: \"is not\" with a literal. Did you mean \"!=\"?\n",
      "  retval_ = ag__.and_((lambda : (ag__.ld(state) is not None)), (lambda : ag__.and_((lambda : (ag__.ld(state) is not ())), (lambda : (ag__.ld(state) is not [])))))\n"
     ]
    },
    {
     "name": "stdout",
     "output_type": "stream",
     "text": [
      "WARNING:tensorflow:From /home/jorgen/anaconda3/envs/osar/lib/python3.8/site-packages/tensorflow/python/ops/linalg/linear_operator_full_matrix.py:150: calling LinearOperator.__init__ (from tensorflow.python.ops.linalg.linear_operator) with graph_parents is deprecated and will be removed in a future version.\n",
      "Instructions for updating:\n",
      "Do not pass `graph_parents`.  They will  no longer be used.\n"
     ]
    },
    {
     "name": "stderr",
     "output_type": "stream",
     "text": [
      "WARNING:tensorflow:From /home/jorgen/anaconda3/envs/osar/lib/python3.8/site-packages/tensorflow/python/ops/linalg/linear_operator_full_matrix.py:150: calling LinearOperator.__init__ (from tensorflow.python.ops.linalg.linear_operator) with graph_parents is deprecated and will be removed in a future version.\n",
      "Instructions for updating:\n",
      "Do not pass `graph_parents`.  They will  no longer be used.\n",
      "/tmp/tmppz2bz4bd.py:67: SyntaxWarning: \"is\" with a literal. Did you mean \"==\"?\n",
      "  ag__.if_stmt(ag__.not_(ag__.or_((lambda : (ag__.ld(policy_state) is None)), (lambda : ag__.or_((lambda : (ag__.ld(policy_state) is ())), (lambda : (ag__.ld(policy_state) is [])))))), if_body_2, else_body_2, get_state_2, set_state_2, (), 0)\n",
      "/tmp/tmpbmqh5v2m.py:74: SyntaxWarning: \"is\" with a literal. Did you mean \"==\"?\n",
      "  ag__.if_stmt((ag__.ld(policy_state) is ()), if_body_2, else_body_2, get_state_2, set_state_2, ('retval_', 'do_return'), 2)\n"
     ]
    },
    {
     "name": "stdout",
     "output_type": "stream",
     "text": [
      "WARNING:tensorflow:Gradients do not exist for variables ['PuStateSotringActor/sympathetic_circuit/event_space-bias:0'] when minimizing the loss.\n"
     ]
    },
    {
     "name": "stderr",
     "output_type": "stream",
     "text": [
      "WARNING:tensorflow:Gradients do not exist for variables ['PuStateSotringActor/sympathetic_circuit/event_space-bias:0'] when minimizing the loss.\n"
     ]
    },
    {
     "name": "stdout",
     "output_type": "stream",
     "text": [
      "WARNING:tensorflow:Gradients do not exist for variables ['PuStateSotringActor/sympathetic_circuit/event_space-bias:0'] when minimizing the loss.\n"
     ]
    },
    {
     "name": "stderr",
     "output_type": "stream",
     "text": [
      "WARNING:tensorflow:Gradients do not exist for variables ['PuStateSotringActor/sympathetic_circuit/event_space-bias:0'] when minimizing the loss.\n",
      "Episode 1000: 100%|██████████| 1000/1000 [03:08<00:00,  5.30it/s, avg_return=0, train_loss=1.11e-7] \n",
      "ERROR:root:Internal Python error in the inspect module.\n",
      "Below is the traceback from this internal error.\n",
      "\n"
     ]
    },
    {
     "name": "stdout",
     "output_type": "stream",
     "text": [
      "Traceback (most recent call last):\n",
      "  File \"/home/jorgen/anaconda3/envs/osar/lib/python3.8/site-packages/IPython/core/magics/execution.py\", line 1326, in time\n",
      "    out = eval(code_2, glob, local_ns)\n",
      "  File \"<timed exec>\", line 4, in <module>\n",
      "  File \"/home/jorgen/anaconda3/envs/osar/lib/python3.8/site-packages/OSAR/runner.py\", line 508, in run\n",
      "    returns = experiment(\n",
      "  File \"/home/jorgen/anaconda3/envs/osar/lib/python3.8/site-packages/OSAR/runner.py\", line 303, in __call__\n",
      "    returns = self.call(progress)\n",
      "  File \"/home/jorgen/anaconda3/envs/osar/lib/python3.8/site-packages/OSAR/runner.py\", line 312, in call\n",
      "    avg_return = self.get_eval_metrics()[\"AverageReturn\"]\n",
      "  File \"/home/jorgen/anaconda3/envs/osar/lib/python3.8/site-packages/OSAR/runner.py\", line 295, in get_eval_metrics\n",
      "    self._eval_actor.run()\n",
      "  File \"/home/jorgen/anaconda3/envs/osar/lib/python3.8/site-packages/tf_agents/train/actor.py\", line 139, in run\n",
      "    self._time_step, self._policy_state = self._driver.run(\n",
      "  File \"/home/jorgen/anaconda3/envs/osar/lib/python3.8/site-packages/tf_agents/drivers/py_driver.py\", line 107, in run\n",
      "    action_step = self.policy.action(time_step, policy_state)\n",
      "  File \"/home/jorgen/anaconda3/envs/osar/lib/python3.8/site-packages/tf_agents/policies/py_policy.py\", line 156, in action\n",
      "    return self._action(time_step, policy_state)\n",
      "  File \"/home/jorgen/anaconda3/envs/osar/lib/python3.8/site-packages/tf_agents/policies/py_tf_eager_policy.py\", line 73, in _action\n",
      "    policy_step = self._policy_action_fn(time_step, policy_state)\n",
      "  File \"/home/jorgen/anaconda3/envs/osar/lib/python3.8/site-packages/tensorflow/python/eager/def_function.py\", line 828, in __call__\n",
      "    result = self._call(*args, **kwds)\n",
      "  File \"/home/jorgen/anaconda3/envs/osar/lib/python3.8/site-packages/tensorflow/python/eager/def_function.py\", line 862, in _call\n",
      "    results = self._stateful_fn(*args, **kwds)\n",
      "  File \"/home/jorgen/anaconda3/envs/osar/lib/python3.8/site-packages/tensorflow/python/eager/function.py\", line 2942, in __call__\n",
      "    return graph_function._call_flat(\n",
      "  File \"/home/jorgen/anaconda3/envs/osar/lib/python3.8/site-packages/tensorflow/python/eager/function.py\", line 1918, in _call_flat\n",
      "    return self._build_call_outputs(self._inference_function.call(\n",
      "  File \"/home/jorgen/anaconda3/envs/osar/lib/python3.8/site-packages/tensorflow/python/eager/function.py\", line 555, in call\n",
      "    outputs = execute.execute(\n",
      "  File \"/home/jorgen/anaconda3/envs/osar/lib/python3.8/site-packages/tensorflow/python/eager/execute.py\", line 59, in quick_execute\n",
      "    tensors = pywrap_tfe.TFE_Py_Execute(ctx._handle, device_name, op_name,\n",
      "KeyboardInterrupt\n",
      "\n",
      "During handling of the above exception, another exception occurred:\n",
      "\n",
      "Traceback (most recent call last):\n",
      "  File \"/home/jorgen/anaconda3/envs/osar/lib/python3.8/site-packages/IPython/core/interactiveshell.py\", line 2061, in showtraceback\n",
      "    stb = value._render_traceback_()\n",
      "AttributeError: 'KeyboardInterrupt' object has no attribute '_render_traceback_'\n",
      "\n",
      "During handling of the above exception, another exception occurred:\n",
      "\n",
      "Traceback (most recent call last):\n",
      "  File \"/home/jorgen/anaconda3/envs/osar/lib/python3.8/site-packages/IPython/core/ultratb.py\", line 1101, in get_records\n",
      "    return _fixed_getinnerframes(etb, number_of_lines_of_context, tb_offset)\n",
      "  File \"/home/jorgen/anaconda3/envs/osar/lib/python3.8/site-packages/IPython/core/ultratb.py\", line 248, in wrapped\n",
      "    return f(*args, **kwargs)\n",
      "  File \"/home/jorgen/anaconda3/envs/osar/lib/python3.8/site-packages/IPython/core/ultratb.py\", line 281, in _fixed_getinnerframes\n",
      "    records = fix_frame_records_filenames(inspect.getinnerframes(etb, context))\n",
      "  File \"/home/jorgen/anaconda3/envs/osar/lib/python3.8/inspect.py\", line 1503, in getinnerframes\n",
      "    frameinfo = (tb.tb_frame,) + getframeinfo(tb, context)\n",
      "  File \"/home/jorgen/anaconda3/envs/osar/lib/python3.8/inspect.py\", line 1461, in getframeinfo\n",
      "    filename = getsourcefile(frame) or getfile(frame)\n",
      "  File \"/home/jorgen/anaconda3/envs/osar/lib/python3.8/inspect.py\", line 708, in getsourcefile\n",
      "    if getattr(getmodule(object, filename), '__loader__', None) is not None:\n",
      "  File \"/home/jorgen/anaconda3/envs/osar/lib/python3.8/inspect.py\", line 754, in getmodule\n",
      "    os.path.realpath(f)] = module.__name__\n",
      "  File \"/home/jorgen/anaconda3/envs/osar/lib/python3.8/posixpath.py\", line 391, in realpath\n",
      "    path, ok = _joinrealpath(filename[:0], filename, {})\n",
      "  File \"/home/jorgen/anaconda3/envs/osar/lib/python3.8/posixpath.py\", line 425, in _joinrealpath\n",
      "    if not islink(newpath):\n",
      "  File \"/home/jorgen/anaconda3/envs/osar/lib/python3.8/posixpath.py\", line 167, in islink\n",
      "    st = os.lstat(path)\n",
      "KeyboardInterrupt\n"
     ]
    },
    {
     "name": "stderr",
     "output_type": "stream",
     "text": [
      "\n",
      "KeyboardInterrupt\n",
      "\n"
     ]
    }
   ],
   "source": [
    "%%time\n",
    "logpath = ''\n",
    "model_name = 'test_pu'\n",
    "runner = Runner(model_name=model_name, logpath=logpath, list_configs=configs)\n",
    "runner.run(progress=False, experiment_progress=True)"
   ]
  },
  {
   "cell_type": "code",
   "execution_count": null,
   "id": "direct-weight",
   "metadata": {},
   "outputs": [],
   "source": [
    "# Load the TensorBoard notebook extension\n",
    "%load_ext tensorboard"
   ]
  },
  {
   "cell_type": "code",
   "execution_count": null,
   "id": "reasonable-clearing",
   "metadata": {},
   "outputs": [],
   "source": [
    "# %tensorboard --logdir logs"
   ]
  },
  {
   "cell_type": "code",
   "execution_count": null,
   "id": "sonic-tutorial",
   "metadata": {},
   "outputs": [],
   "source": [
    "# !kill 1369"
   ]
  }
 ],
 "metadata": {
  "kernelspec": {
   "display_name": "Python 3",
   "language": "python",
   "name": "python3"
  },
  "language_info": {
   "codemirror_mode": {
    "name": "ipython",
    "version": 3
   },
   "file_extension": ".py",
   "mimetype": "text/x-python",
   "name": "python",
   "nbconvert_exporter": "python",
   "pygments_lexer": "ipython3",
   "version": "3.8.2"
  },
  "nbTranslate": {
   "displayLangs": [
    "*"
   ],
   "hotkey": "alt-t",
   "langInMainMenu": true,
   "sourceLang": "en",
   "targetLang": "fr",
   "useGoogleTranslate": true
  },
  "toc": {
   "base_numbering": 1,
   "nav_menu": {},
   "number_sections": true,
   "sideBar": true,
   "skip_h1_title": false,
   "title_cell": "Table of Contents",
   "title_sidebar": "Contents",
   "toc_cell": false,
   "toc_position": {},
   "toc_section_display": true,
   "toc_window_display": false
  },
  "varInspector": {
   "cols": {
    "lenName": 16,
    "lenType": 16,
    "lenVar": 40
   },
   "kernels_config": {
    "python": {
     "delete_cmd_postfix": "",
     "delete_cmd_prefix": "del ",
     "library": "var_list.py",
     "varRefreshCmd": "print(var_dic_list())"
    },
    "r": {
     "delete_cmd_postfix": ") ",
     "delete_cmd_prefix": "rm(",
     "library": "var_list.r",
     "varRefreshCmd": "cat(var_dic_list()) "
    }
   },
   "types_to_exclude": [
    "module",
    "function",
    "builtin_function_or_method",
    "instance",
    "_Feature"
   ],
   "window_display": false
  }
 },
 "nbformat": 4,
 "nbformat_minor": 5
}
