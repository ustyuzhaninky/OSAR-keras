{
 "cells": [
  {
   "cell_type": "code",
   "execution_count": null,
   "id": "ecd34c0b",
   "metadata": {},
   "outputs": [
    {
     "name": "stdout",
     "output_type": "stream",
     "text": [
      "Processing /mnt/d/jorgen/projects/python/PhDSub/TowerProject/OSAR-keras\n"
     ]
    }
   ],
   "source": [
    "# !sudo apt-get install -y xvfb ffmpeg\n",
    "# !pip install atari_py\n",
    "# !pip install gym[atari]\n",
    "# !pip install -q imageio\n",
    "# !pip install -q PILLOW\n",
    "# !pip install -q pyglet\n",
    "# !pip install -q typing-extensions==3.7.4.3\n",
    "# !pip install -q pyvirtualdisplay\n",
    "!pip install ../../OSAR-keras/.\n",
    "# !pip install matplotlib\n",
    "# !pip install -q git+https://github.com/ustyuzhaninky/OSAR-keras"
   ]
  },
  {
   "cell_type": "code",
   "execution_count": null,
   "id": "f47cce3a",
   "metadata": {},
   "outputs": [],
   "source": [
    "from __future__ import absolute_import, division, print_function\n",
    "\n",
    "import base64\n",
    "import imageio\n",
    "import IPython\n",
    "import matplotlib\n",
    "import matplotlib.pyplot as plt\n",
    "import numpy as np\n",
    "import PIL.Image\n",
    "# import pyvirtualdisplay\n",
    "\n",
    "import tensorflow as tf\n",
    "\n",
    "from tf_agents import agents\n",
    "from tf_agents.agents.dqn import dqn_agent\n",
    "from tf_agents.drivers import dynamic_step_driver\n",
    "from tf_agents.environments import suite_gym\n",
    "from tf_agents.environments import tf_py_environment\n",
    "from tf_agents.eval import metric_utils\n",
    "from tf_agents.metrics import tf_metrics\n",
    "from tf_agents.networks import q_network\n",
    "from tf_agents.policies import random_tf_policy\n",
    "from tf_agents.replay_buffers import tf_uniform_replay_buffer\n",
    "from tf_agents.trajectories import trajectory\n",
    "from tf_agents.utils import common\n",
    "\n",
    "from OSAR import PuDiscriminator, PuStateSotringActor, Runner, TrialAgent"
   ]
  },
  {
   "cell_type": "code",
   "execution_count": null,
   "id": "059a2287",
   "metadata": {},
   "outputs": [],
   "source": [
    "env_names = [\n",
    "    'Alien-ram-v0',\n",
    "    'MontezumaRevenge-ram-v0',\n",
    "    'AirRaid-ram-v0',\n",
    "    'Solaris-ram-v0',\n",
    "    'Berzerk-ram-v0',\n",
    "    'Asteroids-ram-v0',\n",
    "    'Venture-ram-v0',\n",
    "    'Asteroids-ram-v0',\n",
    "    'BattleZone-ram-v0',\n",
    "    'Enduro-ram-v0',\n",
    "    'Tutankham-ram-v0',\n",
    "    'WizardOfWor-ram-v0',\n",
    "]"
   ]
  },
  {
   "cell_type": "code",
   "execution_count": null,
   "id": "3162ed0e",
   "metadata": {},
   "outputs": [],
   "source": [
    "num_iterations = 1000 # @param {type:\"integer\"}\n",
    "\n",
    "initial_collect_steps = 100  # @param {type:\"integer\"} \n",
    "collect_steps_per_iteration = 1  # @param {type:\"integer\"}\n",
    "replay_buffer_max_length = 1000  # @param {type:\"integer\"}\n",
    "\n",
    "batch_size = 1  # @param {type:\"integer\"}\n",
    "learning_rate = 1e-3  # @param {type:\"number\"}\n",
    "log_interval = 20  # @param {type:\"integer\"}\n",
    "memory_len = 10 # @param {type: \"integer\"}\n",
    "n_turns = 3 # @param {type: \"integer\"}\n",
    "num_atoms = 51  # @param {type:\"integer\"}\n",
    "q_value = 10  # @param {type:\"integer\"}\n",
    "n_step_update = 2  # @param {type:\"integer\"}\n",
    "\n",
    "num_eval_episodes = 20  # @param {type:\"integer\"}\n",
    "eval_interval = 1000  # @param {type:\"integer\"}\n",
    "\n",
    "boltzmann_temperature = 0.1 # @param {type:\"float\"}\n",
    "epsilon_greedy = None # @param {type:\"float\"}\n",
    "conv_type = '1d' # @param {type:\"str\"}"
   ]
  },
  {
   "cell_type": "code",
   "execution_count": null,
   "id": "cdb66dd0",
   "metadata": {},
   "outputs": [],
   "source": [
    "fc_layer_params = (64, 64)\n",
    "\n",
    "network_specs = {\n",
    "    'batch_size': batch_size,\n",
    "    'memory_len': memory_len,\n",
    "    'n_turns': n_turns,\n",
    "    'fc_layer_params': fc_layer_params,\n",
    "    'num_atoms': num_atoms,\n",
    "    'conv_type': conv_type,\n",
    "    'learning_rate': learning_rate,\n",
    "    'q_value': q_value,\n",
    "    'n_step_update': n_step_update,\n",
    "    'boltzmann_temperature': boltzmann_temperature,\n",
    "    'epsilon_greedy': epsilon_greedy,\n",
    "    'debug_summaries': True,\n",
    "    'summarize_grads_and_vars': True,\n",
    "}\n",
    "\n",
    "def network_generator(\n",
    "    observation_spec,\n",
    "    action_spec,\n",
    "    batch_size,\n",
    "    memory_len,\n",
    "    n_turns,\n",
    "    fc_layer_params,\n",
    "    num_atoms,\n",
    "    conv_type,\n",
    "    learning_rate,\n",
    "    time_step_spec,\n",
    "    n_step_update,\n",
    "    train_step_counter,\n",
    "    q_value=q_value,\n",
    "    boltzmann_temperature=None,\n",
    "    epsilon_greedy=0.1,\n",
    "    debug_summaries=True,\n",
    "    summarize_grads_and_vars=True,\n",
    "    **kwargs,\n",
    "    ):\n",
    "    disc_net = PuDiscriminator(\n",
    "        observation_spec,\n",
    "        action_spec,\n",
    "        batch_size,\n",
    "        memory_len,\n",
    "        n_turns,\n",
    "        fc_layer_params=fc_layer_params,\n",
    "        conv_type=conv_type,\n",
    "        )\n",
    "    exp_net = PuStateSotringActor(\n",
    "        observation_spec,\n",
    "        action_spec,\n",
    "        batch_size,\n",
    "        memory_len,\n",
    "        n_turns,\n",
    "        fc_layer_params=fc_layer_params,\n",
    "        conv_type=conv_type,\n",
    "        )\n",
    "    \n",
    "    optimizer = tf.keras.optimizers.Adam(learning_rate=learning_rate)\n",
    "    \n",
    "    agent = TrialAgent(\n",
    "        time_step_spec,\n",
    "        action_spec,\n",
    "        disctiminator=disc_net,\n",
    "        expert=exp_net,\n",
    "        optimizer=optimizer,\n",
    "        pu_errors_loss_fn=tf.keras.losses.huber,#common.element_wise_squared_loss,\n",
    "        boltzmann_temperature=boltzmann_temperature,\n",
    "        epsilon_greedy=epsilon_greedy,\n",
    "        debug_summaries=debug_summaries,\n",
    "        train_step_counter = tf.Variable(0, dtype=tf.int64),\n",
    "        summarize_grads_and_vars=summarize_grads_and_vars,\n",
    "    )\n",
    "    \n",
    "    agent.initialize()\n",
    "    \n",
    "    return agent\n",
    "\n",
    "    "
   ]
  },
  {
   "cell_type": "code",
   "execution_count": null,
   "id": "1bc14272",
   "metadata": {},
   "outputs": [],
   "source": [
    "experiment_common_specs = {\n",
    "    'agent_specs': network_specs,\n",
    "    'agent_generator': network_generator,\n",
    "    'num_iterations': num_iterations,\n",
    "    'initial_collect_steps': initial_collect_steps,\n",
    "    'collect_steps_per_iteration': collect_steps_per_iteration,\n",
    "    'replay_buffer_max_length': replay_buffer_max_length,\n",
    "    'num_eval_episodes': num_eval_episodes,\n",
    "    'eval_interval': eval_interval,\n",
    "    'n_step_update': n_step_update,\n",
    "}"
   ]
  },
  {
   "cell_type": "code",
   "execution_count": null,
   "id": "1f7a6351",
   "metadata": {},
   "outputs": [],
   "source": [
    "configs = []\n",
    "for name in env_names:\n",
    "    config = experiment_common_specs.copy()\n",
    "    config['env_name'] = name\n",
    "    configs.append(config)"
   ]
  },
  {
   "cell_type": "code",
   "execution_count": null,
   "id": "1260655b",
   "metadata": {
    "scrolled": true
   },
   "outputs": [],
   "source": [
    "%%time\n",
    "logpath = ''\n",
    "model_name = 'test_pu'\n",
    "runner = Runner(model_name=model_name, logpath=logpath, list_configs=configs)\n",
    "runner.run(progress=False, experiment_progress=True)"
   ]
  },
  {
   "cell_type": "code",
   "execution_count": null,
   "id": "0aa78050",
   "metadata": {},
   "outputs": [],
   "source": [
    "# Load the TensorBoard notebook extension\n",
    "%load_ext tensorboard"
   ]
  },
  {
   "cell_type": "code",
   "execution_count": null,
   "id": "bfb5e23c",
   "metadata": {},
   "outputs": [],
   "source": [
    "# %tensorboard --logdir logs"
   ]
  },
  {
   "cell_type": "code",
   "execution_count": null,
   "id": "310993bb",
   "metadata": {},
   "outputs": [],
   "source": []
  }
 ],
 "metadata": {
  "kernelspec": {
   "display_name": "Python 3",
   "language": "python",
   "name": "python3"
  },
  "language_info": {
   "codemirror_mode": {
    "name": "ipython",
    "version": 3
   },
   "file_extension": ".py",
   "mimetype": "text/x-python",
   "name": "python",
   "nbconvert_exporter": "python",
   "pygments_lexer": "ipython3",
   "version": "3.8.5"
  },
  "nbTranslate": {
   "displayLangs": [
    "*"
   ],
   "hotkey": "alt-t",
   "langInMainMenu": true,
   "sourceLang": "en",
   "targetLang": "fr",
   "useGoogleTranslate": true
  },
  "toc": {
   "base_numbering": 1,
   "nav_menu": {},
   "number_sections": true,
   "sideBar": true,
   "skip_h1_title": false,
   "title_cell": "Table of Contents",
   "title_sidebar": "Contents",
   "toc_cell": false,
   "toc_position": {},
   "toc_section_display": true,
   "toc_window_display": false
  },
  "varInspector": {
   "cols": {
    "lenName": 16,
    "lenType": 16,
    "lenVar": 40
   },
   "kernels_config": {
    "python": {
     "delete_cmd_postfix": "",
     "delete_cmd_prefix": "del ",
     "library": "var_list.py",
     "varRefreshCmd": "print(var_dic_list())"
    },
    "r": {
     "delete_cmd_postfix": ") ",
     "delete_cmd_prefix": "rm(",
     "library": "var_list.r",
     "varRefreshCmd": "cat(var_dic_list()) "
    }
   },
   "types_to_exclude": [
    "module",
    "function",
    "builtin_function_or_method",
    "instance",
    "_Feature"
   ],
   "window_display": false
  }
 },
 "nbformat": 4,
 "nbformat_minor": 5
}
