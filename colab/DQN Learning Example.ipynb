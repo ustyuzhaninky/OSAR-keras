{
 "cells": [
  {
   "cell_type": "code",
   "execution_count": 1,
   "id": "889f01e2",
   "metadata": {},
   "outputs": [
    {
     "name": "stdout",
     "output_type": "stream",
     "text": [
      "Processing /mnt/c/Users/ustyu/OneDrive/Projects/OSAR-keras\n",
      "  Preparing metadata (setup.py) ... \u001b[?25ldone\n",
      "\u001b[?25hRequirement already satisfied: importlib-metadata in /home/constantine/miniconda3/envs/agents/lib/python3.9/site-packages (from OSAR-nightly==0.1.17.dev20220326) (4.8.2)\n",
      "Requirement already satisfied: gin-config>=0.5.0 in /home/constantine/miniconda3/envs/agents/lib/python3.9/site-packages (from OSAR-nightly==0.1.17.dev20220326) (0.5.0)\n",
      "Requirement already satisfied: atari_py>=0.2.9 in /home/constantine/miniconda3/envs/agents/lib/python3.9/site-packages (from OSAR-nightly==0.1.17.dev20220326) (0.2.9)\n",
      "Requirement already satisfied: dm-reverb[tensorflow]>=0.6.0 in /home/constantine/miniconda3/envs/agents/lib/python3.9/site-packages (from OSAR-nightly==0.1.17.dev20220326) (0.6.1)\n",
      "Requirement already satisfied: gym[atari]>=0.21.0 in /home/constantine/miniconda3/envs/agents/lib/python3.9/site-packages (from OSAR-nightly==0.1.17.dev20220326) (0.21.0)\n",
      "Requirement already satisfied: tf-agents[reverb]>=0.11.0 in /home/constantine/miniconda3/envs/agents/lib/python3.9/site-packages (from OSAR-nightly==0.1.17.dev20220326) (0.11.0)\n",
      "Requirement already satisfied: tqdm>=4.59.0 in /home/constantine/miniconda3/envs/agents/lib/python3.9/site-packages (from OSAR-nightly==0.1.17.dev20220326) (4.62.3)\n",
      "Requirement already satisfied: imageio>=2.8.2 in /home/constantine/miniconda3/envs/agents/lib/python3.9/site-packages (from OSAR-nightly==0.1.17.dev20220326) (2.11.0)\n",
      "Requirement already satisfied: PILLOW>=7.1.2 in /home/constantine/miniconda3/envs/agents/lib/python3.9/site-packages (from OSAR-nightly==0.1.17.dev20220326) (8.4.0)\n",
      "Requirement already satisfied: pandas>=1.3.4 in /home/constantine/miniconda3/envs/agents/lib/python3.9/site-packages (from OSAR-nightly==0.1.17.dev20220326) (1.3.4)\n",
      "Requirement already satisfied: pybullet>=3.2.0 in /home/constantine/miniconda3/envs/agents/lib/python3.9/site-packages (from OSAR-nightly==0.1.17.dev20220326) (3.2.0)\n",
      "Requirement already satisfied: numpy in /home/constantine/miniconda3/envs/agents/lib/python3.9/site-packages (from atari_py>=0.2.9->OSAR-nightly==0.1.17.dev20220326) (1.21.4)\n",
      "Requirement already satisfied: six in /home/constantine/miniconda3/envs/agents/lib/python3.9/site-packages (from atari_py>=0.2.9->OSAR-nightly==0.1.17.dev20220326) (1.16.0)\n",
      "Requirement already satisfied: portpicker in /home/constantine/miniconda3/envs/agents/lib/python3.9/site-packages (from dm-reverb[tensorflow]>=0.6.0->OSAR-nightly==0.1.17.dev20220326) (1.5.0)\n",
      "Requirement already satisfied: dm-tree in /home/constantine/miniconda3/envs/agents/lib/python3.9/site-packages (from dm-reverb[tensorflow]>=0.6.0->OSAR-nightly==0.1.17.dev20220326) (0.1.6)\n",
      "Requirement already satisfied: tensorflow~=2.7.0 in /home/constantine/miniconda3/envs/agents/lib/python3.9/site-packages (from dm-reverb[tensorflow]>=0.6.0->OSAR-nightly==0.1.17.dev20220326) (2.7.0)\n",
      "Requirement already satisfied: cloudpickle>=1.2.0 in /home/constantine/miniconda3/envs/agents/lib/python3.9/site-packages (from gym[atari]>=0.21.0->OSAR-nightly==0.1.17.dev20220326) (2.0.0)\n",
      "Requirement already satisfied: ale-py~=0.7.1 in /home/constantine/miniconda3/envs/agents/lib/python3.9/site-packages (from gym[atari]>=0.21.0->OSAR-nightly==0.1.17.dev20220326) (0.7.3)\n",
      "Requirement already satisfied: python-dateutil>=2.7.3 in /home/constantine/miniconda3/envs/agents/lib/python3.9/site-packages (from pandas>=1.3.4->OSAR-nightly==0.1.17.dev20220326) (2.8.2)\n",
      "Requirement already satisfied: pytz>=2017.3 in /home/constantine/miniconda3/envs/agents/lib/python3.9/site-packages (from pandas>=1.3.4->OSAR-nightly==0.1.17.dev20220326) (2021.3)\n",
      "Requirement already satisfied: wrapt>=1.11.1 in /home/constantine/miniconda3/envs/agents/lib/python3.9/site-packages (from tf-agents[reverb]>=0.11.0->OSAR-nightly==0.1.17.dev20220326) (1.13.3)\n",
      "Requirement already satisfied: protobuf>=3.11.3 in /home/constantine/miniconda3/envs/agents/lib/python3.9/site-packages (from tf-agents[reverb]>=0.11.0->OSAR-nightly==0.1.17.dev20220326) (3.19.1)\n",
      "Requirement already satisfied: tensorflow-probability>=0.14.1 in /home/constantine/miniconda3/envs/agents/lib/python3.9/site-packages (from tf-agents[reverb]>=0.11.0->OSAR-nightly==0.1.17.dev20220326) (0.15.0)\n",
      "Requirement already satisfied: absl-py>=0.6.1 in /home/constantine/miniconda3/envs/agents/lib/python3.9/site-packages (from tf-agents[reverb]>=0.11.0->OSAR-nightly==0.1.17.dev20220326) (1.0.0)\n",
      "Requirement already satisfied: typing-extensions>=3.7.4.3 in /home/constantine/miniconda3/envs/agents/lib/python3.9/site-packages (from tf-agents[reverb]>=0.11.0->OSAR-nightly==0.1.17.dev20220326) (4.0.0)\n",
      "Requirement already satisfied: zipp>=0.5 in /home/constantine/miniconda3/envs/agents/lib/python3.9/site-packages (from importlib-metadata->OSAR-nightly==0.1.17.dev20220326) (3.6.0)\n",
      "Requirement already satisfied: importlib-resources in /home/constantine/miniconda3/envs/agents/lib/python3.9/site-packages (from ale-py~=0.7.1->gym[atari]>=0.21.0->OSAR-nightly==0.1.17.dev20220326) (5.4.0)\n",
      "Requirement already satisfied: libclang>=9.0.1 in /home/constantine/miniconda3/envs/agents/lib/python3.9/site-packages (from tensorflow~=2.7.0->dm-reverb[tensorflow]>=0.6.0->OSAR-nightly==0.1.17.dev20220326) (12.0.0)\n",
      "Requirement already satisfied: gast<0.5.0,>=0.2.1 in /home/constantine/miniconda3/envs/agents/lib/python3.9/site-packages (from tensorflow~=2.7.0->dm-reverb[tensorflow]>=0.6.0->OSAR-nightly==0.1.17.dev20220326) (0.4.0)\n",
      "Requirement already satisfied: google-pasta>=0.1.1 in /home/constantine/miniconda3/envs/agents/lib/python3.9/site-packages (from tensorflow~=2.7.0->dm-reverb[tensorflow]>=0.6.0->OSAR-nightly==0.1.17.dev20220326) (0.2.0)\n",
      "Requirement already satisfied: flatbuffers<3.0,>=1.12 in /home/constantine/miniconda3/envs/agents/lib/python3.9/site-packages (from tensorflow~=2.7.0->dm-reverb[tensorflow]>=0.6.0->OSAR-nightly==0.1.17.dev20220326) (2.0)\n",
      "Requirement already satisfied: tensorflow-estimator<2.8,~=2.7.0rc0 in /home/constantine/miniconda3/envs/agents/lib/python3.9/site-packages (from tensorflow~=2.7.0->dm-reverb[tensorflow]>=0.6.0->OSAR-nightly==0.1.17.dev20220326) (2.7.0)\n",
      "Requirement already satisfied: h5py>=2.9.0 in /home/constantine/miniconda3/envs/agents/lib/python3.9/site-packages (from tensorflow~=2.7.0->dm-reverb[tensorflow]>=0.6.0->OSAR-nightly==0.1.17.dev20220326) (3.6.0)\n",
      "Requirement already satisfied: termcolor>=1.1.0 in /home/constantine/miniconda3/envs/agents/lib/python3.9/site-packages (from tensorflow~=2.7.0->dm-reverb[tensorflow]>=0.6.0->OSAR-nightly==0.1.17.dev20220326) (1.1.0)\n",
      "Requirement already satisfied: tensorboard~=2.6 in /home/constantine/miniconda3/envs/agents/lib/python3.9/site-packages (from tensorflow~=2.7.0->dm-reverb[tensorflow]>=0.6.0->OSAR-nightly==0.1.17.dev20220326) (2.7.0)\n",
      "Requirement already satisfied: tensorflow-io-gcs-filesystem>=0.21.0 in /home/constantine/miniconda3/envs/agents/lib/python3.9/site-packages (from tensorflow~=2.7.0->dm-reverb[tensorflow]>=0.6.0->OSAR-nightly==0.1.17.dev20220326) (0.22.0)\n",
      "Requirement already satisfied: keras-preprocessing>=1.1.1 in /home/constantine/miniconda3/envs/agents/lib/python3.9/site-packages (from tensorflow~=2.7.0->dm-reverb[tensorflow]>=0.6.0->OSAR-nightly==0.1.17.dev20220326) (1.1.2)\n",
      "Requirement already satisfied: astunparse>=1.6.0 in /home/constantine/miniconda3/envs/agents/lib/python3.9/site-packages (from tensorflow~=2.7.0->dm-reverb[tensorflow]>=0.6.0->OSAR-nightly==0.1.17.dev20220326) (1.6.3)\n",
      "Requirement already satisfied: keras<2.8,>=2.7.0rc0 in /home/constantine/miniconda3/envs/agents/lib/python3.9/site-packages (from tensorflow~=2.7.0->dm-reverb[tensorflow]>=0.6.0->OSAR-nightly==0.1.17.dev20220326) (2.7.0)\n",
      "Requirement already satisfied: opt-einsum>=2.3.2 in /home/constantine/miniconda3/envs/agents/lib/python3.9/site-packages (from tensorflow~=2.7.0->dm-reverb[tensorflow]>=0.6.0->OSAR-nightly==0.1.17.dev20220326) (3.3.0)\n",
      "Requirement already satisfied: wheel<1.0,>=0.32.0 in /home/constantine/miniconda3/envs/agents/lib/python3.9/site-packages (from tensorflow~=2.7.0->dm-reverb[tensorflow]>=0.6.0->OSAR-nightly==0.1.17.dev20220326) (0.37.0)\n",
      "Requirement already satisfied: grpcio<2.0,>=1.24.3 in /home/constantine/miniconda3/envs/agents/lib/python3.9/site-packages (from tensorflow~=2.7.0->dm-reverb[tensorflow]>=0.6.0->OSAR-nightly==0.1.17.dev20220326) (1.42.0)\n",
      "Requirement already satisfied: decorator in /home/constantine/miniconda3/envs/agents/lib/python3.9/site-packages (from tensorflow-probability>=0.14.1->tf-agents[reverb]>=0.11.0->OSAR-nightly==0.1.17.dev20220326) (5.1.0)\n",
      "Requirement already satisfied: psutil in /home/constantine/miniconda3/envs/agents/lib/python3.9/site-packages (from portpicker->dm-reverb[tensorflow]>=0.6.0->OSAR-nightly==0.1.17.dev20220326) (5.8.0)\n",
      "Requirement already satisfied: google-auth<3,>=1.6.3 in /home/constantine/miniconda3/envs/agents/lib/python3.9/site-packages (from tensorboard~=2.6->tensorflow~=2.7.0->dm-reverb[tensorflow]>=0.6.0->OSAR-nightly==0.1.17.dev20220326) (2.3.3)\n",
      "Requirement already satisfied: tensorboard-plugin-wit>=1.6.0 in /home/constantine/miniconda3/envs/agents/lib/python3.9/site-packages (from tensorboard~=2.6->tensorflow~=2.7.0->dm-reverb[tensorflow]>=0.6.0->OSAR-nightly==0.1.17.dev20220326) (1.8.0)\n",
      "Requirement already satisfied: google-auth-oauthlib<0.5,>=0.4.1 in /home/constantine/miniconda3/envs/agents/lib/python3.9/site-packages (from tensorboard~=2.6->tensorflow~=2.7.0->dm-reverb[tensorflow]>=0.6.0->OSAR-nightly==0.1.17.dev20220326) (0.4.6)\n",
      "Requirement already satisfied: werkzeug>=0.11.15 in /home/constantine/miniconda3/envs/agents/lib/python3.9/site-packages (from tensorboard~=2.6->tensorflow~=2.7.0->dm-reverb[tensorflow]>=0.6.0->OSAR-nightly==0.1.17.dev20220326) (2.0.2)\n",
      "Requirement already satisfied: setuptools>=41.0.0 in /home/constantine/miniconda3/envs/agents/lib/python3.9/site-packages (from tensorboard~=2.6->tensorflow~=2.7.0->dm-reverb[tensorflow]>=0.6.0->OSAR-nightly==0.1.17.dev20220326) (59.1.1)\n",
      "Requirement already satisfied: tensorboard-data-server<0.7.0,>=0.6.0 in /home/constantine/miniconda3/envs/agents/lib/python3.9/site-packages (from tensorboard~=2.6->tensorflow~=2.7.0->dm-reverb[tensorflow]>=0.6.0->OSAR-nightly==0.1.17.dev20220326) (0.6.1)\n",
      "Requirement already satisfied: requests<3,>=2.21.0 in /home/constantine/miniconda3/envs/agents/lib/python3.9/site-packages (from tensorboard~=2.6->tensorflow~=2.7.0->dm-reverb[tensorflow]>=0.6.0->OSAR-nightly==0.1.17.dev20220326) (2.26.0)\n",
      "Requirement already satisfied: markdown>=2.6.8 in /home/constantine/miniconda3/envs/agents/lib/python3.9/site-packages (from tensorboard~=2.6->tensorflow~=2.7.0->dm-reverb[tensorflow]>=0.6.0->OSAR-nightly==0.1.17.dev20220326) (3.3.6)\n",
      "Requirement already satisfied: rsa<5,>=3.1.4 in /home/constantine/miniconda3/envs/agents/lib/python3.9/site-packages (from google-auth<3,>=1.6.3->tensorboard~=2.6->tensorflow~=2.7.0->dm-reverb[tensorflow]>=0.6.0->OSAR-nightly==0.1.17.dev20220326) (4.7.2)\n",
      "Requirement already satisfied: pyasn1-modules>=0.2.1 in /home/constantine/miniconda3/envs/agents/lib/python3.9/site-packages (from google-auth<3,>=1.6.3->tensorboard~=2.6->tensorflow~=2.7.0->dm-reverb[tensorflow]>=0.6.0->OSAR-nightly==0.1.17.dev20220326) (0.2.8)\n",
      "Requirement already satisfied: cachetools<5.0,>=2.0.0 in /home/constantine/miniconda3/envs/agents/lib/python3.9/site-packages (from google-auth<3,>=1.6.3->tensorboard~=2.6->tensorflow~=2.7.0->dm-reverb[tensorflow]>=0.6.0->OSAR-nightly==0.1.17.dev20220326) (4.2.4)\n",
      "Requirement already satisfied: requests-oauthlib>=0.7.0 in /home/constantine/miniconda3/envs/agents/lib/python3.9/site-packages (from google-auth-oauthlib<0.5,>=0.4.1->tensorboard~=2.6->tensorflow~=2.7.0->dm-reverb[tensorflow]>=0.6.0->OSAR-nightly==0.1.17.dev20220326) (1.3.0)\n",
      "Requirement already satisfied: urllib3<1.27,>=1.21.1 in /home/constantine/miniconda3/envs/agents/lib/python3.9/site-packages (from requests<3,>=2.21.0->tensorboard~=2.6->tensorflow~=2.7.0->dm-reverb[tensorflow]>=0.6.0->OSAR-nightly==0.1.17.dev20220326) (1.26.7)\n",
      "Requirement already satisfied: idna<4,>=2.5 in /home/constantine/miniconda3/envs/agents/lib/python3.9/site-packages (from requests<3,>=2.21.0->tensorboard~=2.6->tensorflow~=2.7.0->dm-reverb[tensorflow]>=0.6.0->OSAR-nightly==0.1.17.dev20220326) (3.3)\n",
      "Requirement already satisfied: certifi>=2017.4.17 in /home/constantine/miniconda3/envs/agents/lib/python3.9/site-packages (from requests<3,>=2.21.0->tensorboard~=2.6->tensorflow~=2.7.0->dm-reverb[tensorflow]>=0.6.0->OSAR-nightly==0.1.17.dev20220326) (2021.10.8)\n",
      "Requirement already satisfied: charset-normalizer~=2.0.0 in /home/constantine/miniconda3/envs/agents/lib/python3.9/site-packages (from requests<3,>=2.21.0->tensorboard~=2.6->tensorflow~=2.7.0->dm-reverb[tensorflow]>=0.6.0->OSAR-nightly==0.1.17.dev20220326) (2.0.7)\n",
      "Requirement already satisfied: pyasn1<0.5.0,>=0.4.6 in /home/constantine/miniconda3/envs/agents/lib/python3.9/site-packages (from pyasn1-modules>=0.2.1->google-auth<3,>=1.6.3->tensorboard~=2.6->tensorflow~=2.7.0->dm-reverb[tensorflow]>=0.6.0->OSAR-nightly==0.1.17.dev20220326) (0.4.8)\n",
      "Requirement already satisfied: oauthlib>=3.0.0 in /home/constantine/miniconda3/envs/agents/lib/python3.9/site-packages (from requests-oauthlib>=0.7.0->google-auth-oauthlib<0.5,>=0.4.1->tensorboard~=2.6->tensorflow~=2.7.0->dm-reverb[tensorflow]>=0.6.0->OSAR-nightly==0.1.17.dev20220326) (3.1.1)\n",
      "Building wheels for collected packages: OSAR-nightly\n",
      "  Building wheel for OSAR-nightly (setup.py) ... \u001b[?25ldone\n",
      "\u001b[?25h  Created wheel for OSAR-nightly: filename=OSAR_nightly-0.1.17.dev20220326-cp39-cp39-linux_x86_64.whl size=68441 sha256=7695709c11351c70f92bb924c11a58cf891d5174f965582503ea5f9c4043cb66\n",
      "  Stored in directory: /home/constantine/.cache/pip/wheels/b0/55/4a/1bb4852a26744ba9735d506993c618d1ab7be56275314d8ea7\n",
      "Successfully built OSAR-nightly\n",
      "Installing collected packages: OSAR-nightly\n",
      "  Attempting uninstall: OSAR-nightly\n",
      "    Found existing installation: OSAR-nightly 0.1.17.dev20220326\n",
      "    Uninstalling OSAR-nightly-0.1.17.dev20220326:\n",
      "      Successfully uninstalled OSAR-nightly-0.1.17.dev20220326\n",
      "Successfully installed OSAR-nightly-0.1.17.dev20220326\n"
     ]
    }
   ],
   "source": [
    "!pip install ../../OSAR-keras/."
   ]
  },
  {
   "cell_type": "code",
   "execution_count": 2,
   "id": "hispanic-twelve",
   "metadata": {},
   "outputs": [
    {
     "name": "stderr",
     "output_type": "stream",
     "text": [
      "2022-03-26 20:40:22.150957: I tensorflow/stream_executor/cuda/cuda_gpu_executor.cc:925] could not open file to read NUMA node: /sys/bus/pci/devices/0000:01:00.0/numa_node\n",
      "Your kernel may have been built without NUMA support.\n",
      "2022-03-26 20:40:22.184961: I tensorflow/stream_executor/cuda/cuda_gpu_executor.cc:925] could not open file to read NUMA node: /sys/bus/pci/devices/0000:01:00.0/numa_node\n",
      "Your kernel may have been built without NUMA support.\n",
      "2022-03-26 20:40:22.185396: I tensorflow/stream_executor/cuda/cuda_gpu_executor.cc:925] could not open file to read NUMA node: /sys/bus/pci/devices/0000:01:00.0/numa_node\n",
      "Your kernel may have been built without NUMA support.\n"
     ]
    },
    {
     "name": "stdout",
     "output_type": "stream",
     "text": [
      "2.7.0\n"
     ]
    },
    {
     "name": "stderr",
     "output_type": "stream",
     "text": [
      "2022-03-26 20:40:22.186871: I tensorflow/core/platform/cpu_feature_guard.cc:151] This TensorFlow binary is optimized with oneAPI Deep Neural Network Library (oneDNN) to use the following CPU instructions in performance-critical operations:  AVX2 FMA\n",
      "To enable them in other operations, rebuild TensorFlow with the appropriate compiler flags.\n",
      "2022-03-26 20:40:22.188010: I tensorflow/stream_executor/cuda/cuda_gpu_executor.cc:925] could not open file to read NUMA node: /sys/bus/pci/devices/0000:01:00.0/numa_node\n",
      "Your kernel may have been built without NUMA support.\n",
      "2022-03-26 20:40:22.188512: I tensorflow/stream_executor/cuda/cuda_gpu_executor.cc:925] could not open file to read NUMA node: /sys/bus/pci/devices/0000:01:00.0/numa_node\n",
      "Your kernel may have been built without NUMA support.\n",
      "2022-03-26 20:40:22.188940: I tensorflow/stream_executor/cuda/cuda_gpu_executor.cc:925] could not open file to read NUMA node: /sys/bus/pci/devices/0000:01:00.0/numa_node\n",
      "Your kernel may have been built without NUMA support.\n",
      "2022-03-26 20:40:22.789304: I tensorflow/stream_executor/cuda/cuda_gpu_executor.cc:925] could not open file to read NUMA node: /sys/bus/pci/devices/0000:01:00.0/numa_node\n",
      "Your kernel may have been built without NUMA support.\n",
      "2022-03-26 20:40:22.789665: I tensorflow/stream_executor/cuda/cuda_gpu_executor.cc:925] could not open file to read NUMA node: /sys/bus/pci/devices/0000:01:00.0/numa_node\n",
      "Your kernel may have been built without NUMA support.\n",
      "2022-03-26 20:40:22.789677: I tensorflow/core/common_runtime/gpu/gpu_device.cc:1609] Could not identify NUMA node of platform GPU id 0, defaulting to 0.  Your kernel may not have been built with NUMA support.\n",
      "2022-03-26 20:40:22.789992: I tensorflow/stream_executor/cuda/cuda_gpu_executor.cc:925] could not open file to read NUMA node: /sys/bus/pci/devices/0000:01:00.0/numa_node\n",
      "Your kernel may have been built without NUMA support.\n",
      "2022-03-26 20:40:22.790117: I tensorflow/core/common_runtime/gpu/gpu_device.cc:1525] Created device /job:localhost/replica:0/task:0/device:GPU:0 with 1615 MB memory:  -> device: 0, name: NVIDIA GeForce RTX 3050 Ti Laptop GPU, pci bus id: 0000:01:00.0, compute capability: 8.6\n"
     ]
    }
   ],
   "source": [
    "from __future__ import absolute_import, division, print_function\n",
    "\n",
    "import os\n",
    "import base64\n",
    "import imageio\n",
    "import IPython\n",
    "import matplotlib\n",
    "import matplotlib.pyplot as plt\n",
    "import numpy as np\n",
    "import PIL.Image\n",
    "import tempfile\n",
    "import reverb\n",
    "\n",
    "import tensorflow as tf\n",
    "\n",
    "from tf_agents.agents.ddpg import critic_network\n",
    "from tf_agents.agents.sac import sac_agent\n",
    "from tf_agents.agents.sac import tanh_normal_projection_network\n",
    "from tf_agents.environments import suite_pybullet\n",
    "from tf_agents.metrics import py_metrics\n",
    "from tf_agents.networks import actor_distribution_network\n",
    "from tf_agents.policies import greedy_policy\n",
    "from tf_agents.policies import py_tf_eager_policy\n",
    "from tf_agents.policies import random_py_policy\n",
    "from tf_agents.replay_buffers import reverb_replay_buffer\n",
    "from tf_agents.replay_buffers import reverb_utils\n",
    "from tf_agents.train import actor\n",
    "from tf_agents.train import learner\n",
    "from tf_agents.train import triggers\n",
    "from tf_agents.train.utils import spec_utils\n",
    "from tf_agents.train.utils import strategy_utils\n",
    "from tf_agents.train.utils import train_utils\n",
    "from tf_agents.utils import common\n",
    "\n",
    "tempdir = tempfile.gettempdir()\n",
    "from OSAR import OSARQNetwork, Runner, DQNTrialAgent\n",
    "\n",
    "print(tf.version.VERSION)"
   ]
  },
  {
   "cell_type": "code",
   "execution_count": 3,
   "id": "eb789839",
   "metadata": {},
   "outputs": [
    {
     "name": "stdout",
     "output_type": "stream",
     "text": [
      "Num GPUs: 1\n"
     ]
    }
   ],
   "source": [
    "physical_devices = tf.config.list_physical_devices('GPU')\n",
    "print(\"Num GPUs:\", len(physical_devices))"
   ]
  },
  {
   "cell_type": "code",
   "execution_count": 4,
   "id": "outdoor-demographic",
   "metadata": {},
   "outputs": [],
   "source": [
    "env_names = [\n",
    "    'Alien-ram-v0',\n",
    "#     'MontezumaRevenge-ram-v0',\n",
    "#     'AirRaid-ram-v0',\n",
    "#     'Solaris-ram-v0',\n",
    "#     'Berzerk-ram-v0',\n",
    "#     'Asteroids-ram-v0',\n",
    "#     'Venture-ram-v0',\n",
    "#     'Asteroids-ram-v0',\n",
    "#     'BattleZone-ram-v0',\n",
    "#     'Enduro-ram-v0',\n",
    "#     'Tutankham-ram-v0',\n",
    "#     'WizardOfWor-ram-v0',\n",
    "]"
   ]
  },
  {
   "cell_type": "code",
   "execution_count": 5,
   "id": "sufficient-monkey",
   "metadata": {},
   "outputs": [],
   "source": [
    "env_name = \"Alien-ram-v0\" # @param {type:\"string\"}\n",
    "\n",
    "\n",
    "# Use \"num_iterations = 1e6\" for better results (2 hrs)\n",
    "# 1e5 is just so this doesn't take too long (1 hr)\n",
    "num_iterations = 10000 # @param {type:\"integer\"}\n",
    "\n",
    "initial_collect_steps = 1000 # @param {type:\"integer\"}\n",
    "collect_steps_per_iteration = 1 # @param {type:\"integer\"}\n",
    "replay_buffer_capacity = 1000 # @param {type:\"integer\"}\n",
    "\n",
    "batch_size = 16 # @param {type:\"integer\"}\n",
    "\n",
    "learning_rate = 1e-3  # @param {type:\"number\"}\n",
    "log_interval = 20  # @param {type:\"integer\"}\n",
    "memory_len = 3 # @param {type: \"integer\"}\n",
    "n_turns = 3 # @param {type: \"integer\"}\n",
    "num_atoms = 51  # @param {type:\"integer\"}\n",
    "q_value = 10  # @param {type:\"integer\"}\n",
    "n_step_update = 2  # @param {type:\"integer\"}\n",
    "boltzmann_temperature = 10e-5 # @param {type:\"float\"}\n",
    "epsilon_greedy = None # @param {type:\"float\"}\n",
    "conv_type = '1d' # @param {type:\"str\"}\n",
    "\n",
    "log_interval = 100 # @param {type:\"integer\"}\n",
    "\n",
    "num_eval_episodes = 20 # @param {type:\"integer\"}\n",
    "eval_interval = 1000 # @param {type:\"integer\"}\n",
    "\n",
    "policy_save_interval = 1000 # @param {type:\"integer\"}\n",
    "\n",
    "fc_layer_params = (10, 10)\n",
    "\n",
    "num_iterations = 10000 # @param {type:\"integer\"}\n",
    "\n",
    "initial_collect_steps = 100  # @param {type:\"integer\"} \n",
    "collect_steps_per_iteration = 1  # @param {type:\"integer\"}\n",
    "replay_buffer_max_length = 1000  # @param {type:\"integer\"}\n",
    "\n"
   ]
  },
  {
   "cell_type": "code",
   "execution_count": 6,
   "id": "92404eee",
   "metadata": {},
   "outputs": [
    {
     "name": "stderr",
     "output_type": "stream",
     "text": [
      "A.L.E: Arcade Learning Environment (version +978d2ce)\n",
      "[Powered by Stella]\n"
     ]
    },
    {
     "data": {
      "image/png": "[encoded data removed]",
      "text/plain": [
       "<PIL.Image.Image image mode=RGB size=160x210 at 0x7FD9A429B610>"
      ]
     },
     "execution_count": 6,
     "metadata": {},
     "output_type": "execute_result"
    }
   ],
   "source": [
    "env = suite_pybullet.load(env_name)\n",
    "env.reset()\n",
    "PIL.Image.fromarray(env.render())"
   ]
  },
  {
   "cell_type": "code",
   "execution_count": 7,
   "id": "beaab64b",
   "metadata": {},
   "outputs": [
    {
     "name": "stdout",
     "output_type": "stream",
     "text": [
      "Observation Spec:\n",
      "BoundedArraySpec(shape=(128,), dtype=dtype('uint8'), name='observation', minimum=0, maximum=255)\n",
      "Action Spec:\n",
      "BoundedArraySpec(shape=(), dtype=dtype('int64'), name='action', minimum=0, maximum=17)\n"
     ]
    }
   ],
   "source": [
    "print('Observation Spec:')\n",
    "print(env.time_step_spec().observation)\n",
    "print('Action Spec:')\n",
    "print(env.action_spec())"
   ]
  },
  {
   "cell_type": "code",
   "execution_count": 8,
   "id": "edeaca79",
   "metadata": {},
   "outputs": [],
   "source": [
    "collect_env = suite_pybullet.load(env_name)\n",
    "eval_env = suite_pybullet.load(env_name)"
   ]
  },
  {
   "cell_type": "code",
   "execution_count": 9,
   "id": "e3f47e31",
   "metadata": {},
   "outputs": [],
   "source": [
    "observation_spec, action_spec, time_step_spec = (\n",
    "    spec_utils.get_tensor_specs(collect_env))"
   ]
  },
  {
   "cell_type": "code",
   "execution_count": 10,
   "id": "38b70b3e",
   "metadata": {},
   "outputs": [
    {
     "name": "stderr",
     "output_type": "stream",
     "text": [
      "2022-03-26 20:40:24.855831: I tensorflow/stream_executor/cuda/cuda_blas.cc:1774] TensorFloat-32 will be used for the matrix multiplication. This will only be logged once.\n",
      "2022-03-26 20:40:25.838545: I tensorflow/stream_executor/cuda/cuda_dnn.cc:366] Loaded cuDNN version 8201\n",
      "2022-03-26 20:40:26.949229: I tensorflow/core/platform/default/subprocess.cc:304] Start cannot spawn child process: No such file or directory\n"
     ]
    },
    {
     "name": "stdout",
     "output_type": "stream",
     "text": [
      "WARNING:tensorflow:From /home/constantine/miniconda3/envs/agents/lib/python3.9/site-packages/tensorflow/python/ops/linalg/linear_operator_kronecker.py:228: LinearOperator.graph_parents (from tensorflow.python.ops.linalg.linear_operator) is deprecated and will be removed in a future version.\n",
      "Instructions for updating:\n",
      "Do not call `graph_parents`.\n"
     ]
    }
   ],
   "source": [
    "q_net = OSARQNetwork(\n",
    "        observation_spec,\n",
    "        action_spec,\n",
    "        memory_len,\n",
    "        n_turns,\n",
    "        fc_layer_params=fc_layer_params,\n",
    "        conv_type=conv_type,\n",
    "        )\n",
    "\n",
    "train_step = train_utils.create_train_step()\n",
    "optimizer = tf.keras.optimizers.Adam(learning_rate=learning_rate)\n",
    "\n",
    "tf_agent = DQNTrialAgent(\n",
    "        time_step_spec,\n",
    "        action_spec,\n",
    "        network=q_net,\n",
    "        optimizer=optimizer,\n",
    "        td_errors_loss_fn=common.element_wise_squared_loss,\n",
    "        boltzmann_temperature=boltzmann_temperature,\n",
    "        epsilon_greedy=epsilon_greedy,\n",
    "        debug_summaries=True,\n",
    "        train_step_counter = train_step,\n",
    "        summarize_grads_and_vars=True,\n",
    "    )\n",
    "    \n",
    "tf_agent.initialize()"
   ]
  },
  {
   "cell_type": "code",
   "execution_count": 11,
   "id": "90096e50",
   "metadata": {},
   "outputs": [],
   "source": [
    "rate_limiter=reverb.rate_limiters.SampleToInsertRatio(samples_per_insert=3.0, min_size_to_sample=3, error_buffer=3.0)"
   ]
  },
  {
   "cell_type": "code",
   "execution_count": 12,
   "id": "ddc1ed25",
   "metadata": {},
   "outputs": [
    {
     "name": "stderr",
     "output_type": "stream",
     "text": [
      "[reverb/cc/platform/tfrecord_checkpointer.cc:150]  Initializing TFRecordCheckpointer in /tmp/tmpp3oh9odp.\n",
      "[reverb/cc/platform/tfrecord_checkpointer.cc:386] Loading latest checkpoint from /tmp/tmpp3oh9odp\n",
      "[reverb/cc/platform/default/server.cc:71] Started replay server on port 15345\n"
     ]
    }
   ],
   "source": [
    "table_name = 'uniform_table'\n",
    "table = reverb.Table(\n",
    "    table_name,\n",
    "    max_size=replay_buffer_capacity,\n",
    "    sampler=reverb.selectors.Uniform(),\n",
    "    remover=reverb.selectors.Fifo(),\n",
    "    rate_limiter=reverb.rate_limiters.MinSize(1))\n",
    "\n",
    "reverb_server = reverb.Server([table])"
   ]
  },
  {
   "cell_type": "code",
   "execution_count": 13,
   "id": "95899deb",
   "metadata": {},
   "outputs": [],
   "source": [
    "reverb_replay = reverb_replay_buffer.ReverbReplayBuffer(\n",
    "    tf_agent.collect_data_spec,\n",
    "    sequence_length=2,\n",
    "    table_name=table_name,\n",
    "    local_server=reverb_server)"
   ]
  },
  {
   "cell_type": "code",
   "execution_count": 14,
   "id": "aeab300c",
   "metadata": {},
   "outputs": [],
   "source": [
    "dataset = reverb_replay.as_dataset(\n",
    "      sample_batch_size=batch_size, num_steps=2).prefetch(50)\n",
    "experience_dataset_fn = lambda: dataset"
   ]
  },
  {
   "cell_type": "code",
   "execution_count": 15,
   "id": "ea3fb4a9",
   "metadata": {},
   "outputs": [],
   "source": [
    "tf_eval_policy = tf_agent.policy\n",
    "eval_policy = py_tf_eager_policy.PyTFEagerPolicy(\n",
    "  tf_eval_policy, use_tf_function=True)"
   ]
  },
  {
   "cell_type": "code",
   "execution_count": 16,
   "id": "0c41fa31",
   "metadata": {},
   "outputs": [],
   "source": [
    "tf_collect_policy = tf_agent.collect_policy\n",
    "collect_policy = py_tf_eager_policy.PyTFEagerPolicy(\n",
    "  tf_collect_policy, use_tf_function=True)"
   ]
  },
  {
   "cell_type": "code",
   "execution_count": 17,
   "id": "46dc7bdf",
   "metadata": {},
   "outputs": [],
   "source": [
    "random_policy = random_py_policy.RandomPyPolicy(\n",
    "  collect_env.time_step_spec(), collect_env.action_spec())"
   ]
  },
  {
   "cell_type": "code",
   "execution_count": 18,
   "id": "a64b6dbb",
   "metadata": {},
   "outputs": [],
   "source": [
    "rb_observer = reverb_utils.ReverbAddTrajectoryObserver(\n",
    "  reverb_replay.py_client,\n",
    "  table_name,\n",
    "  sequence_length=2,\n",
    "  stride_length=1)"
   ]
  },
  {
   "cell_type": "code",
   "execution_count": 19,
   "id": "04a6ada1",
   "metadata": {},
   "outputs": [],
   "source": [
    "initial_collect_actor = actor.Actor(\n",
    "  collect_env,\n",
    "  random_policy,\n",
    "  train_step,\n",
    "  steps_per_run=initial_collect_steps,\n",
    "  observers=[rb_observer])\n",
    "initial_collect_actor.run()"
   ]
  },
  {
   "cell_type": "code",
   "execution_count": 20,
   "id": "4dc16af7",
   "metadata": {},
   "outputs": [
    {
     "name": "stdout",
     "output_type": "stream",
     "text": [
      "Saving to `/tmp/train`\n"
     ]
    }
   ],
   "source": [
    "env_step_metric = py_metrics.EnvironmentSteps()\n",
    "collect_actor = actor.Actor(\n",
    "  collect_env,\n",
    "  collect_policy,\n",
    "  train_step,\n",
    "  steps_per_run=1,\n",
    "  metrics=actor.collect_metrics(10),\n",
    "  summary_dir=os.path.join(tempdir, learner.TRAIN_DIR),\n",
    "  observers=[rb_observer, env_step_metric])\n",
    "print(f'Saving to `{os.path.join(tempdir, learner.TRAIN_DIR)}`')"
   ]
  },
  {
   "cell_type": "code",
   "execution_count": 21,
   "id": "80f9c865",
   "metadata": {},
   "outputs": [],
   "source": [
    "eval_actor = actor.Actor(\n",
    "  eval_env,\n",
    "  eval_policy,\n",
    "  train_step,\n",
    "  episodes_per_run=num_eval_episodes,\n",
    "  metrics=actor.eval_metrics(num_eval_episodes),\n",
    "  summary_dir=os.path.join(tempdir, 'eval'),\n",
    ")"
   ]
  },
  {
   "cell_type": "code",
   "execution_count": 22,
   "id": "c0135bf2",
   "metadata": {},
   "outputs": [
    {
     "name": "stderr",
     "output_type": "stream",
     "text": [
      "2022-03-26 20:40:30.208323: W tensorflow/python/util/util.cc:368] Sets are not currently considered sequences, but this may change in the future, so consider avoiding using them.\n"
     ]
    },
    {
     "name": "stdout",
     "output_type": "stream",
     "text": [
      "WARNING:tensorflow:From /home/constantine/miniconda3/envs/agents/lib/python3.9/site-packages/tf_agents/train/learner.py:150: StrategyBase.experimental_distribute_datasets_from_function (from tensorflow.python.distribute.distribute_lib) is deprecated and will be removed in a future version.\n",
      "Instructions for updating:\n",
      "rename to distribute_datasets_from_function\n"
     ]
    },
    {
     "name": "stderr",
     "output_type": "stream",
     "text": [
      "/tmp/__autograph_generated_filehsl5n2uv.py:14: SyntaxWarning: \"is not\" with a literal. Did you mean \"!=\"?\n",
      "  retval_ = ag__.and_(lambda : ag__.ld(state) is not None, lambda : ag__.and_(lambda : ag__.ld(state) is not (), lambda : ag__.ld(state) is not []))\n",
      "/tmp/__autograph_generated_file50zufrmd.py:86: SyntaxWarning: \"is\" with a literal. Did you mean \"==\"?\n",
      "  ag__.if_stmt(ag__.not_(ag__.or_(lambda : ag__.ld(policy_state) is None, lambda : ag__.or_(lambda : ag__.ld(policy_state) is (), lambda : ag__.ld(policy_state) is []))), if_body_2, else_body_2, get_state_2, set_state_2, (), 0)\n",
      "/tmp/__autograph_generated_file7185mwac.py:74: SyntaxWarning: \"is\" with a literal. Did you mean \"==\"?\n",
      "  ag__.if_stmt(ag__.ld(policy_state) is (), if_body_2, else_body_2, get_state_2, set_state_2, ('do_return', 'retval_'), 2)\n"
     ]
    }
   ],
   "source": [
    "saved_model_dir = os.path.join(tempdir, learner.POLICY_SAVED_MODEL_DIR)\n",
    "\n",
    "# Triggers to save the agent's policy checkpoints.\n",
    "learning_triggers = [\n",
    "    triggers.PolicySavedModelTrigger(\n",
    "        saved_model_dir,\n",
    "        tf_agent,\n",
    "        train_step,\n",
    "        interval=policy_save_interval),\n",
    "    triggers.StepPerSecondLogTrigger(train_step, interval=1000),\n",
    "]\n",
    "\n",
    "agent_learner = learner.Learner(\n",
    "  tempdir,\n",
    "  train_step,\n",
    "  tf_agent,\n",
    "  experience_dataset_fn,\n",
    "  triggers=learning_triggers,\n",
    "  strategy=None)"
   ]
  },
  {
   "cell_type": "code",
   "execution_count": 23,
   "id": "d61e9818",
   "metadata": {},
   "outputs": [],
   "source": [
    "def get_eval_metrics():\n",
    "    eval_actor.run()\n",
    "    results = {}\n",
    "    for metric in eval_actor.metrics:\n",
    "        results[metric.name] = metric.result()\n",
    "    return results\n",
    "\n",
    "metrics = get_eval_metrics()"
   ]
  },
  {
   "cell_type": "code",
   "execution_count": 24,
   "id": "44bd6cab",
   "metadata": {},
   "outputs": [
    {
     "name": "stdout",
     "output_type": "stream",
     "text": [
      "step = 0: AverageReturn = 174.000000, AverageEpisodeLength = 878.049988\n"
     ]
    }
   ],
   "source": [
    "def log_eval_metrics(step, metrics):\n",
    "  eval_results = (', ').join(\n",
    "      '{} = {:.6f}'.format(name, result) for name, result in metrics.items())\n",
    "  print('step = {0}: {1}'.format(step, eval_results))\n",
    "\n",
    "log_eval_metrics(0, metrics)"
   ]
  },
  {
   "cell_type": "code",
   "execution_count": 25,
   "id": "8d4068d2",
   "metadata": {},
   "outputs": [
    {
     "name": "stderr",
     "output_type": "stream",
     "text": [
      "[reverb/cc/client.cc:163] Sampler and server are owned by the same process (3459) so Table uniform_table is accessed directly without gRPC.\n",
      "[reverb/cc/client.cc:163] Sampler and server are owned by the same process (3459) so Table uniform_table is accessed directly without gRPC.\n",
      "[reverb/cc/client.cc:163] Sampler and server are owned by the same process (3459) so Table uniform_table is accessed directly without gRPC.\n",
      "[reverb/cc/client.cc:163] Sampler and server are owned by the same process (3459) so Table uniform_table is accessed directly without gRPC.\n",
      "[reverb/cc/client.cc:163] Sampler and server are owned by the same process (3459) so Table uniform_table is accessed directly without gRPC.\n"
     ]
    },
    {
     "name": "stdout",
     "output_type": "stream",
     "text": [
      "step = 100: loss = 0.2948237359523773\n",
      "step = 200: loss = 0.0701318010687828\n",
      "step = 300: loss = 0.015045980922877789\n",
      "step = 400: loss = 0.0030048738699406385\n",
      "step = 500: loss = 0.0005548637709580362\n",
      "step = 600: loss = 9.1041591076646e-05\n",
      "step = 700: loss = 1.2809778127120808e-05\n",
      "step = 800: loss = 1.5181927892626845e-06\n",
      "step = 900: loss = 1.5084953020050307e-07\n",
      "step = 1000: AverageReturn = 166.000000, AverageEpisodeLength = 917.349976\n",
      "step = 1000: loss = 1.2662928483564428e-08\n",
      "step = 1100: loss = 9.044500703936365e-10\n",
      "step = 1200: loss = 5.455993989933461e-11\n",
      "step = 1300: loss = 6.825860189574318e-12\n",
      "step = 1400: loss = 1.7949624263064595e-13\n",
      "step = 1500: loss = 3.468903766665199e-12\n",
      "step = 1600: loss = 1.0763983454564752e-11\n",
      "step = 1700: loss = 6.1208468848938935e-12\n",
      "step = 1800: loss = 3.063479677504593e-16\n",
      "step = 1900: loss = 4.693301997038546e-11\n",
      "step = 2000: AverageReturn = 164.000000, AverageEpisodeLength = 864.650024\n",
      "step = 2000: loss = 4.067740588808988e-11\n",
      "step = 2100: loss = 9.4334678957253e-12\n",
      "step = 2200: loss = 4.6280809046228555e-11\n",
      "step = 2300: loss = 2.835793665861841e-13\n",
      "step = 2400: loss = 1.930196670898998e-12\n",
      "step = 2500: loss = 1.6098736926872803e-11\n",
      "step = 2600: loss = 6.838497650096809e-12\n",
      "step = 2700: loss = 6.503660023721158e-12\n",
      "step = 2800: loss = 8.977121196286072e-17\n",
      "step = 2900: loss = 1.6892887089170472e-10\n"
     ]
    }
   ],
   "source": [
    "try:\n",
    "    %%time\n",
    "except:\n",
    "    pass\n",
    "\n",
    "# Reset the train step\n",
    "tf_agent.train_step_counter.assign(0)\n",
    "\n",
    "# Evaluate the agent's policy once before training.\n",
    "avg_return = get_eval_metrics()[\"AverageReturn\"]\n",
    "returns = [avg_return]\n",
    "\n",
    "for _ in range(num_iterations):\n",
    "    # Training.\n",
    "    collect_actor.run()\n",
    "    loss_info = agent_learner.run(iterations=1)\n",
    "\n",
    "    # Evaluating.\n",
    "    step = agent_learner.train_step_numpy\n",
    "\n",
    "    if eval_interval and step % eval_interval == 0:\n",
    "        metrics = get_eval_metrics()\n",
    "        log_eval_metrics(step, metrics)\n",
    "        returns.append(metrics[\"AverageReturn\"])\n",
    "\n",
    "    if log_interval and step % log_interval == 0:\n",
    "        print('step = {0}: loss = {1}'.format(step, loss_info.loss.numpy()))\n",
    "\n",
    "rb_observer.close()\n",
    "reverb_server.stop()"
   ]
  },
  {
   "cell_type": "code",
   "execution_count": null,
   "id": "3180b00d",
   "metadata": {},
   "outputs": [],
   "source": [
    "steps = range(0, num_iterations + 1, eval_interval)\n",
    "plt.plot(steps, returns)\n",
    "plt.ylabel('Average Return')\n",
    "plt.xlabel('Step')\n",
    "plt.ylim()"
   ]
  },
  {
   "cell_type": "code",
   "execution_count": null,
   "id": "a9bf0388",
   "metadata": {},
   "outputs": [],
   "source": [
    "def embed_mp4(filename):\n",
    "    \"\"\"Embeds an mp4 file in the notebook.\"\"\"\n",
    "    video = open(filename,'rb').read()\n",
    "    b64 = base64.b64encode(video)\n",
    "    tag = '''\n",
    "    <video width=\"640\" height=\"480\" controls>\n",
    "        <source src=\"data:video/mp4;base64,{0}\" type=\"video/mp4\">\n",
    "    Your browser does not support the video tag.\n",
    "    </video>'''.format(b64.decode())\n",
    "\n",
    "    return IPython.display.HTML(tag)"
   ]
  },
  {
   "cell_type": "code",
   "execution_count": null,
   "id": "23afc023",
   "metadata": {},
   "outputs": [],
   "source": [
    "num_episodes = 3\n",
    "video_filename = 'sac_cc_minitaur.mp4'\n",
    "with imageio.get_writer(video_filename, fps=60) as video:\n",
    "  for _ in range(num_episodes):\n",
    "    time_step = eval_env.reset()\n",
    "    video.append_data(eval_env.render())\n",
    "    while not time_step.is_last():\n",
    "      action_step = eval_actor.policy.action(time_step)\n",
    "      time_step = eval_env.step(action_step.action)\n",
    "      video.append_data(eval_env.render())\n",
    "\n",
    "embed_mp4(video_filename)"
   ]
  },
  {
   "cell_type": "code",
   "execution_count": null,
   "id": "ff796d08",
   "metadata": {},
   "outputs": [],
   "source": []
  }
 ],
 "metadata": {
  "interpreter": {
   "hash": "e91ad40280a1523fcdfd96f91d1b8381216a30d580c63036f713d86a53d5f08a"
  },
  "kernelspec": {
   "display_name": "agents",
   "language": "python",
   "name": "python3"
  },
  "language_info": {
   "codemirror_mode": {
    "name": "ipython",
    "version": 3
   },
   "file_extension": ".py",
   "mimetype": "text/x-python",
   "name": "python",
   "nbconvert_exporter": "python",
   "pygments_lexer": "ipython3",
   "version": "3.9.0"
  },
  "nbTranslate": {
   "displayLangs": [
    "*"
   ],
   "hotkey": "alt-t",
   "langInMainMenu": true,
   "sourceLang": "en",
   "targetLang": "fr",
   "useGoogleTranslate": true
  },
  "toc": {
   "base_numbering": 1,
   "nav_menu": {},
   "number_sections": true,
   "sideBar": true,
   "skip_h1_title": false,
   "title_cell": "Table of Contents",
   "title_sidebar": "Contents",
   "toc_cell": false,
   "toc_position": {},
   "toc_section_display": true,
   "toc_window_display": false
  },
  "varInspector": {
   "cols": {
    "lenName": 16,
    "lenType": 16,
    "lenVar": 40
   },
   "kernels_config": {
    "python": {
     "delete_cmd_postfix": "",
     "delete_cmd_prefix": "del ",
     "library": "var_list.py",
     "varRefreshCmd": "print(var_dic_list())"
    },
    "r": {
     "delete_cmd_postfix": ") ",
     "delete_cmd_prefix": "rm(",
     "library": "var_list.r",
     "varRefreshCmd": "cat(var_dic_list()) "
    }
   },
   "types_to_exclude": [
    "module",
    "function",
    "builtin_function_or_method",
    "instance",
    "_Feature"
   ],
   "window_display": false
  }
 },
 "nbformat": 4,
 "nbformat_minor": 5
}
